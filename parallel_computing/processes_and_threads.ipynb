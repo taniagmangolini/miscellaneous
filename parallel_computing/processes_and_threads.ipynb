{
  "nbformat": 4,
  "nbformat_minor": 0,
  "metadata": {
    "colab": {
      "provenance": []
    },
    "kernelspec": {
      "name": "python3",
      "display_name": "Python 3"
    },
    "language_info": {
      "name": "python"
    }
  },
  "cells": [
    {
      "cell_type": "markdown",
      "source": [
        "### Processes vs Threads"
      ],
      "metadata": {
        "id": "OCWpnpoT_PXj"
      }
    },
    {
      "cell_type": "code",
      "source": [
        "def do_something(thread_number):\n",
        "  print(f'Working {thread_number} ...')\n",
        "  time.sleep(0.15)\n",
        "  print(f'Thread {thread_number} was finished.')"
      ],
      "metadata": {
        "id": "7Fbo77kh_TBd"
      },
      "execution_count": null,
      "outputs": []
    },
    {
      "cell_type": "code",
      "source": [
        "# Python GIL (Global Interpreter Lock): apenas um thread é executado por vez.\n",
        "# Dessa forma, o desempenho do processo single-threaded e do processo multi-threaded será o mesmo em python e isso se deve ao GIL.\n",
        "# Para contornar essa limitação, é preciso recorrer ao Jython, Cython, Iron Phyton, ou usar processos, ao invés de threads, visto que\n",
        "# para processos não há essa limitação.\n",
        "# Um detalhe importante: quando você faz a cópia de um processo (fork), além das instruções, \n",
        "# o pool de dados em memória é também copiado para o novo processo (não compartilham).\n",
        "# Com threads é diferente, pois quando você cria threads elas compartilham o espaço de memória, ou seja, os dados são compartilhados entre elas.\n",
        "# Essas diferenças tornam o uso de processos mais exigentes em memória.\n",
        "import time\n",
        "from threading import Thread\n",
        "\n",
        "for i in range(5):\n",
        "  t = Thread(target=do_something, args=(i,))\n",
        "  t.start()"
      ],
      "metadata": {
        "colab": {
          "base_uri": "https://localhost:8080/"
        },
        "id": "4d-RT-1gCzIj",
        "outputId": "d88f74bf-4277-4307-b486-e7029da790cf"
      },
      "execution_count": null,
      "outputs": [
        {
          "output_type": "stream",
          "name": "stdout",
          "text": [
            "Working 0 ...\n",
            "Working 1 ...\n",
            "Working 2 ...Working 3 ...\n",
            "Working 4 ...\n",
            "\n",
            "Thread 0 was finished.\n",
            "Thread 1 was finished.\n",
            "Thread 3 was finished.\n",
            "Thread 2 was finished.\n",
            "Thread 4 was finished.\n"
          ]
        }
      ]
    },
    {
      "cell_type": "markdown",
      "source": [
        "Ha 3 formas de iniciar um processo em Python: spawn (apenas Linux), fork e forkserver.\n",
        "A diferença entre eles está na forma que a cópia do espaço de memória é feita.\n",
        "\n",
        "- Fork: é uma simples cópia do espaço de memória (Default no Unix). \n",
        "\n",
        "Fork()-ing the parent processes and continuing with the same processes image in both parent and child. This method is fast, but potentially unreliable when parent state is complex. When a process is forked the child process inherits all the same variables in the same state as they were in the parent. Each child process then continues independently from the forking point. \n",
        "\n",
        "- Spawn: não copia tudo. Apenas o que for necessário. Isso permite economizar um pouco de memória. É um pouco mais lento para iniciar. (Default no Windows e MacOS). When a process is spawned, it begins by starting a new Python interpreter. The current module is reimported and new versions of all the variables are created. As with forking, the child processes are independent of each other and the parent. Things such as logging configuration that are normally defined in the __name__ == '__main__' block of a script are not passed to the spawned processes. \n",
        "\n",
        "- Forkserver: é um modo intermediário que tenta salvar um pouco de memória e sendo um pouco mais rápido. Quando o processo é iniciado é feito um forkserver que fica salvo em uma região da memória. A partir dessa região, são feitos forks. Então, apenas a memória é clonada.\n",
        "When the program starts and selects the forkserver start method, a server process is started. \n",
        "From then on, whenever a new process is needed, the parent process connects to the server and requests that it fork a new process. Available on Unix platforms.\n",
        "It consists of a separate Python server with that has a relatively simple state and which is fork()-ed when a new processes is needed. This method combines the speed of Fork()-ing with good reliability (because the parent being forked is in a simple state).\n",
        "If you want something to be inherited by child processes from the parent, this must be specified in the forkserver state.\n",
        "https://stackoverflow.com/questions/63424251/multiprocessing-in-python-what-gets-inherited-by-forkserver-process-from-paren"
      ],
      "metadata": {
        "id": "apXo4WhLKHfm"
      }
    },
    {
      "cell_type": "code",
      "source": [
        "import multiprocessing\n",
        "from multiprocessing import Process"
      ],
      "metadata": {
        "id": "Y_YjqhgZM37i"
      },
      "execution_count": null,
      "outputs": []
    },
    {
      "cell_type": "code",
      "source": [
        "if __name__ == '__main__':\n",
        "  multiprocessing.set_start_method('spawn')\n",
        "  for i in range(5):\n",
        "    p = Process(target=do_something, args=(i,))\n",
        "    p.start()"
      ],
      "metadata": {
        "id": "pZn9OT6FGAD0"
      },
      "execution_count": null,
      "outputs": []
    },
    {
      "cell_type": "markdown",
      "source": [
        "### IPC - Interprocess Communication\n",
        "\n",
        "Can be done through messages and memory sharing."
      ],
      "metadata": {
        "id": "UfrNjiWZwgFi"
      }
    },
    {
      "cell_type": "markdown",
      "source": [
        "### Memory Sharing"
      ],
      "metadata": {
        "id": "5bkNDdzL_59h"
      }
    },
    {
      "cell_type": "code",
      "source": [
        "# No exemplo, a seguir, vamos testar o compartilhamento de memória entre threads.\n",
        "import json\n",
        "import urllib.request\n",
        "import time\n",
        "\n",
        "# global variable\n",
        "finished_count = 0\n",
        "\n",
        "def count_letters(url, frequency_table, thread_num, count=True):\n",
        "  \"\"\"Without mutex\"\"\"\n",
        "  print(f'counting letters {thread_num}...')\n",
        "  response = urllib.request.urlopen(url)\n",
        "  content = str(response.read())\n",
        "  for item in content:\n",
        "    if item.lower() in frequency_table:\n",
        "      frequency_table[item.lower()] += 1\n",
        "  if count:\n",
        "    global finished_count\n",
        "    finished_count += 1\n",
        "\n",
        "def count_letters_with_mutex(url, frequency_table, thread_num, mutex, count=True):\n",
        "  \"\"\"Using mutex to avoid race conditions\"\"\"\n",
        "  print(f'counting letters with mutex {thread_num}...')\n",
        "  response = urllib.request.urlopen(url)\n",
        "  content = str(response.read())\n",
        "  mutex.acquire()\n",
        "  for item in content:\n",
        "    if item.lower() in frequency_table:\n",
        "      frequency_table[item.lower()] += 1\n",
        "  if count:\n",
        "    global finished_count\n",
        "    finished_count += 1\n",
        "  mutex.release()\n",
        "\n",
        "def main():\n",
        "  frequency_table = {}\n",
        "  for letter in 'abcdefghijklmnopqrstuvxzwy':\n",
        "    frequency_table[letter] = 0\n",
        "\n",
        "  start = time.time()\n",
        "  for i in range(1000, 1020):\n",
        "    count_letters(f'http://www.rfc-editor.org/rfc/rfc{i}.txt', frequency_table, i, False)\n",
        "  end = time.time()\n",
        "\n",
        "  print(json.dumps(frequency_table, indent=4), end - start)\n",
        "\n",
        "main()"
      ],
      "metadata": {
        "colab": {
          "base_uri": "https://localhost:8080/"
        },
        "id": "2FpUJ1Wjwdsy",
        "outputId": "975477d7-15ee-4150-f2cd-6cb129fb267d"
      },
      "execution_count": null,
      "outputs": [
        {
          "output_type": "stream",
          "name": "stdout",
          "text": [
            "counting letters 1000...\n",
            "counting letters 1001...\n",
            "counting letters 1002...\n",
            "counting letters 1003...\n",
            "counting letters 1004...\n",
            "counting letters 1005...\n",
            "counting letters 1006...\n",
            "counting letters 1007...\n",
            "counting letters 1008...\n",
            "counting letters 1009...\n",
            "counting letters 1010...\n",
            "counting letters 1011...\n",
            "counting letters 1012...\n",
            "counting letters 1013...\n",
            "counting letters 1014...\n",
            "counting letters 1015...\n",
            "counting letters 1016...\n",
            "counting letters 1017...\n",
            "counting letters 1018...\n",
            "counting letters 1019...\n",
            "{\n",
            "    \"a\": 80014,\n",
            "    \"b\": 16998,\n",
            "    \"c\": 48003,\n",
            "    \"d\": 40501,\n",
            "    \"e\": 140093,\n",
            "    \"f\": 26074,\n",
            "    \"g\": 19010,\n",
            "    \"h\": 36316,\n",
            "    \"i\": 79913,\n",
            "    \"j\": 2170,\n",
            "    \"k\": 6614,\n",
            "    \"l\": 38305,\n",
            "    \"m\": 31176,\n",
            "    \"n\": 135371,\n",
            "    \"o\": 84258,\n",
            "    \"p\": 32270,\n",
            "    \"q\": 2835,\n",
            "    \"r\": 75326,\n",
            "    \"s\": 79790,\n",
            "    \"t\": 103557,\n",
            "    \"u\": 27572,\n",
            "    \"v\": 10580,\n",
            "    \"x\": 4719,\n",
            "    \"z\": 1115,\n",
            "    \"w\": 14195,\n",
            "    \"y\": 13914\n",
            "} 21.361895322799683\n"
          ]
        }
      ]
    },
    {
      "cell_type": "code",
      "source": [
        "# with thread\n",
        "# Quando as threads compartilham a memória e escrevem em conjunto um mesmo recurso, podem ocorrer inconsistências nos resultados devido a race conditions.\n",
        "# É preciso implementar sincronização entre elas para que isso não ocorra.\n",
        "# Veja como o tempo foi expressivamente menor usando threads!\n",
        "\n",
        "from threading import Thread\n",
        "\n",
        "def main_with_thread():\n",
        "  frequency_table = {}\n",
        "\n",
        "  for letter in 'abcdefghijklmnopqrstuvxzwy':\n",
        "    frequency_table[letter] = 0\n",
        "\n",
        "  start = time.time()\n",
        "  for i in range(1000, 1020):\n",
        "    t = Thread(target=count_letters, args=(f'http://www.rfc-editor.org/rfc/rfc{i}.txt', frequency_table, i)).start()\n",
        "  \n",
        "  # wait all threads to finish\n",
        "  print('finished_count', finished_count)\n",
        "  while finished_count < 20:\n",
        "    print('finished_count', finished_count)\n",
        "    time.sleep(0.5)\n",
        "\n",
        "  end = time.time()\n",
        "\n",
        "  time.sleep(1)\n",
        "  print(json.dumps(frequency_table, indent=4), end - start)\n",
        "\n",
        "main_with_thread()\n"
      ],
      "metadata": {
        "colab": {
          "base_uri": "https://localhost:8080/"
        },
        "id": "jUBtKX3G2FFE",
        "outputId": "93b41e72-0f3f-4d4a-9415-2be7a58cda4a"
      },
      "execution_count": null,
      "outputs": [
        {
          "output_type": "stream",
          "name": "stdout",
          "text": [
            "counting letters 1000...\n",
            "counting letters 1001...\n",
            "counting letters 1002...\n",
            "counting letters 1003...\n",
            "counting letters 1004...\n",
            "counting letters 1005...\n",
            "counting letters 1006...\n",
            "counting letters 1007...counting letters 1008...\n",
            "counting letters 1009...\n",
            "\n",
            "counting letters 1010...\n",
            "counting letters 1011...\n",
            "counting letters 1012...\n",
            "counting letters 1013...\n",
            "counting letters 1014...counting letters 1015...\n",
            "\n",
            "counting letters 1016...counting letters 1017...\n",
            "counting letters 1018...counting letters 1019...finished_count 0\n",
            "finished_count 0\n",
            "\n",
            "\n",
            "\n",
            "finished_count 0\n",
            "finished_count 5\n",
            "finished_count 19\n",
            "{\n",
            "    \"a\": 80014,\n",
            "    \"b\": 16998,\n",
            "    \"c\": 44441,\n",
            "    \"d\": 40501,\n",
            "    \"e\": 137747,\n",
            "    \"f\": 26074,\n",
            "    \"g\": 19010,\n",
            "    \"h\": 35984,\n",
            "    \"i\": 79913,\n",
            "    \"j\": 2170,\n",
            "    \"k\": 6614,\n",
            "    \"l\": 37732,\n",
            "    \"m\": 31176,\n",
            "    \"n\": 112290,\n",
            "    \"o\": 84258,\n",
            "    \"p\": 32270,\n",
            "    \"q\": 2835,\n",
            "    \"r\": 75326,\n",
            "    \"s\": 79790,\n",
            "    \"t\": 103557,\n",
            "    \"u\": 27572,\n",
            "    \"v\": 10580,\n",
            "    \"x\": 4719,\n",
            "    \"z\": 1115,\n",
            "    \"w\": 14195,\n",
            "    \"y\": 13914\n",
            "} 2.0491907596588135\n"
          ]
        }
      ]
    },
    {
      "cell_type": "markdown",
      "source": [
        "##### Sincronização de Threads com Mutexes Lock"
      ],
      "metadata": {
        "id": "-tkKgGiO_GYU"
      }
    },
    {
      "cell_type": "code",
      "source": [
        "# Mutexes são como cadeados. Quando uma thread estiver operando, há um bloqueio temporário que impede outras threads de executarem. Quando o bloqueio é liberado, outra thread entra em ação.\n",
        "# É garantido que apenas uma thread pode operar a cada momento. As demais threads ficam em estado de sleep até o lock ser liberado.\n",
        "\n",
        "import time\n",
        "from threading import Thread, Lock\n",
        "\n",
        "class StingySpendy:\n",
        "  money = 100\n",
        "  mutex = Lock()\n",
        "\n",
        "  def stingy(self):\n",
        "    for i in range(1000000):\n",
        "      self.mutex.acquire()\n",
        "      try:\n",
        "        self.money += 10\n",
        "      finally:\n",
        "        self.mutex.release()\n",
        "    print('Stingy done')\n",
        "\n",
        "  def spendy(self):\n",
        "    for i in range(1000000):\n",
        "      self.mutex.acquire()\n",
        "      try:\n",
        "        self.money -= 10\n",
        "      finally:\n",
        "        self.mutex.release()\n",
        "    print('Spendy done')\n",
        "\n",
        "ss = StingySpendy()\n",
        "Thread(target=ss.stingy, args=()).start()\n",
        "Thread(target=ss.spendy, args=()).start()\n",
        "time.sleep(10)\n",
        "print('Money in the end:', ss.money)"
      ],
      "metadata": {
        "id": "KkD8wrba_F07",
        "colab": {
          "base_uri": "https://localhost:8080/"
        },
        "outputId": "95ff65c3-c82f-4137-df33-bb6efb1d8514"
      },
      "execution_count": null,
      "outputs": [
        {
          "output_type": "stream",
          "name": "stdout",
          "text": [
            "Stingy done\n",
            "Spendy done\n",
            "Money in the end: 100\n"
          ]
        }
      ]
    },
    {
      "cell_type": "code",
      "source": [
        "# Add mutex to count_letters with threads.\n",
        "\n",
        "from threading import Thread, Lock\n",
        "\n",
        "def main_with_thread_and_mutex():\n",
        "  frequency_table = {}\n",
        "  mutex = Lock()\n",
        "\n",
        "  for letter in 'abcdefghijklmnopqrstuvxzwy':\n",
        "    frequency_table[letter] = 0\n",
        "\n",
        "  start = time.time()\n",
        "  for i in range(1000, 1020):\n",
        "    t = Thread(target=count_letters_with_mutex, args=(f'http://www.rfc-editor.org/rfc/rfc{i}.txt', frequency_table, i, mutex)).start()\n",
        "  \n",
        "  # wait all threads to finish\n",
        "  while True:\n",
        "    mutex.acquire()\n",
        "    if finished_count == 20:\n",
        "      print('Finished')\n",
        "      break\n",
        "    mutex.release()\n",
        "    time.sleep(10)\n",
        "    print('finished_count', finished_count)\n",
        "\n",
        "  end = time.time()\n",
        "  print(json.dumps(frequency_table, indent=4), end - start)\n",
        "\n",
        "main_with_thread_and_mutex()\n"
      ],
      "metadata": {
        "colab": {
          "base_uri": "https://localhost:8080/"
        },
        "id": "FCqUpPRV9RIO",
        "outputId": "f2e7e9b2-8414-4228-fb9c-c81d1c2c7cfe"
      },
      "execution_count": null,
      "outputs": [
        {
          "output_type": "stream",
          "name": "stdout",
          "text": [
            "counting letters with mutex 1000...counting letters with mutex 1001...\n",
            "\n",
            "counting letters with mutex 1002...\n",
            "counting letters with mutex 1003...\n",
            "counting letters with mutex 1004...\n",
            "counting letters with mutex 1005...\n",
            "counting letters with mutex 1006...\n",
            "counting letters with mutex 1007...\n",
            "counting letters with mutex 1008...\n",
            "counting letters with mutex 1009...counting letters with mutex 1010...\n",
            "counting letters with mutex 1011...\n",
            "\n",
            "counting letters with mutex 1012...\n",
            "counting letters with mutex 1013...\n",
            "counting letters with mutex 1014...\n",
            "counting letters with mutex 1015...counting letters with mutex 1016...\n",
            "\n",
            "counting letters with mutex 1017...\n",
            "counting letters with mutex 1018...\n",
            "counting letters with mutex 1019...\n",
            "finished_count 20\n",
            "Finished\n",
            "{\n",
            "    \"a\": 80014,\n",
            "    \"b\": 16998,\n",
            "    \"c\": 48003,\n",
            "    \"d\": 40501,\n",
            "    \"e\": 140093,\n",
            "    \"f\": 26074,\n",
            "    \"g\": 19010,\n",
            "    \"h\": 36316,\n",
            "    \"i\": 79913,\n",
            "    \"j\": 2170,\n",
            "    \"k\": 6614,\n",
            "    \"l\": 38305,\n",
            "    \"m\": 31176,\n",
            "    \"n\": 135371,\n",
            "    \"o\": 84258,\n",
            "    \"p\": 32270,\n",
            "    \"q\": 2835,\n",
            "    \"r\": 75326,\n",
            "    \"s\": 79790,\n",
            "    \"t\": 103557,\n",
            "    \"u\": 27572,\n",
            "    \"v\": 10580,\n",
            "    \"x\": 4719,\n",
            "    \"z\": 1115,\n",
            "    \"w\": 14195,\n",
            "    \"y\": 13914\n",
            "} 10.036461591720581\n"
          ]
        }
      ]
    },
    {
      "cell_type": "markdown",
      "source": [
        "##### Joins\n",
        "É uma outra forma de sincronização de threads que possibilita criar uma relação de dependência entre threads.\n",
        "Assim, uma thread parent pode entrar em modo de espera até suas threads filhas terminarem de processar alguma task."
      ],
      "metadata": {
        "id": "hZHzydb3DKQX"
      }
    },
    {
      "cell_type": "code",
      "source": [
        "import time\n",
        "from threading import Thread\n",
        "\n",
        "def child():\n",
        "  print('Child doing something...')\n",
        "  time.sleep(5)\n",
        "  print('child thread is done.')\n",
        "\n",
        "def parent():\n",
        "  t = Thread(target=child, args=([]))\n",
        "  t.start()\n",
        "  print('Parent thread is waiting using join')\n",
        "  t.join(timeout=10)\n",
        "  print('Parent thread can continue')\n",
        "\n",
        "parent()"
      ],
      "metadata": {
        "colab": {
          "base_uri": "https://localhost:8080/"
        },
        "id": "hK3UZAY0DJeH",
        "outputId": "4f517f5b-4d62-4a8b-b12f-c5eb635c1036"
      },
      "execution_count": null,
      "outputs": [
        {
          "output_type": "stream",
          "name": "stdout",
          "text": [
            "Child doing something...Parent thread is waiting using join\n",
            "\n",
            "child thread is done.\n",
            "Parent thread can continue\n"
          ]
        }
      ]
    },
    {
      "cell_type": "code",
      "source": [
        "# other exemple: concurrent directory search\n",
        "\n",
        "import os\n",
        "from os.path import isdir, join\n",
        "from threading import Thread, Lock\n",
        "\n",
        "mutex = Lock()\n",
        "matches = []\n",
        "\n",
        "def file_search(root, filename):\n",
        "  print('Searching in', root)\n",
        "  child_threads = []\n",
        "  for file in os.listdir(root):\n",
        "    full_path = join(root, file)\n",
        "    if filename in file:\n",
        "      mutex.acquire()\n",
        "      matches.append(full_path)\n",
        "      mutex.release()\n",
        "    if isdir(full_path):\n",
        "      #file_search(full_path, filename)\n",
        "      t = Thread(target=file_search, args=([full_path, filename]))\n",
        "      t.start()\n",
        "      child_threads.append(t)\n",
        "  for t in child_threads:\n",
        "    t.join()\n",
        "\n",
        "def main():\n",
        "  t = Thread(target=file_search, args=(['/content', 'findme.txt']))\n",
        "  t.start()\n",
        "  t.join()\n",
        "  print('matches: ', set(matches))\n",
        "main()"
      ],
      "metadata": {
        "colab": {
          "base_uri": "https://localhost:8080/"
        },
        "id": "ef8VZfGuGSLh",
        "outputId": "9d62e0b7-ea4b-4a70-c121-3d3b418e4fdf"
      },
      "execution_count": null,
      "outputs": [
        {
          "output_type": "stream",
          "name": "stdout",
          "text": [
            "Searching in /content\n",
            "Searching in /content/.config\n",
            "Searching in /content/.config/configurations\n",
            "Searching in /content/.config/configurationsSearching in /content/.config/logs\n",
            "Searching in /content/.config/logs/2023.02.09\n",
            "Searching in\n",
            " /content/.config/logs/2023.02.09\n",
            "Searching in /content/.config/logs\n",
            "Searching in /content/.config/logs/2023.02.09\n",
            "Searching in /content/.config/logs/2023.02.09\n",
            "Searching in /content/.config\n",
            "Searching in /content/sample_data\n",
            "Searching in /content/sample_data/minha_pasta\n",
            "Searching inSearching in /content/sample_data/minha_pasta/.ipynb_checkpoints\n",
            " Searching in/content/.config/configurations\n",
            " Searching in /content/.config/configurations\n",
            "/content/sample_data/minha_pasta/.ipynb_checkpoints\n",
            "Searching in /content/.config/logs\n",
            "Searching in /content/sample_data/minha_pasta\n",
            "Searching in /content/sample_data/.ipynb_checkpoints\n",
            "Searching in /content/sample_data/minha_pasta/.ipynb_checkpoints\n",
            "Searching in /content/sample_data/.ipynb_checkpoints\n",
            "Searching in /content/.config/logs/2023.02.09\n",
            "Searching in Searching in/content/sample_data/minha_pasta/.ipynb_checkpoints\n",
            " /content/.config/logs/2023.02.09\n",
            "Searching in Searching in/content/.config/logs\n",
            "Searching in /content/.config/logs/2023.02.09\n",
            " /content/sample_data\n",
            "Searching inSearching in  /content/.config/logs/2023.02.09\n",
            "/content/sample_data/minha_pasta\n",
            "Searching in /content/sample_data/minha_pasta/.ipynb_checkpoints\n",
            "Searching in /content/sample_data/minha_pasta/.ipynb_checkpoints\n",
            "Searching in /content/sample_data/minha_pasta\n",
            "Searching in /content/sample_data/.ipynb_checkpoints\n",
            "Searching in Searching in /content/sample_data/.ipynb_checkpoints\n",
            "/content/sample_data/minha_pasta/.ipynb_checkpoints\n",
            "Searching in /content/sample_data/minha_pasta/.ipynb_checkpoints\n",
            "matches:  {'/content/sample_data/minha_pasta/findme.txt'}\n"
          ]
        }
      ]
    },
    {
      "cell_type": "markdown",
      "source": [
        "#### Condition variables (notify and wait)"
      ],
      "metadata": {
        "id": "9411KVTYdIjc"
      }
    },
    {
      "cell_type": "code",
      "source": [
        "# Nesse exemplo vamos acrescentar uma variavel para verificar se spendy pode gastar dinheiro ou se tem que esperar o stingy acrescentar dinheiro, pois o saldo não poderá entrar no negativo\n",
        "# Quando não tiver dinheiro, spendy liberará o lock e esperará pela próxima oportunidade para gastar.\n",
        "# Para isso usamos Condition. Quando a condição não for atendida, usamos o método wait() para aguardar o sinal de liberação e\n",
        "# notify() para dar o sinal que permite tentar novamente.\n",
        "\n",
        "import time\n",
        "from threading import Thread, Condition\n",
        "\n",
        "class StingySpendy:\n",
        "  money = 100\n",
        "  condition = Condition()\n",
        "\n",
        "  def stingy(self):\n",
        "    for i in range(1000000):\n",
        "      self.condition.acquire()\n",
        "      try:\n",
        "\n",
        "        self.money += 10\n",
        "        # notify (signal) that money was added\n",
        "        self.condition.notify()\n",
        "\n",
        "      finally:\n",
        "        self.condition.release()\n",
        "    print('Stingy done')\n",
        "\n",
        "  def spendy(self):\n",
        "    for i in range(500000):\n",
        "      self.condition.acquire()\n",
        "      try:\n",
        "\n",
        "        # release te lock and wait for more money (signal)\n",
        "        while self.money < 20:\n",
        "          self.condition.wait()\n",
        "\n",
        "        self.money -= 20\n",
        "        if self.money < 0:\n",
        "          print('No money!', self.money)\n",
        "      finally:\n",
        "        self.condition.release()\n",
        "    print('Spendy done')\n",
        "\n",
        "ss = StingySpendy()\n",
        "Thread(target=ss.stingy, args=()).start()\n",
        "Thread(target=ss.spendy, args=()).start()\n",
        "time.sleep(10)\n",
        "print('Money in the end:', ss.money)"
      ],
      "metadata": {
        "colab": {
          "base_uri": "https://localhost:8080/"
        },
        "id": "ut0juSH-c9Gu",
        "outputId": "175cdaf9-ee0a-4a20-c8cb-b3ab5e845975"
      },
      "execution_count": null,
      "outputs": [
        {
          "output_type": "stream",
          "name": "stdout",
          "text": [
            "Stingy done\n",
            "Spendy done\n",
            "Money in the end: 100\n"
          ]
        }
      ]
    },
    {
      "cell_type": "code",
      "source": [
        "# Another exemple: concurrent directory search using threads waiting group\n",
        "# Wait Groups (wait and notify_all())\n",
        "\n",
        "from threading import Thread, Condition, Lock\n",
        "import os\n",
        "from os.path import isdir, join\n",
        "\n",
        "mutex = Lock()\n",
        "matches = []\n",
        "\n",
        "class WaitGroup():\n",
        "  \"\"\"Class to control a group of threads based on a condition\"\"\"\n",
        "\n",
        "  wait_count = 0 # count waiting threads\n",
        "  cv = Condition()\n",
        "\n",
        "  def add(self, count):\n",
        "    # add thread \n",
        "    self.cv.acquire()\n",
        "    self.wait_count += count\n",
        "    self.cv.release()\n",
        "  \n",
        "  def done(self):\n",
        "    self.cv.acquire()\n",
        "    if self.wait_count > 0:\n",
        "      self.wait_count -= 1\n",
        "    # check if all threads have finished\n",
        "    if self.wait_count == 0:\n",
        "      self.cv.notify_all()\n",
        "    self.cv.release()\n",
        "\n",
        "  def wait(self):\n",
        "    self.cv.acquire()\n",
        "    # wait threads to finish\n",
        "    while self.wait_count > 0:\n",
        "      self.cv.wait()\n",
        "    self.cv.release()"
      ],
      "metadata": {
        "id": "GroRD-tRhnnl"
      },
      "execution_count": null,
      "outputs": []
    },
    {
      "cell_type": "code",
      "source": [
        "def file_search(root, filename, wait_group):\n",
        "  print('Searching in', root)\n",
        "  for file in os.listdir(root):\n",
        "    full_path = join(root, file)\n",
        "    if filename in file:\n",
        "      mutex.acquire()\n",
        "      matches.append(full_path)\n",
        "      mutex.release()\n",
        "    if isdir(full_path):\n",
        "      # add thread to group\n",
        "      wait_group.add(1)\n",
        "      t = Thread(target=file_search, args=([full_path, filename, wait_group])).start()\n",
        "  # send signal to notify to waiters that the process was finished\n",
        "  wait_group.done()\n",
        "\n",
        "\n",
        "def main():\n",
        "  wait_group = WaitGroup()\n",
        "  # add thread to group\n",
        "  wait_group.add(1)\n",
        "  t = Thread(target=file_search, args=(['/content', 'README.md', wait_group])).start()\n",
        "  # waiting to done signal before proceed\n",
        "  wait_group.wait()\n",
        "  print('matches: ', set(matches))\n",
        "main()"
      ],
      "metadata": {
        "colab": {
          "base_uri": "https://localhost:8080/"
        },
        "id": "tR0JPLBnlw4R",
        "outputId": "6746d81f-8d77-457e-a0e4-da0e79791200"
      },
      "execution_count": null,
      "outputs": [
        {
          "output_type": "stream",
          "name": "stdout",
          "text": [
            "Searching in /content\n",
            "Searching inSearching in /content/sample_data\n",
            " /content/.config\n",
            "Searching in /content/.config/configurations\n",
            "Searching in /content/.config/logs\n",
            "Searching in /content/.config/logs/2023.02.09\n",
            "matches:  {'/content/sample_data/README.md'}\n"
          ]
        }
      ]
    },
    {
      "cell_type": "markdown",
      "source": [
        "#### Barriers"
      ],
      "metadata": {
        "id": "e_AlMPWT9DMe"
      }
    },
    {
      "cell_type": "markdown",
      "source": [
        "Barrier é uma outra forma de sincronizar processos e threads. Em um conjunto de n threads/processos, cada thread/processo que atingir a barreira ficará em espera até que os demais também cheguem. Quando todos os n estiverem na barreira, todos serão liberados simultaneamente para continuar o processamento."
      ],
      "metadata": {
        "id": "e7xUhzwF9GQ5"
      }
    },
    {
      "cell_type": "code",
      "source": [
        "from threading import Barrier, Thread\n",
        "import time\n",
        "\n",
        "barrier = Barrier(2) # the barrier will wait for 2 threads"
      ],
      "metadata": {
        "id": "p66SNaX34PeQ"
      },
      "execution_count": null,
      "outputs": []
    },
    {
      "cell_type": "code",
      "source": [
        "def wait_on_barrier(name, time_to_sleep):\n",
        "  time.sleep(time_to_sleep)\n",
        "  print(name, 'running')\n",
        "  for i in range(10):\n",
        "    print(name, 'waiting on barrier')\n",
        "    barrier.wait()\n",
        "  print(name, 'thread is finished')\n",
        "\n",
        "red = Thread(target=wait_on_barrier, args=['red', 1])\n",
        "blue = Thread(target=wait_on_barrier, args=['blue', 2])\n",
        "red.start()\n",
        "blue.start()\n",
        "print('Working...')\n",
        "time.sleep(20)\n",
        "print('Done.')"
      ],
      "metadata": {
        "colab": {
          "base_uri": "https://localhost:8080/"
        },
        "id": "aZCbqwJp-QlB",
        "outputId": "7e07ba9d-fe29-48c4-a5b3-1ccc2d5e9e80"
      },
      "execution_count": null,
      "outputs": [
        {
          "output_type": "stream",
          "name": "stdout",
          "text": [
            "Working...\n",
            "red running\n",
            "red waiting on barrier\n",
            "blue running\n",
            "blue waiting on barrier\n",
            "bluered waiting on barrier\n",
            " waiting on barrier\n",
            "blue waiting on barrier\n",
            "red waiting on barrier\n",
            "redblue waiting on barrier\n",
            " waiting on barrier\n",
            "blue waiting on barrier\n",
            "red waiting on barrier\n",
            "red waiting on barrier\n",
            "blue waiting on barrier\n",
            "blue waiting on barrier\n",
            "red waiting on barrier\n",
            "blue waiting on barrierred\n",
            " waiting on barrier\n",
            "red waiting on barrier\n",
            "blue waiting on barrier\n",
            "blue red waiting on barrier\n",
            "waiting on barrier\n",
            "blue thread is finished\n",
            "red thread is finished\n",
            "Done.\n"
          ]
        }
      ]
    },
    {
      "cell_type": "markdown",
      "source": [
        "A seguir, vamos usar barreiras para multiplicar matrizes, o que é computacionalmente bastante custoso."
      ],
      "metadata": {
        "id": "KZUi8yA5NHPi"
      }
    },
    {
      "cell_type": "code",
      "source": [
        "a = [[3, 1, -4], \n",
        "     [2, -3, 1], \n",
        "     [5, -2, 0]]\n",
        "\n",
        "b = [[ 1, -2, -1], \n",
        "     [ 0,  5,  4], \n",
        "     [-1, -2,  3]]\n",
        "\n",
        "matrix_size = 3\n",
        "result = [[0] * matrix_size for r in range(matrix_size)] # initialize a nxn matrix\n",
        "result"
      ],
      "metadata": {
        "colab": {
          "base_uri": "https://localhost:8080/"
        },
        "id": "iEpyOrUCFi0w",
        "outputId": "acc6208f-2638-44e0-ca2f-721e700e90dc"
      },
      "execution_count": null,
      "outputs": [
        {
          "output_type": "execute_result",
          "data": {
            "text/plain": [
              "[[0, 0, 0], [0, 0, 0], [0, 0, 0]]"
            ]
          },
          "metadata": {},
          "execution_count": 31
        }
      ]
    },
    {
      "cell_type": "code",
      "source": [
        "# complexity: n³\n",
        "start = time.time()\n",
        "for row in range(matrix_size):\n",
        "  for col in range(matrix_size):\n",
        "    for i in range(matrix_size):\n",
        "      result[row][col] += a[row][i] * b[i][col]\n",
        "end = time.time()\n",
        "print('Time to complete', end-start)"
      ],
      "metadata": {
        "colab": {
          "base_uri": "https://localhost:8080/"
        },
        "id": "w46LTewpOpoK",
        "outputId": "b59db677-1a99-45e0-9947-33dcec582227"
      },
      "execution_count": null,
      "outputs": [
        {
          "output_type": "stream",
          "name": "stdout",
          "text": [
            "Time to complete 0.00017452239990234375\n"
          ]
        }
      ]
    },
    {
      "cell_type": "code",
      "source": [
        "result"
      ],
      "metadata": {
        "colab": {
          "base_uri": "https://localhost:8080/"
        },
        "id": "FEJCKR7cSy5g",
        "outputId": "e62228f6-c3ef-477f-e221-8ac3322d96f5"
      },
      "execution_count": null,
      "outputs": [
        {
          "output_type": "execute_result",
          "data": {
            "text/plain": [
              "[[7, 7, -11], [1, -21, -11], [5, -20, -13]]"
            ]
          },
          "metadata": {},
          "execution_count": 33
        }
      ]
    },
    {
      "cell_type": "markdown",
      "source": [
        "Mesma lógica, mas usando matrizes maiores, geradas randomicamente"
      ],
      "metadata": {
        "id": "XwKE6-MQQiei"
      }
    },
    {
      "cell_type": "code",
      "source": [
        "from random import Random\n",
        "\n",
        "random = Random()\n",
        "matrix_size = 100\n",
        "\n",
        "a_random = [[0] * matrix_size for r in range(matrix_size)] \n",
        "b_random = [[0] * matrix_size for r in range(matrix_size)] \n",
        "result_random = [[0] * matrix_size for r in range(matrix_size)] \n",
        "\n",
        "def generate_random_matrix(matrix):\n",
        "  for row in range(matrix_size):\n",
        "    for col in range(matrix_size):\n",
        "      result_random[row][col] = random.randint(-5,5)\n",
        "\n",
        "generate_random_matrix(a_random)\n",
        "generate_random_matrix(b_random)\n",
        "\n",
        "start = time.time()\n",
        "for i in range(2):\n",
        "  for row in range(matrix_size):\n",
        "    for col in range(matrix_size):\n",
        "      for i in range(matrix_size):\n",
        "        result_random[row][col] += a_random[row][i] * b_random[i][col]\n",
        "end = time.time()\n",
        "print('Time to complete', end-start)"
      ],
      "metadata": {
        "colab": {
          "base_uri": "https://localhost:8080/"
        },
        "id": "a6rIeKaOQg94",
        "outputId": "5fcce7ec-8b15-408a-8098-0c3ab8e6df86"
      },
      "execution_count": null,
      "outputs": [
        {
          "output_type": "stream",
          "name": "stdout",
          "text": [
            "Time to complete 1.6182448863983154\n"
          ]
        }
      ]
    },
    {
      "cell_type": "markdown",
      "source": [
        "Agora, vamos criar a versão multithread. Haverá um tímido ganho de performance por causa do  Python Global Interpreter Lock (GIL). Adiante, isso será contornado com o uso de processos, ao invés de threads."
      ],
      "metadata": {
        "id": "dx_Trl0KTUg4"
      }
    },
    {
      "cell_type": "code",
      "source": [
        "from random import Random\n",
        "from threading import Barrier, Thread\n",
        "import time\n",
        "\n",
        "random = Random()\n",
        "\n",
        "# initialize matrices\n",
        "matrix_size = 100\n",
        "a_random = [[0] * matrix_size for r in range(matrix_size)] \n",
        "b_random = [[0] * matrix_size for r in range(matrix_size)] \n",
        "result_random = [[0] * matrix_size for r in range(matrix_size)] \n",
        "\n",
        "# create barriers\n",
        "start_barrier = Barrier(matrix_size + 1) # one thread per row plus a parent thread\n",
        "complete_barrier = Barrier(matrix_size + 1) # one thread per row plus a parent thread\n",
        "\n",
        "def multiply_matrices(row):\n",
        "  while True:\n",
        "    start_barrier.wait()\n",
        "    for col in range(matrix_size):\n",
        "        for i in range(matrix_size):\n",
        "          result_random[row][col] += a_random[row][i] * b_random[i][col]\n",
        "    complete_barrier.wait()\n",
        "\n",
        "def generate_random_matrix(matrix):\n",
        "  for row in range(matrix_size):\n",
        "    for col in range(matrix_size):\n",
        "      result_random[row][col] = random.randint(-5,5)\n",
        "\n",
        "for row in range(matrix_size):\n",
        "  Thread(target=multiply_matrices, args=([row])).start()\n",
        "\n",
        "start = time.time()\n",
        "\n",
        "for i in range(2):\n",
        "  generate_random_matrix(a_random)\n",
        "  generate_random_matrix(b_random)\n",
        "  result_random = [[0] * matrix_size for r in range(matrix_size)] \n",
        "  start_barrier.wait() # at this point, the barrier will be released to all threads start together!\n",
        "  complete_barrier.wait() # at this point the jobs are all completed and we could go to the next operation/iteration\n",
        "\n",
        "end = time.time()\n",
        "print('Total time', end-start)"
      ],
      "metadata": {
        "colab": {
          "base_uri": "https://localhost:8080/"
        },
        "id": "hGiUUZf6R0oq",
        "outputId": "cc3e16f5-a32e-48bd-d7f5-42af08d5b534"
      },
      "execution_count": null,
      "outputs": [
        {
          "output_type": "stream",
          "name": "stdout",
          "text": [
            "Total time 0.721651554107666\n"
          ]
        }
      ]
    },
    {
      "cell_type": "markdown",
      "source": [
        "#### Processes\n",
        "\n",
        "Como processos não compartilham a mesma área de memória, a comunicação entre eles é feita por meio de mensagens. Há outras opções, como compartilhamento de arquivos, ou mesmo criar uma área de memória compartilhada entre eles."
      ],
      "metadata": {
        "id": "4AiQdQh0h3Zg"
      }
    },
    {
      "cell_type": "code",
      "source": [
        "import multiprocessing\n",
        "from multiprocessing import Process\n",
        "import time\n",
        "\n",
        "def print_array_content(array):\n",
        "  while True:\n",
        "    print(*array, sep=',')\n",
        "    time.sleep(1)\n",
        "\n",
        "\n",
        "if __name__ == '__main__':\n",
        "  arr = [-1]*10\n",
        "\n",
        "  # quando criamos um processo, passamos uma cópia do espaço de memória\n",
        "  # assim, tem tem uma copia de arr e nao arr original.\n",
        "  # por isso, as alterações em arr não sao exibidas ao percorre-la\n",
        "  # na função print_array_content.\n",
        "  p = Process(target=print_array_content, args=([arr])).start()\n",
        "\n",
        "  for i in range(10):\n",
        "    time.sleep(2)\n",
        "    for j in range(10):\n",
        "      arr[j] = i\n",
        "\n",
        "\n"
      ],
      "metadata": {
        "id": "-SWFCPMYSTDz",
        "colab": {
          "base_uri": "https://localhost:8080/",
          "height": 573
        },
        "outputId": "4271a337-93e2-4bf7-9153-718d321f077d"
      },
      "execution_count": 2,
      "outputs": [
        {
          "output_type": "stream",
          "name": "stdout",
          "text": [
            "-1,-1,-1,-1,-1,-1,-1,-1,-1,-1\n",
            "-1,-1,-1,-1,-1,-1,-1,-1,-1,-1\n",
            "-1,-1,-1,-1,-1,-1,-1,-1,-1,-1\n",
            "-1,-1,-1,-1,-1,-1,-1,-1,-1,-1\n",
            "-1,-1,-1,-1,-1,-1,-1,-1,-1,-1\n",
            "-1,-1,-1,-1,-1,-1,-1,-1,-1,-1\n",
            "-1,-1,-1,-1,-1,-1,-1,-1,-1,-1\n",
            "-1,-1,-1,-1,-1,-1,-1,-1,-1,-1\n",
            "-1,-1,-1,-1,-1,-1,-1,-1,-1,-1\n"
          ]
        },
        {
          "output_type": "stream",
          "name": "stderr",
          "text": [
            "Process Process-2:\n",
            "Traceback (most recent call last):\n",
            "  File \"/usr/lib/python3.8/multiprocessing/process.py\", line 315, in _bootstrap\n",
            "    self.run()\n",
            "  File \"/usr/lib/python3.8/multiprocessing/process.py\", line 108, in run\n",
            "    self._target(*self._args, **self._kwargs)\n"
          ]
        },
        {
          "output_type": "error",
          "ename": "KeyboardInterrupt",
          "evalue": "ignored",
          "traceback": [
            "\u001b[0;31m---------------------------------------------------------------------------\u001b[0m",
            "\u001b[0;31mKeyboardInterrupt\u001b[0m                         Traceback (most recent call last)",
            "\u001b[0;32m<ipython-input-2-ee2901a3ad1a>\u001b[0m in \u001b[0;36m<module>\u001b[0;34m\u001b[0m\n\u001b[1;32m     14\u001b[0m \u001b[0;34m\u001b[0m\u001b[0m\n\u001b[1;32m     15\u001b[0m   \u001b[0;32mfor\u001b[0m \u001b[0mi\u001b[0m \u001b[0;32min\u001b[0m \u001b[0mrange\u001b[0m\u001b[0;34m(\u001b[0m\u001b[0;36m10\u001b[0m\u001b[0;34m)\u001b[0m\u001b[0;34m:\u001b[0m\u001b[0;34m\u001b[0m\u001b[0;34m\u001b[0m\u001b[0m\n\u001b[0;32m---> 16\u001b[0;31m     \u001b[0mtime\u001b[0m\u001b[0;34m.\u001b[0m\u001b[0msleep\u001b[0m\u001b[0;34m(\u001b[0m\u001b[0;36m2\u001b[0m\u001b[0;34m)\u001b[0m\u001b[0;34m\u001b[0m\u001b[0;34m\u001b[0m\u001b[0m\n\u001b[0m\u001b[1;32m     17\u001b[0m     \u001b[0;32mfor\u001b[0m \u001b[0mj\u001b[0m \u001b[0;32min\u001b[0m \u001b[0mrange\u001b[0m\u001b[0;34m(\u001b[0m\u001b[0;36m10\u001b[0m\u001b[0;34m)\u001b[0m\u001b[0;34m:\u001b[0m\u001b[0;34m\u001b[0m\u001b[0;34m\u001b[0m\u001b[0m\n\u001b[1;32m     18\u001b[0m       \u001b[0marr\u001b[0m\u001b[0;34m[\u001b[0m\u001b[0mj\u001b[0m\u001b[0;34m]\u001b[0m \u001b[0;34m=\u001b[0m \u001b[0mi\u001b[0m\u001b[0;34m\u001b[0m\u001b[0;34m\u001b[0m\u001b[0m\n",
            "\u001b[0;31mKeyboardInterrupt\u001b[0m: "
          ]
        },
        {
          "output_type": "stream",
          "name": "stderr",
          "text": [
            "  File \"<ipython-input-2-ee2901a3ad1a>\", line 8, in print_array_content\n",
            "    time.sleep(1)\n",
            "KeyboardInterrupt\n"
          ]
        }
      ]
    },
    {
      "cell_type": "markdown",
      "source": [
        "A seguir, vamos alterar o programa para compartilhar o espaço de memória.\n",
        "Para isso, vamos usar Array do pacote multiprocessing."
      ],
      "metadata": {
        "id": "yN2A-LUXlekm"
      }
    },
    {
      "cell_type": "code",
      "source": [
        "import multiprocessing\n",
        "from multiprocessing import Process\n",
        "import time\n",
        "\n",
        "def print_array_content(array):\n",
        "  while True:\n",
        "    print(*array, sep=',')\n",
        "    time.sleep(1)\n",
        "\n",
        "\n",
        "if __name__ == '__main__':\n",
        "  # criando um array de inteiros (i) compartilhado\n",
        "  # lock permite sincronizar o acesso a esse array (o default é True)\n",
        "  # com essa modificação, vamos visualizar a alteração no array.\n",
        "  # uma limitacao importante, é que somente é possível compartilhar \n",
        "  # variáveis básicas e arrays de uma dimensao.\n",
        "  # para contornar isso, pode ser necessario transformar um array 2D em 1D.\n",
        "  arr = multiprocessing.Array('i', [-1]*10, lock=True)\n",
        "  p = Process(target=print_array_content, args=([arr])).start()\n",
        "\n",
        "  for i in range(10):\n",
        "    time.sleep(2)\n",
        "    for j in range(10):\n",
        "      arr[j] = i\n",
        "\n",
        "\n"
      ],
      "metadata": {
        "colab": {
          "base_uri": "https://localhost:8080/",
          "height": 518
        },
        "id": "pItF46YDldh9",
        "outputId": "cb8f6461-a583-4699-ae66-826b8bbac49c"
      },
      "execution_count": 3,
      "outputs": [
        {
          "output_type": "stream",
          "name": "stdout",
          "text": [
            "-1,-1,-1,-1,-1,-1,-1,-1,-1,-1\n",
            "-1,-1,-1,-1,-1,-1,-1,-1,-1,-1\n",
            "0,0,0,0,0,0,0,0,0,0\n",
            "0,0,0,0,0,0,0,0,0,0\n",
            "1,1,1,1,1,1,1,1,1,1\n",
            "1,1,1,1,1,1,1,1,1,1\n"
          ]
        },
        {
          "output_type": "stream",
          "name": "stderr",
          "text": [
            "Process Process-3:\n",
            "Traceback (most recent call last):\n",
            "  File \"/usr/lib/python3.8/multiprocessing/process.py\", line 315, in _bootstrap\n",
            "    self.run()\n",
            "  File \"/usr/lib/python3.8/multiprocessing/process.py\", line 108, in run\n",
            "    self._target(*self._args, **self._kwargs)\n",
            "  File \"<ipython-input-3-7588bbd38af9>\", line 8, in print_array_content\n",
            "    time.sleep(1)\n",
            "KeyboardInterrupt\n"
          ]
        },
        {
          "output_type": "error",
          "ename": "KeyboardInterrupt",
          "evalue": "ignored",
          "traceback": [
            "\u001b[0;31m---------------------------------------------------------------------------\u001b[0m",
            "\u001b[0;31mKeyboardInterrupt\u001b[0m                         Traceback (most recent call last)",
            "\u001b[0;32m<ipython-input-3-7588bbd38af9>\u001b[0m in \u001b[0;36m<module>\u001b[0;34m\u001b[0m\n\u001b[1;32m     17\u001b[0m \u001b[0;34m\u001b[0m\u001b[0m\n\u001b[1;32m     18\u001b[0m   \u001b[0;32mfor\u001b[0m \u001b[0mi\u001b[0m \u001b[0;32min\u001b[0m \u001b[0mrange\u001b[0m\u001b[0;34m(\u001b[0m\u001b[0;36m10\u001b[0m\u001b[0;34m)\u001b[0m\u001b[0;34m:\u001b[0m\u001b[0;34m\u001b[0m\u001b[0;34m\u001b[0m\u001b[0m\n\u001b[0;32m---> 19\u001b[0;31m     \u001b[0mtime\u001b[0m\u001b[0;34m.\u001b[0m\u001b[0msleep\u001b[0m\u001b[0;34m(\u001b[0m\u001b[0;36m2\u001b[0m\u001b[0;34m)\u001b[0m\u001b[0;34m\u001b[0m\u001b[0;34m\u001b[0m\u001b[0m\n\u001b[0m\u001b[1;32m     20\u001b[0m     \u001b[0;32mfor\u001b[0m \u001b[0mj\u001b[0m \u001b[0;32min\u001b[0m \u001b[0mrange\u001b[0m\u001b[0;34m(\u001b[0m\u001b[0;36m10\u001b[0m\u001b[0;34m)\u001b[0m\u001b[0;34m:\u001b[0m\u001b[0;34m\u001b[0m\u001b[0;34m\u001b[0m\u001b[0m\n\u001b[1;32m     21\u001b[0m       \u001b[0marr\u001b[0m\u001b[0;34m[\u001b[0m\u001b[0mj\u001b[0m\u001b[0;34m]\u001b[0m \u001b[0;34m=\u001b[0m \u001b[0mi\u001b[0m\u001b[0;34m\u001b[0m\u001b[0;34m\u001b[0m\u001b[0m\n",
            "\u001b[0;31mKeyboardInterrupt\u001b[0m: "
          ]
        }
      ]
    },
    {
      "cell_type": "markdown",
      "source": [
        "No próximo exemplo, o programa que calcula a multiplicação de matrizes será alterado para usar processos, ao invés de threads.\n",
        "Recordando, processos consomem muito mais memória do que threads."
      ],
      "metadata": {
        "id": "44GzNlvxnA8T"
      }
    },
    {
      "cell_type": "code",
      "source": [
        "from random import Random\n",
        "import multiprocessing\n",
        "from multiprocessing import Barrier, Process\n",
        "import time\n",
        "\n",
        "random = Random()\n",
        "MATRIX_SIZE = 100\n",
        "TOTAL_PROCESSES = 8 \n",
        "\n",
        "def multiply_matrices(id, \n",
        "                      matrix_a, \n",
        "                      matrix_b, \n",
        "                      matrix_result, \n",
        "                      start_barrier, \n",
        "                      complete_barrier):\n",
        "  while True:\n",
        "    start_barrier.wait()\n",
        "    for row in range(id, MATRIX_SIZE, TOTAL_PROCESSES):\n",
        "      for col in range(MATRIX_SIZE):\n",
        "        for i in range(MATRIX_SIZE):\n",
        "          matrix_result[row * MATRIX_SIZE + col] += matrix_a[row * MATRIX_SIZE + i] * matrix_b[i * MATRIX_SIZE + col]\n",
        "    complete_barrier.wait()\n",
        "\n",
        "def generate_random_matrix(matrix):\n",
        "  for row in range(MATRIX_SIZE):\n",
        "    for col in range(MATRIX_SIZE):\n",
        "      result_matrix[row * MATRIX_SIZE + col] = random.randint(-5,5)\n",
        "\n",
        "if __name__ == '__main__':\n",
        "  # Google Colab doesn't support multiprocessing \"spwan\" start method\n",
        "  multiprocessing.set_start_method('fork')\n",
        "\n",
        "  # create barriers\n",
        "  start_barrier = Barrier(TOTAL_PROCESSES + 1) # 8 processe plus a parent \n",
        "  complete_barrier = Barrier(TOTAL_PROCESSES + 1) # 8 processe plus a parent\n",
        "\n",
        "  # initialize matrices\n",
        "  a_random = multiprocessing.Array('i', [0] * MATRIX_SIZE * MATRIX_SIZE, lock=False)\n",
        "  b_random = multiprocessing.Array('i', [0] * MATRIX_SIZE * MATRIX_SIZE, lock=False)\n",
        "  result_matrix = multiprocessing.Array('i', [0] * MATRIX_SIZE * MATRIX_SIZE, lock=False)\n",
        "\n",
        "  for p in range(TOTAL_PROCESSES):\n",
        "    Process(target=multiply_matrices, args=(p,\n",
        "                                            a_random, \n",
        "                                            b_random, \n",
        "                                            result_matrix, \n",
        "                                            start_barrier, \n",
        "                                            complete_barrier)).start()\n",
        "  start = time.time()\n",
        "  for i in range(2):\n",
        "    generate_random_matrix(a_random)\n",
        "    generate_random_matrix(b_random)\n",
        "\n",
        "    #reset result matrix\n",
        "    for i in range(MATRIX_SIZE * MATRIX_SIZE):\n",
        "      result_matrix[i] = 0\n",
        "\n",
        "    start_barrier.wait() # at this point, the barrier will be released to all processes start together!\n",
        "    complete_barrier.wait() # at this point the jobs are all completed and we could go to the next operation/iteration\n",
        "\n",
        "  end = time.time()\n",
        "  print('Total time', end-start)"
      ],
      "metadata": {
        "colab": {
          "base_uri": "https://localhost:8080/"
        },
        "id": "wycx6Vq0nAfX",
        "outputId": "1881dc74-5f5f-42e3-e4cf-02a47cb0d3fb"
      },
      "execution_count": 1,
      "outputs": [
        {
          "output_type": "stream",
          "name": "stdout",
          "text": [
            "Total time 1.2286911010742188\n"
          ]
        }
      ]
    },
    {
      "cell_type": "code",
      "source": [],
      "metadata": {
        "id": "_aiYRWWTmkxa"
      },
      "execution_count": null,
      "outputs": []
    }
  ]
}