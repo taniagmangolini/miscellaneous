{
  "nbformat": 4,
  "nbformat_minor": 0,
  "metadata": {
    "colab": {
      "provenance": []
    },
    "kernelspec": {
      "name": "python3",
      "display_name": "Python 3"
    },
    "language_info": {
      "name": "python"
    }
  },
  "cells": [
    {
      "cell_type": "code",
      "source": [
        "def do_something(thread_number):\n",
        "  print(f'Working {thread_number} ...')\n",
        "  time.sleep(0.15)\n",
        "  print(f'Thread {thread_number} was finished.')"
      ],
      "metadata": {
        "id": "MYcwSdcYM6u2"
      },
      "execution_count": 1,
      "outputs": []
    },
    {
      "cell_type": "code",
      "source": [
        "# Python GIL (Global Interpreter Lock): apenas um thread é executado por vez.\n",
        "# Dessa forma, o desempenho do processo single-threaded e do processo multi-threaded será o mesmo em python e isso se deve ao GIL.\n",
        "# Para contornar essa limitação, é preciso recorrer ao Jython, Cython, Iron Phyton, ou usar processos, ao invés de threads, visto que\n",
        "# para processos não há essa limitação.\n",
        "# Um detalhe importante: quando você faz a cópia de um processo (fork), além das instruções, \n",
        "# o pool de dados em memória é também copiado para o novo processo (não compartilham).\n",
        "# Com threads é diferente, pois quando você cria threads elas compartilham o espaço de memória, ou seja, os dados são compartilhados entre elas.\n",
        "# Essas diferenças tornam o uso de processos mais exigentes em memória.\n",
        "import time\n",
        "from threading import Thread\n",
        "\n",
        "for i in range(5):\n",
        "  t = Thread(target=do_something, args=(i,))\n",
        "  t.start()"
      ],
      "metadata": {
        "colab": {
          "base_uri": "https://localhost:8080/"
        },
        "id": "4d-RT-1gCzIj",
        "outputId": "d88f74bf-4277-4307-b486-e7029da790cf"
      },
      "execution_count": 26,
      "outputs": [
        {
          "output_type": "stream",
          "name": "stdout",
          "text": [
            "Working 0 ...\n",
            "Working 1 ...\n",
            "Working 2 ...Working 3 ...\n",
            "Working 4 ...\n",
            "\n",
            "Thread 0 was finished.\n",
            "Thread 1 was finished.\n",
            "Thread 3 was finished.\n",
            "Thread 2 was finished.\n",
            "Thread 4 was finished.\n"
          ]
        }
      ]
    },
    {
      "cell_type": "markdown",
      "source": [
        "Ha 3 formas de iniciar um processo em Python: spawn (apenas Linux), fork e forkserver.\n",
        "A diferença entre eles está na forma que a cópia do espaço de memória é feita.\n",
        "\n",
        "- Fork: é uma simples cópia do espaço de memória (Default no Unix). \n",
        "\n",
        "Fork()-ing the parent processes and continuing with the same processes image in both parent and child. This method is fast, but potentially unreliable when parent state is complex\n",
        "\n",
        "- Spawn: não copia tudo. Apenas o que for necessário. Isso permite economizar um pouco de memória. É um pouco mais lento para iniciar. (Default no Windows e MacOS)\n",
        "\n",
        "- Forkserver: é um modo intermediário que tenta salvar um pouco de memória e sendo um pouco mais rápido. Quando o processo é iniciado é feito um forkserver que fica salvo em uma região da memória. A partir dessa região, são feitos forks. Então, apenas a memória é clonada.\n",
        "When the program starts and selects the forkserver start method, a server process is started. \n",
        "From then on, whenever a new process is needed, the parent process connects to the server and requests that it fork a new process. Available on Unix platforms.\n",
        "It consists of a separate Python server with that has a relatively simple state and which is fork()-ed when a new processes is needed. This method combines the speed of Fork()-ing with good reliability (because the parent being forked is in a simple state).\n",
        "If you want something to be inherited by child processes from the parent, this must be specified in the forkserver state.\n",
        "https://stackoverflow.com/questions/63424251/multiprocessing-in-python-what-gets-inherited-by-forkserver-process-from-paren"
      ],
      "metadata": {
        "id": "apXo4WhLKHfm"
      }
    },
    {
      "cell_type": "code",
      "source": [
        "import multiprocessing\n",
        "from multiprocessing import Process"
      ],
      "metadata": {
        "id": "Y_YjqhgZM37i"
      },
      "execution_count": 2,
      "outputs": []
    },
    {
      "cell_type": "code",
      "source": [
        "if __name__ == '__main__':\n",
        "  multiprocessing.set_start_method('spawn')\n",
        "  for i in range(5):\n",
        "    p = Process(target=do_something, args=(i,))\n",
        "    p.start()"
      ],
      "metadata": {
        "id": "pZn9OT6FGAD0"
      },
      "execution_count": 3,
      "outputs": []
    }
  ]
}