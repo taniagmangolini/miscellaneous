{
  "nbformat": 4,
  "nbformat_minor": 0,
  "metadata": {
    "colab": {
      "provenance": []
    },
    "kernelspec": {
      "name": "python3",
      "display_name": "Python 3"
    },
    "language_info": {
      "name": "python"
    }
  },
  "cells": [
    {
      "cell_type": "markdown",
      "source": [
        "### Processes vs Threads"
      ],
      "metadata": {
        "id": "OCWpnpoT_PXj"
      }
    },
    {
      "cell_type": "code",
      "source": [
        "def do_something(thread_number):\n",
        "  print(f'Working {thread_number} ...')\n",
        "  time.sleep(0.15)\n",
        "  print(f'Thread {thread_number} was finished.')"
      ],
      "metadata": {
        "id": "7Fbo77kh_TBd"
      },
      "execution_count": null,
      "outputs": []
    },
    {
      "cell_type": "code",
      "source": [
        "# Python GIL (Global Interpreter Lock): apenas um thread é executado por vez.\n",
        "# Dessa forma, o desempenho do processo single-threaded e do processo multi-threaded será o mesmo em python e isso se deve ao GIL.\n",
        "# Para contornar essa limitação, é preciso recorrer ao Jython, Cython, Iron Phyton, ou usar processos, ao invés de threads, visto que\n",
        "# para processos não há essa limitação.\n",
        "# Um detalhe importante: quando você faz a cópia de um processo (fork), além das instruções, \n",
        "# o pool de dados em memória é também copiado para o novo processo (não compartilham).\n",
        "# Com threads é diferente, pois quando você cria threads elas compartilham o espaço de memória, ou seja, os dados são compartilhados entre elas.\n",
        "# Essas diferenças tornam o uso de processos mais exigentes em memória.\n",
        "import time\n",
        "from threading import Thread\n",
        "\n",
        "for i in range(5):\n",
        "  t = Thread(target=do_something, args=(i,))\n",
        "  t.start()"
      ],
      "metadata": {
        "colab": {
          "base_uri": "https://localhost:8080/"
        },
        "id": "4d-RT-1gCzIj",
        "outputId": "d88f74bf-4277-4307-b486-e7029da790cf"
      },
      "execution_count": null,
      "outputs": [
        {
          "output_type": "stream",
          "name": "stdout",
          "text": [
            "Working 0 ...\n",
            "Working 1 ...\n",
            "Working 2 ...Working 3 ...\n",
            "Working 4 ...\n",
            "\n",
            "Thread 0 was finished.\n",
            "Thread 1 was finished.\n",
            "Thread 3 was finished.\n",
            "Thread 2 was finished.\n",
            "Thread 4 was finished.\n"
          ]
        }
      ]
    },
    {
      "cell_type": "markdown",
      "source": [
        "Ha 3 formas de iniciar um processo em Python: spawn (apenas Linux), fork e forkserver.\n",
        "A diferença entre eles está na forma que a cópia do espaço de memória é feita.\n",
        "\n",
        "- Fork: é uma simples cópia do espaço de memória (Default no Unix). \n",
        "\n",
        "Fork()-ing the parent processes and continuing with the same processes image in both parent and child. This method is fast, but potentially unreliable when parent state is complex\n",
        "\n",
        "- Spawn: não copia tudo. Apenas o que for necessário. Isso permite economizar um pouco de memória. É um pouco mais lento para iniciar. (Default no Windows e MacOS)\n",
        "\n",
        "- Forkserver: é um modo intermediário que tenta salvar um pouco de memória e sendo um pouco mais rápido. Quando o processo é iniciado é feito um forkserver que fica salvo em uma região da memória. A partir dessa região, são feitos forks. Então, apenas a memória é clonada.\n",
        "When the program starts and selects the forkserver start method, a server process is started. \n",
        "From then on, whenever a new process is needed, the parent process connects to the server and requests that it fork a new process. Available on Unix platforms.\n",
        "It consists of a separate Python server with that has a relatively simple state and which is fork()-ed when a new processes is needed. This method combines the speed of Fork()-ing with good reliability (because the parent being forked is in a simple state).\n",
        "If you want something to be inherited by child processes from the parent, this must be specified in the forkserver state.\n",
        "https://stackoverflow.com/questions/63424251/multiprocessing-in-python-what-gets-inherited-by-forkserver-process-from-paren"
      ],
      "metadata": {
        "id": "apXo4WhLKHfm"
      }
    },
    {
      "cell_type": "code",
      "source": [
        "import multiprocessing\n",
        "from multiprocessing import Process"
      ],
      "metadata": {
        "id": "Y_YjqhgZM37i"
      },
      "execution_count": null,
      "outputs": []
    },
    {
      "cell_type": "code",
      "source": [
        "if __name__ == '__main__':\n",
        "  multiprocessing.set_start_method('spawn')\n",
        "  for i in range(5):\n",
        "    p = Process(target=do_something, args=(i,))\n",
        "    p.start()"
      ],
      "metadata": {
        "id": "pZn9OT6FGAD0"
      },
      "execution_count": null,
      "outputs": []
    },
    {
      "cell_type": "markdown",
      "source": [
        "### IPC - Interprocess Communication\n",
        "\n",
        "Can be done through messages and memory sharing."
      ],
      "metadata": {
        "id": "UfrNjiWZwgFi"
      }
    },
    {
      "cell_type": "markdown",
      "source": [
        "### Memory Sharing"
      ],
      "metadata": {
        "id": "5bkNDdzL_59h"
      }
    },
    {
      "cell_type": "code",
      "source": [
        "# No exemplo, a seguir, vamos testar o compartilhamento de memória entre threads.\n",
        "import json\n",
        "import urllib.request\n",
        "import time\n",
        "\n",
        "# global variable\n",
        "finished_count = 0\n",
        "\n",
        "def count_letters(url, frequency_table, thread_num, count=True):\n",
        "  \"\"\"Without mutex\"\"\"\n",
        "  print(f'counting letters {thread_num}...')\n",
        "  response = urllib.request.urlopen(url)\n",
        "  content = str(response.read())\n",
        "  for item in content:\n",
        "    if item.lower() in frequency_table:\n",
        "      frequency_table[item.lower()] += 1\n",
        "  if count:\n",
        "    global finished_count\n",
        "    finished_count += 1\n",
        "\n",
        "def count_letters_with_mutex(url, frequency_table, thread_num, mutex, count=True):\n",
        "  \"\"\"Using mutex to avoid race conditions\"\"\"\n",
        "  print(f'counting letters with mutex {thread_num}...')\n",
        "  response = urllib.request.urlopen(url)\n",
        "  content = str(response.read())\n",
        "  mutex.acquire()\n",
        "  for item in content:\n",
        "    if item.lower() in frequency_table:\n",
        "      frequency_table[item.lower()] += 1\n",
        "  if count:\n",
        "    global finished_count\n",
        "    finished_count += 1\n",
        "  mutex.release()\n",
        "\n",
        "def main():\n",
        "  frequency_table = {}\n",
        "  for letter in 'abcdefghijklmnopqrstuvxzwy':\n",
        "    frequency_table[letter] = 0\n",
        "\n",
        "  start = time.time()\n",
        "  for i in range(1000, 1020):\n",
        "    count_letters(f'http://www.rfc-editor.org/rfc/rfc{i}.txt', frequency_table, i, False)\n",
        "  end = time.time()\n",
        "\n",
        "  print(json.dumps(frequency_table, indent=4), end - start)\n",
        "\n",
        "main()"
      ],
      "metadata": {
        "colab": {
          "base_uri": "https://localhost:8080/"
        },
        "id": "2FpUJ1Wjwdsy",
        "outputId": "975477d7-15ee-4150-f2cd-6cb129fb267d"
      },
      "execution_count": null,
      "outputs": [
        {
          "output_type": "stream",
          "name": "stdout",
          "text": [
            "counting letters 1000...\n",
            "counting letters 1001...\n",
            "counting letters 1002...\n",
            "counting letters 1003...\n",
            "counting letters 1004...\n",
            "counting letters 1005...\n",
            "counting letters 1006...\n",
            "counting letters 1007...\n",
            "counting letters 1008...\n",
            "counting letters 1009...\n",
            "counting letters 1010...\n",
            "counting letters 1011...\n",
            "counting letters 1012...\n",
            "counting letters 1013...\n",
            "counting letters 1014...\n",
            "counting letters 1015...\n",
            "counting letters 1016...\n",
            "counting letters 1017...\n",
            "counting letters 1018...\n",
            "counting letters 1019...\n",
            "{\n",
            "    \"a\": 80014,\n",
            "    \"b\": 16998,\n",
            "    \"c\": 48003,\n",
            "    \"d\": 40501,\n",
            "    \"e\": 140093,\n",
            "    \"f\": 26074,\n",
            "    \"g\": 19010,\n",
            "    \"h\": 36316,\n",
            "    \"i\": 79913,\n",
            "    \"j\": 2170,\n",
            "    \"k\": 6614,\n",
            "    \"l\": 38305,\n",
            "    \"m\": 31176,\n",
            "    \"n\": 135371,\n",
            "    \"o\": 84258,\n",
            "    \"p\": 32270,\n",
            "    \"q\": 2835,\n",
            "    \"r\": 75326,\n",
            "    \"s\": 79790,\n",
            "    \"t\": 103557,\n",
            "    \"u\": 27572,\n",
            "    \"v\": 10580,\n",
            "    \"x\": 4719,\n",
            "    \"z\": 1115,\n",
            "    \"w\": 14195,\n",
            "    \"y\": 13914\n",
            "} 21.361895322799683\n"
          ]
        }
      ]
    },
    {
      "cell_type": "code",
      "source": [
        "# with thread\n",
        "# Quando as threads compartilham a memória e escrevem em conjunto um mesmo recurso, podem ocorrer inconsistências nos resultados devido a race conditions.\n",
        "# É preciso implementar sincronização entre elas para que isso não ocorra.\n",
        "# Veja como o tempo foi expressivamente menor usando threads!\n",
        "\n",
        "from threading import Thread\n",
        "\n",
        "def main_with_thread():\n",
        "  frequency_table = {}\n",
        "\n",
        "  for letter in 'abcdefghijklmnopqrstuvxzwy':\n",
        "    frequency_table[letter] = 0\n",
        "\n",
        "  start = time.time()\n",
        "  for i in range(1000, 1020):\n",
        "    t = Thread(target=count_letters, args=(f'http://www.rfc-editor.org/rfc/rfc{i}.txt', frequency_table, i)).start()\n",
        "  \n",
        "  # wait all threads to finish\n",
        "  print('finished_count', finished_count)\n",
        "  while finished_count < 20:\n",
        "    print('finished_count', finished_count)\n",
        "    time.sleep(0.5)\n",
        "\n",
        "  end = time.time()\n",
        "\n",
        "  time.sleep(1)\n",
        "  print(json.dumps(frequency_table, indent=4), end - start)\n",
        "\n",
        "main_with_thread()\n"
      ],
      "metadata": {
        "colab": {
          "base_uri": "https://localhost:8080/"
        },
        "id": "jUBtKX3G2FFE",
        "outputId": "93b41e72-0f3f-4d4a-9415-2be7a58cda4a"
      },
      "execution_count": null,
      "outputs": [
        {
          "output_type": "stream",
          "name": "stdout",
          "text": [
            "counting letters 1000...\n",
            "counting letters 1001...\n",
            "counting letters 1002...\n",
            "counting letters 1003...\n",
            "counting letters 1004...\n",
            "counting letters 1005...\n",
            "counting letters 1006...\n",
            "counting letters 1007...counting letters 1008...\n",
            "counting letters 1009...\n",
            "\n",
            "counting letters 1010...\n",
            "counting letters 1011...\n",
            "counting letters 1012...\n",
            "counting letters 1013...\n",
            "counting letters 1014...counting letters 1015...\n",
            "\n",
            "counting letters 1016...counting letters 1017...\n",
            "counting letters 1018...counting letters 1019...finished_count 0\n",
            "finished_count 0\n",
            "\n",
            "\n",
            "\n",
            "finished_count 0\n",
            "finished_count 5\n",
            "finished_count 19\n",
            "{\n",
            "    \"a\": 80014,\n",
            "    \"b\": 16998,\n",
            "    \"c\": 44441,\n",
            "    \"d\": 40501,\n",
            "    \"e\": 137747,\n",
            "    \"f\": 26074,\n",
            "    \"g\": 19010,\n",
            "    \"h\": 35984,\n",
            "    \"i\": 79913,\n",
            "    \"j\": 2170,\n",
            "    \"k\": 6614,\n",
            "    \"l\": 37732,\n",
            "    \"m\": 31176,\n",
            "    \"n\": 112290,\n",
            "    \"o\": 84258,\n",
            "    \"p\": 32270,\n",
            "    \"q\": 2835,\n",
            "    \"r\": 75326,\n",
            "    \"s\": 79790,\n",
            "    \"t\": 103557,\n",
            "    \"u\": 27572,\n",
            "    \"v\": 10580,\n",
            "    \"x\": 4719,\n",
            "    \"z\": 1115,\n",
            "    \"w\": 14195,\n",
            "    \"y\": 13914\n",
            "} 2.0491907596588135\n"
          ]
        }
      ]
    },
    {
      "cell_type": "markdown",
      "source": [
        "##### Sincronização de Threads com Mutexes Lock"
      ],
      "metadata": {
        "id": "-tkKgGiO_GYU"
      }
    },
    {
      "cell_type": "code",
      "source": [
        "# Mutexes são como cadeados. Quando uma thread estiver operando, há um bloqueio temporário que impede outras threads de executarem. Quando o bloqueio é liberado, outra thread entra em ação.\n",
        "# É garantido que apenas uma thread pode operar a cada momento. As demais threads ficam em estado de sleep até o lock ser liberado.\n",
        "\n",
        "import time\n",
        "from threading import Thread, Lock\n",
        "\n",
        "class StingySpendy:\n",
        "  money = 100\n",
        "  mutex = Lock()\n",
        "\n",
        "  def stingy(self):\n",
        "    for i in range(1000000):\n",
        "      self.mutex.acquire()\n",
        "      try:\n",
        "        self.money += 10\n",
        "      finally:\n",
        "        self.mutex.release()\n",
        "    print('Stingy done')\n",
        "\n",
        "  def spendy(self):\n",
        "    for i in range(1000000):\n",
        "      self.mutex.acquire()\n",
        "      try:\n",
        "        self.money -= 10\n",
        "      finally:\n",
        "        self.mutex.release()\n",
        "    print('Spendy done')\n",
        "\n",
        "ss = StingySpendy()\n",
        "Thread(target=ss.stingy, args=()).start()\n",
        "Thread(target=ss.spendy, args=()).start()\n",
        "time.sleep(10)\n",
        "print('Money in the end:', ss.money)"
      ],
      "metadata": {
        "id": "KkD8wrba_F07",
        "colab": {
          "base_uri": "https://localhost:8080/"
        },
        "outputId": "95ff65c3-c82f-4137-df33-bb6efb1d8514"
      },
      "execution_count": null,
      "outputs": [
        {
          "output_type": "stream",
          "name": "stdout",
          "text": [
            "Stingy done\n",
            "Spendy done\n",
            "Money in the end: 100\n"
          ]
        }
      ]
    },
    {
      "cell_type": "code",
      "source": [
        "# Add mutex to count_letters with threads.\n",
        "\n",
        "from threading import Thread, Lock\n",
        "\n",
        "def main_with_thread_and_mutex():\n",
        "  frequency_table = {}\n",
        "  mutex = Lock()\n",
        "\n",
        "  for letter in 'abcdefghijklmnopqrstuvxzwy':\n",
        "    frequency_table[letter] = 0\n",
        "\n",
        "  start = time.time()\n",
        "  for i in range(1000, 1020):\n",
        "    t = Thread(target=count_letters_with_mutex, args=(f'http://www.rfc-editor.org/rfc/rfc{i}.txt', frequency_table, i, mutex)).start()\n",
        "  \n",
        "  # wait all threads to finish\n",
        "  while True:\n",
        "    mutex.acquire()\n",
        "    if finished_count == 20:\n",
        "      print('Finished')\n",
        "      break\n",
        "    mutex.release()\n",
        "    time.sleep(10)\n",
        "    print('finished_count', finished_count)\n",
        "\n",
        "  end = time.time()\n",
        "  print(json.dumps(frequency_table, indent=4), end - start)\n",
        "\n",
        "main_with_thread_and_mutex()\n"
      ],
      "metadata": {
        "colab": {
          "base_uri": "https://localhost:8080/"
        },
        "id": "FCqUpPRV9RIO",
        "outputId": "f2e7e9b2-8414-4228-fb9c-c81d1c2c7cfe"
      },
      "execution_count": null,
      "outputs": [
        {
          "output_type": "stream",
          "name": "stdout",
          "text": [
            "counting letters with mutex 1000...counting letters with mutex 1001...\n",
            "\n",
            "counting letters with mutex 1002...\n",
            "counting letters with mutex 1003...\n",
            "counting letters with mutex 1004...\n",
            "counting letters with mutex 1005...\n",
            "counting letters with mutex 1006...\n",
            "counting letters with mutex 1007...\n",
            "counting letters with mutex 1008...\n",
            "counting letters with mutex 1009...counting letters with mutex 1010...\n",
            "counting letters with mutex 1011...\n",
            "\n",
            "counting letters with mutex 1012...\n",
            "counting letters with mutex 1013...\n",
            "counting letters with mutex 1014...\n",
            "counting letters with mutex 1015...counting letters with mutex 1016...\n",
            "\n",
            "counting letters with mutex 1017...\n",
            "counting letters with mutex 1018...\n",
            "counting letters with mutex 1019...\n",
            "finished_count 20\n",
            "Finished\n",
            "{\n",
            "    \"a\": 80014,\n",
            "    \"b\": 16998,\n",
            "    \"c\": 48003,\n",
            "    \"d\": 40501,\n",
            "    \"e\": 140093,\n",
            "    \"f\": 26074,\n",
            "    \"g\": 19010,\n",
            "    \"h\": 36316,\n",
            "    \"i\": 79913,\n",
            "    \"j\": 2170,\n",
            "    \"k\": 6614,\n",
            "    \"l\": 38305,\n",
            "    \"m\": 31176,\n",
            "    \"n\": 135371,\n",
            "    \"o\": 84258,\n",
            "    \"p\": 32270,\n",
            "    \"q\": 2835,\n",
            "    \"r\": 75326,\n",
            "    \"s\": 79790,\n",
            "    \"t\": 103557,\n",
            "    \"u\": 27572,\n",
            "    \"v\": 10580,\n",
            "    \"x\": 4719,\n",
            "    \"z\": 1115,\n",
            "    \"w\": 14195,\n",
            "    \"y\": 13914\n",
            "} 10.036461591720581\n"
          ]
        }
      ]
    },
    {
      "cell_type": "markdown",
      "source": [
        "##### Joins\n",
        "É uma outra forma de sincronização de threads que possibilita criar uma relação de dependência entre threads.\n",
        "Assim, uma thread parent pode entrar em modo de espera até suas threads filhas terminarem de processar alguma task."
      ],
      "metadata": {
        "id": "hZHzydb3DKQX"
      }
    },
    {
      "cell_type": "code",
      "source": [
        "import time\n",
        "from threading import Thread\n",
        "\n",
        "def child():\n",
        "  print('Child doing something...')\n",
        "  time.sleep(5)\n",
        "  print('child thread is done.')\n",
        "\n",
        "def parent():\n",
        "  t = Thread(target=child, args=([]))\n",
        "  t.start()\n",
        "  print('Parent thread is waiting using join')\n",
        "  t.join(timeout=10)\n",
        "  print('Parent thread can continue')\n",
        "\n",
        "parent()"
      ],
      "metadata": {
        "colab": {
          "base_uri": "https://localhost:8080/"
        },
        "id": "hK3UZAY0DJeH",
        "outputId": "4f517f5b-4d62-4a8b-b12f-c5eb635c1036"
      },
      "execution_count": null,
      "outputs": [
        {
          "output_type": "stream",
          "name": "stdout",
          "text": [
            "Child doing something...Parent thread is waiting using join\n",
            "\n",
            "child thread is done.\n",
            "Parent thread can continue\n"
          ]
        }
      ]
    },
    {
      "cell_type": "code",
      "source": [
        "# other exemple: concurrent directory search\n",
        "\n",
        "import os\n",
        "from os.path import isdir, join\n",
        "from threading import Thread, Lock\n",
        "\n",
        "mutex = Lock()\n",
        "matches = []\n",
        "\n",
        "def file_search(root, filename):\n",
        "  print('Searching in', root)\n",
        "  child_threads = []\n",
        "  for file in os.listdir(root):\n",
        "    full_path = join(root, file)\n",
        "    if filename in file:\n",
        "      mutex.acquire()\n",
        "      matches.append(full_path)\n",
        "      mutex.release()\n",
        "    if isdir(full_path):\n",
        "      #file_search(full_path, filename)\n",
        "      t = Thread(target=file_search, args=([full_path, filename]))\n",
        "      t.start()\n",
        "      child_threads.append(t)\n",
        "  for t in child_threads:\n",
        "    t.join()\n",
        "\n",
        "def main():\n",
        "  t = Thread(target=file_search, args=(['/content', 'findme.txt']))\n",
        "  t.start()\n",
        "  t.join()\n",
        "  print('matches: ', set(matches))\n",
        "main()"
      ],
      "metadata": {
        "colab": {
          "base_uri": "https://localhost:8080/"
        },
        "id": "ef8VZfGuGSLh",
        "outputId": "9d62e0b7-ea4b-4a70-c121-3d3b418e4fdf"
      },
      "execution_count": null,
      "outputs": [
        {
          "output_type": "stream",
          "name": "stdout",
          "text": [
            "Searching in /content\n",
            "Searching in /content/.config\n",
            "Searching in /content/.config/configurations\n",
            "Searching in /content/.config/configurationsSearching in /content/.config/logs\n",
            "Searching in /content/.config/logs/2023.02.09\n",
            "Searching in\n",
            " /content/.config/logs/2023.02.09\n",
            "Searching in /content/.config/logs\n",
            "Searching in /content/.config/logs/2023.02.09\n",
            "Searching in /content/.config/logs/2023.02.09\n",
            "Searching in /content/.config\n",
            "Searching in /content/sample_data\n",
            "Searching in /content/sample_data/minha_pasta\n",
            "Searching inSearching in /content/sample_data/minha_pasta/.ipynb_checkpoints\n",
            " Searching in/content/.config/configurations\n",
            " Searching in /content/.config/configurations\n",
            "/content/sample_data/minha_pasta/.ipynb_checkpoints\n",
            "Searching in /content/.config/logs\n",
            "Searching in /content/sample_data/minha_pasta\n",
            "Searching in /content/sample_data/.ipynb_checkpoints\n",
            "Searching in /content/sample_data/minha_pasta/.ipynb_checkpoints\n",
            "Searching in /content/sample_data/.ipynb_checkpoints\n",
            "Searching in /content/.config/logs/2023.02.09\n",
            "Searching in Searching in/content/sample_data/minha_pasta/.ipynb_checkpoints\n",
            " /content/.config/logs/2023.02.09\n",
            "Searching in Searching in/content/.config/logs\n",
            "Searching in /content/.config/logs/2023.02.09\n",
            " /content/sample_data\n",
            "Searching inSearching in  /content/.config/logs/2023.02.09\n",
            "/content/sample_data/minha_pasta\n",
            "Searching in /content/sample_data/minha_pasta/.ipynb_checkpoints\n",
            "Searching in /content/sample_data/minha_pasta/.ipynb_checkpoints\n",
            "Searching in /content/sample_data/minha_pasta\n",
            "Searching in /content/sample_data/.ipynb_checkpoints\n",
            "Searching in Searching in /content/sample_data/.ipynb_checkpoints\n",
            "/content/sample_data/minha_pasta/.ipynb_checkpoints\n",
            "Searching in /content/sample_data/minha_pasta/.ipynb_checkpoints\n",
            "matches:  {'/content/sample_data/minha_pasta/findme.txt'}\n"
          ]
        }
      ]
    },
    {
      "cell_type": "markdown",
      "source": [
        "#### Condition variables (notify and wait)"
      ],
      "metadata": {
        "id": "9411KVTYdIjc"
      }
    },
    {
      "cell_type": "code",
      "source": [
        "# Nesse exemplo vamos acrescentar uma variavel para verificar se spendy pode gastar dinheiro ou se tem que esperar o stingy acrescentar dinheiro, pois o saldo não poderá entrar no negativo\n",
        "# Quando não tiver dinheiro, spendy liberará o lock e esperará pela próxima oportunidade para gastar.\n",
        "# Para isso usamos Condition. Quando a condição não for atendida, usamos o método wait() para aguardar o sinal de liberação e\n",
        "# notify() para dar o sinal que permite tentar novamente.\n",
        "\n",
        "import time\n",
        "from threading import Thread, Condition\n",
        "\n",
        "class StingySpendy:\n",
        "  money = 100\n",
        "  condition = Condition()\n",
        "\n",
        "  def stingy(self):\n",
        "    for i in range(1000000):\n",
        "      self.condition.acquire()\n",
        "      try:\n",
        "\n",
        "        self.money += 10\n",
        "        # notify (signal) that money was added\n",
        "        self.condition.notify()\n",
        "\n",
        "      finally:\n",
        "        self.condition.release()\n",
        "    print('Stingy done')\n",
        "\n",
        "  def spendy(self):\n",
        "    for i in range(500000):\n",
        "      self.condition.acquire()\n",
        "      try:\n",
        "\n",
        "        # release te lock and wait for more money (signal)\n",
        "        while self.money < 20:\n",
        "          self.condition.wait()\n",
        "\n",
        "        self.money -= 20\n",
        "        if self.money < 0:\n",
        "          print('No money!', self.money)\n",
        "      finally:\n",
        "        self.condition.release()\n",
        "    print('Spendy done')\n",
        "\n",
        "ss = StingySpendy()\n",
        "Thread(target=ss.stingy, args=()).start()\n",
        "Thread(target=ss.spendy, args=()).start()\n",
        "time.sleep(10)\n",
        "print('Money in the end:', ss.money)"
      ],
      "metadata": {
        "colab": {
          "base_uri": "https://localhost:8080/"
        },
        "id": "ut0juSH-c9Gu",
        "outputId": "175cdaf9-ee0a-4a20-c8cb-b3ab5e845975"
      },
      "execution_count": 2,
      "outputs": [
        {
          "output_type": "stream",
          "name": "stdout",
          "text": [
            "Stingy done\n",
            "Spendy done\n",
            "Money in the end: 100\n"
          ]
        }
      ]
    },
    {
      "cell_type": "code",
      "source": [
        "# Another exemple: concurrent directory search using threads waiting group\n",
        "# Wait Groups (wait and notify_all())\n",
        "\n",
        "from threading import Thread, Condition, Lock\n",
        "import os\n",
        "from os.path import isdir, join\n",
        "\n",
        "mutex = Lock()\n",
        "matches = []\n",
        "\n",
        "class WaitGroup():\n",
        "  \"\"\"Class to control a group of threads based on a condition\"\"\"\n",
        "\n",
        "  wait_count = 0 # count waiting threads\n",
        "  cv = Condition()\n",
        "\n",
        "  def add(self, count):\n",
        "    # add thread \n",
        "    self.cv.acquire()\n",
        "    self.wait_count += count\n",
        "    self.cv.release()\n",
        "  \n",
        "  def done(self):\n",
        "    self.cv.acquire()\n",
        "    if self.wait_count > 0:\n",
        "      self.wait_count -= 1\n",
        "    # check if all threads have finished\n",
        "    if self.wait_count == 0:\n",
        "      self.cv.notify_all()\n",
        "    self.cv.release()\n",
        "\n",
        "  def wait(self):\n",
        "    self.cv.acquire()\n",
        "    # wait threads to finish\n",
        "    while self.wait_count > 0:\n",
        "      self.cv.wait()\n",
        "    self.cv.release()"
      ],
      "metadata": {
        "id": "GroRD-tRhnnl"
      },
      "execution_count": 12,
      "outputs": []
    },
    {
      "cell_type": "code",
      "source": [
        "def file_search(root, filename, wait_group):\n",
        "  print('Searching in', root)\n",
        "  for file in os.listdir(root):\n",
        "    full_path = join(root, file)\n",
        "    if filename in file:\n",
        "      mutex.acquire()\n",
        "      matches.append(full_path)\n",
        "      mutex.release()\n",
        "    if isdir(full_path):\n",
        "      # add thread to group\n",
        "      wait_group.add(1)\n",
        "      t = Thread(target=file_search, args=([full_path, filename, wait_group])).start()\n",
        "  # send signal to notify to waiters that the process was finished\n",
        "  wait_group.done()\n",
        "\n",
        "\n",
        "def main():\n",
        "  wait_group = WaitGroup()\n",
        "  # add thread to group\n",
        "  wait_group.add(1)\n",
        "  t = Thread(target=file_search, args=(['/content', 'README.md', wait_group])).start()\n",
        "  # waiting to done signal before proceed\n",
        "  wait_group.wait()\n",
        "  print('matches: ', set(matches))\n",
        "main()"
      ],
      "metadata": {
        "colab": {
          "base_uri": "https://localhost:8080/"
        },
        "id": "tR0JPLBnlw4R",
        "outputId": "6746d81f-8d77-457e-a0e4-da0e79791200"
      },
      "execution_count": 16,
      "outputs": [
        {
          "output_type": "stream",
          "name": "stdout",
          "text": [
            "Searching in /content\n",
            "Searching inSearching in /content/sample_data\n",
            " /content/.config\n",
            "Searching in /content/.config/configurations\n",
            "Searching in /content/.config/logs\n",
            "Searching in /content/.config/logs/2023.02.09\n",
            "matches:  {'/content/sample_data/README.md'}\n"
          ]
        }
      ]
    }
  ]
}