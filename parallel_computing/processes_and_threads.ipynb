{
  "nbformat": 4,
  "nbformat_minor": 0,
  "metadata": {
    "colab": {
      "provenance": []
    },
    "kernelspec": {
      "name": "python3",
      "display_name": "Python 3"
    },
    "language_info": {
      "name": "python"
    }
  },
  "cells": [
    {
      "cell_type": "markdown",
      "source": [
        "### Processes vs Threads"
      ],
      "metadata": {
        "id": "OCWpnpoT_PXj"
      }
    },
    {
      "cell_type": "code",
      "source": [
        "def do_something(thread_number):\n",
        "  print(f'Working {thread_number} ...')\n",
        "  time.sleep(0.15)\n",
        "  print(f'Thread {thread_number} was finished.')"
      ],
      "metadata": {
        "id": "7Fbo77kh_TBd"
      },
      "execution_count": null,
      "outputs": []
    },
    {
      "cell_type": "code",
      "source": [
        "# Python GIL (Global Interpreter Lock): apenas um thread é executado por vez.\n",
        "# Dessa forma, o desempenho do processo single-threaded e do processo multi-threaded será o mesmo em python e isso se deve ao GIL.\n",
        "# Para contornar essa limitação, é preciso recorrer ao Jython, Cython, Iron Phyton, ou usar processos, ao invés de threads, visto que\n",
        "# para processos não há essa limitação.\n",
        "# Um detalhe importante: quando você faz a cópia de um processo (fork), além das instruções, \n",
        "# o pool de dados em memória é também copiado para o novo processo (não compartilham).\n",
        "# Com threads é diferente, pois quando você cria threads elas compartilham o espaço de memória, ou seja, os dados são compartilhados entre elas.\n",
        "# Essas diferenças tornam o uso de processos mais exigentes em memória.\n",
        "import time\n",
        "from threading import Thread\n",
        "\n",
        "for i in range(5):\n",
        "  t = Thread(target=do_something, args=(i,))\n",
        "  t.start()"
      ],
      "metadata": {
        "colab": {
          "base_uri": "https://localhost:8080/"
        },
        "id": "4d-RT-1gCzIj",
        "outputId": "d88f74bf-4277-4307-b486-e7029da790cf"
      },
      "execution_count": null,
      "outputs": [
        {
          "output_type": "stream",
          "name": "stdout",
          "text": [
            "Working 0 ...\n",
            "Working 1 ...\n",
            "Working 2 ...Working 3 ...\n",
            "Working 4 ...\n",
            "\n",
            "Thread 0 was finished.\n",
            "Thread 1 was finished.\n",
            "Thread 3 was finished.\n",
            "Thread 2 was finished.\n",
            "Thread 4 was finished.\n"
          ]
        }
      ]
    },
    {
      "cell_type": "markdown",
      "source": [
        "Ha 3 formas de iniciar um processo em Python: spawn (apenas Linux), fork e forkserver.\n",
        "A diferença entre eles está na forma que a cópia do espaço de memória é feita.\n",
        "\n",
        "- Fork: é uma simples cópia do espaço de memória (Default no Unix). \n",
        "\n",
        "Fork()-ing the parent processes and continuing with the same processes image in both parent and child. This method is fast, but potentially unreliable when parent state is complex\n",
        "\n",
        "- Spawn: não copia tudo. Apenas o que for necessário. Isso permite economizar um pouco de memória. É um pouco mais lento para iniciar. (Default no Windows e MacOS)\n",
        "\n",
        "- Forkserver: é um modo intermediário que tenta salvar um pouco de memória e sendo um pouco mais rápido. Quando o processo é iniciado é feito um forkserver que fica salvo em uma região da memória. A partir dessa região, são feitos forks. Então, apenas a memória é clonada.\n",
        "When the program starts and selects the forkserver start method, a server process is started. \n",
        "From then on, whenever a new process is needed, the parent process connects to the server and requests that it fork a new process. Available on Unix platforms.\n",
        "It consists of a separate Python server with that has a relatively simple state and which is fork()-ed when a new processes is needed. This method combines the speed of Fork()-ing with good reliability (because the parent being forked is in a simple state).\n",
        "If you want something to be inherited by child processes from the parent, this must be specified in the forkserver state.\n",
        "https://stackoverflow.com/questions/63424251/multiprocessing-in-python-what-gets-inherited-by-forkserver-process-from-paren"
      ],
      "metadata": {
        "id": "apXo4WhLKHfm"
      }
    },
    {
      "cell_type": "code",
      "source": [
        "import multiprocessing\n",
        "from multiprocessing import Process"
      ],
      "metadata": {
        "id": "Y_YjqhgZM37i"
      },
      "execution_count": null,
      "outputs": []
    },
    {
      "cell_type": "code",
      "source": [
        "if __name__ == '__main__':\n",
        "  multiprocessing.set_start_method('spawn')\n",
        "  for i in range(5):\n",
        "    p = Process(target=do_something, args=(i,))\n",
        "    p.start()"
      ],
      "metadata": {
        "id": "pZn9OT6FGAD0"
      },
      "execution_count": null,
      "outputs": []
    },
    {
      "cell_type": "markdown",
      "source": [
        "### IPC - Interprocess Communication\n",
        "\n",
        "Can be done through messages and memory sharing."
      ],
      "metadata": {
        "id": "UfrNjiWZwgFi"
      }
    },
    {
      "cell_type": "markdown",
      "source": [
        "### Memory Sharing"
      ],
      "metadata": {
        "id": "5bkNDdzL_59h"
      }
    },
    {
      "cell_type": "code",
      "source": [
        "# No exemplo, a seguir, vamos testar o compartilhamento de memória entre threads.\n",
        "import json\n",
        "import urllib.request\n",
        "import time\n",
        "\n",
        "# global variable\n",
        "finished_count = 0\n",
        "\n",
        "def count_letters(url, frequency_table, thread_num, count=True):\n",
        "  print(f'counting letters {thread_num}...')\n",
        "  response = urllib.request.urlopen(url)\n",
        "  content = str(response.read())\n",
        "  for item in content:\n",
        "    if item.lower() in frequency_table:\n",
        "      frequency_table[item.lower()] += 1\n",
        "  if count:\n",
        "    global finished_count\n",
        "    finished_count += 1\n",
        "\n",
        "def main():\n",
        "  frequency_table = {}\n",
        "  for letter in 'abcdefghijklmnopqrstuvxzwy':\n",
        "    frequency_table[letter] = 0\n",
        "\n",
        "  start = time.time()\n",
        "  for i in range(1000, 1020):\n",
        "    count_letters(f'http://www.rfc-editor.org/rfc/rfc{i}.txt', frequency_table, i, False)\n",
        "  end = time.time()\n",
        "\n",
        "  print(json.dumps(frequency_table, indent=4), end - start)\n",
        "\n",
        "main()"
      ],
      "metadata": {
        "colab": {
          "base_uri": "https://localhost:8080/"
        },
        "id": "2FpUJ1Wjwdsy",
        "outputId": "90bc0459-1f6a-4b56-b240-992a8a5131e9"
      },
      "execution_count": 53,
      "outputs": [
        {
          "output_type": "stream",
          "name": "stdout",
          "text": [
            "counting letters 1000...\n",
            "counting letters 1001...\n",
            "counting letters 1002...\n",
            "counting letters 1003...\n",
            "counting letters 1004...\n",
            "counting letters 1005...\n",
            "counting letters 1006...\n",
            "counting letters 1007...\n",
            "counting letters 1008...\n",
            "counting letters 1009...\n",
            "counting letters 1010...\n",
            "counting letters 1011...\n",
            "counting letters 1012...\n",
            "counting letters 1013...\n",
            "counting letters 1014...\n",
            "counting letters 1015...\n",
            "counting letters 1016...\n",
            "counting letters 1017...\n",
            "counting letters 1018...\n",
            "counting letters 1019...\n",
            "{\n",
            "    \"a\": 80014,\n",
            "    \"b\": 16998,\n",
            "    \"c\": 48003,\n",
            "    \"d\": 40501,\n",
            "    \"e\": 140093,\n",
            "    \"f\": 26074,\n",
            "    \"g\": 19010,\n",
            "    \"h\": 36316,\n",
            "    \"i\": 79913,\n",
            "    \"j\": 2170,\n",
            "    \"k\": 6614,\n",
            "    \"l\": 38305,\n",
            "    \"m\": 31176,\n",
            "    \"n\": 135371,\n",
            "    \"o\": 84258,\n",
            "    \"p\": 32270,\n",
            "    \"q\": 2835,\n",
            "    \"r\": 75326,\n",
            "    \"s\": 79790,\n",
            "    \"t\": 103557,\n",
            "    \"u\": 27572,\n",
            "    \"v\": 10580,\n",
            "    \"x\": 4719,\n",
            "    \"z\": 1115,\n",
            "    \"w\": 14195,\n",
            "    \"y\": 13914\n",
            "} 21.472853183746338\n"
          ]
        }
      ]
    },
    {
      "cell_type": "code",
      "source": [
        "# with thread\n",
        "# Quando as threads compartilham a memória e escrevem em conjunto um mesmo recurso, podem ocorrer inconsistências nos resultados.\n",
        "# É preciso implementar sincronização entre elas para que isso não ocorra.\n",
        "# Veja como o tempo foi expressivamente menor usando threads!\n",
        "\n",
        "from threading import Thread\n",
        "\n",
        "def main_with_thread():\n",
        "  frequency_table = {}\n",
        "\n",
        "  for letter in 'abcdefghijklmnopqrstuvxzwy':\n",
        "    frequency_table[letter] = 0\n",
        "\n",
        "  start = time.time()\n",
        "  for i in range(1000, 1020):\n",
        "    t = Thread(target=count_letters, args=(f'http://www.rfc-editor.org/rfc/rfc{i}.txt', frequency_table, i)).start()\n",
        "  \n",
        "  # wait all threads to finish\n",
        "  print('finished_count', finished_count)\n",
        "  while finished_count < 20:\n",
        "    print('finished_count', finished_count)\n",
        "    time.sleep(0.5)\n",
        "\n",
        "  end = time.time()\n",
        "\n",
        "  time.sleep(1)\n",
        "  print(json.dumps(frequency_table, indent=4), end - start)\n",
        "\n",
        "main_with_thread()\n"
      ],
      "metadata": {
        "colab": {
          "base_uri": "https://localhost:8080/"
        },
        "id": "jUBtKX3G2FFE",
        "outputId": "96c4f061-40b6-46aa-96c8-132facf72f1b"
      },
      "execution_count": 55,
      "outputs": [
        {
          "output_type": "stream",
          "name": "stdout",
          "text": [
            "counting letters 1000...\n",
            "counting letters 1001...\n",
            "counting letters 1002...\n",
            "counting letters 1003...\n",
            "counting letters 1004...\n",
            "counting letters 1005...\n",
            "counting letters 1006...counting letters 1007...\n",
            "counting letters 1008...\n",
            "\n",
            "counting letters 1009...\n",
            "counting letters 1010...\n",
            "counting letters 1011...\n",
            "counting letters 1012...\n",
            "counting letters 1013...counting letters 1014...\n",
            "\n",
            "counting letters 1015...counting letters 1016...\n",
            "\n",
            "counting letters 1017...\n",
            "counting letters 1018...\n",
            "counting letters 1019...\n",
            "finished_count 1\n",
            "finished_count 1\n",
            "finished_count 1\n",
            "finished_count 7\n",
            "finished_count 19\n",
            "{\n",
            "    \"a\": 80014,\n",
            "    \"b\": 16998,\n",
            "    \"c\": 47553,\n",
            "    \"d\": 39345,\n",
            "    \"e\": 138429,\n",
            "    \"f\": 26074,\n",
            "    \"g\": 19010,\n",
            "    \"h\": 36316,\n",
            "    \"i\": 77493,\n",
            "    \"j\": 2170,\n",
            "    \"k\": 6614,\n",
            "    \"l\": 37257,\n",
            "    \"m\": 31176,\n",
            "    \"n\": 129616,\n",
            "    \"o\": 82299,\n",
            "    \"p\": 32270,\n",
            "    \"q\": 2835,\n",
            "    \"r\": 73181,\n",
            "    \"s\": 78021,\n",
            "    \"t\": 103557,\n",
            "    \"u\": 27572,\n",
            "    \"v\": 10580,\n",
            "    \"x\": 4719,\n",
            "    \"z\": 1115,\n",
            "    \"w\": 14195,\n",
            "    \"y\": 13914\n",
            "} 2.0717904567718506\n"
          ]
        }
      ]
    },
    {
      "cell_type": "markdown",
      "source": [
        "##### Sincronização de Threads"
      ],
      "metadata": {
        "id": "-tkKgGiO_GYU"
      }
    },
    {
      "cell_type": "code",
      "source": [],
      "metadata": {
        "id": "KkD8wrba_F07"
      },
      "execution_count": null,
      "outputs": []
    }
  ]
}