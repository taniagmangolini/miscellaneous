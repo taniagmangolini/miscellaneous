{
  "nbformat": 4,
  "nbformat_minor": 0,
  "metadata": {
    "colab": {
      "provenance": []
    },
    "kernelspec": {
      "name": "python3",
      "display_name": "Python 3"
    },
    "language_info": {
      "name": "python"
    }
  },
  "cells": [
    {
      "cell_type": "markdown",
      "source": [
        " https://github.com/kjam/data-pipelines-course\n",
        "\n",
        " https://docs.dask.org/"
      ],
      "metadata": {
        "id": "e2ryzVGvI7R_"
      }
    },
    {
      "cell_type": "code",
      "execution_count": 1,
      "metadata": {
        "colab": {
          "base_uri": "https://localhost:8080/"
        },
        "id": "XJUoip8J71OJ",
        "outputId": "1c409796-2400-4835-c697-8b73e3c283ed"
      },
      "outputs": [
        {
          "output_type": "stream",
          "name": "stdout",
          "text": [
            "Requirement already satisfied: dask in /usr/local/lib/python3.10/dist-packages (2022.12.1)\n",
            "Requirement already satisfied: click>=7.0 in /usr/local/lib/python3.10/dist-packages (from dask) (8.1.3)\n",
            "Requirement already satisfied: cloudpickle>=1.1.1 in /usr/local/lib/python3.10/dist-packages (from dask) (2.2.1)\n",
            "Requirement already satisfied: fsspec>=0.6.0 in /usr/local/lib/python3.10/dist-packages (from dask) (2023.6.0)\n",
            "Requirement already satisfied: packaging>=20.0 in /usr/local/lib/python3.10/dist-packages (from dask) (23.1)\n",
            "Requirement already satisfied: partd>=0.3.10 in /usr/local/lib/python3.10/dist-packages (from dask) (1.4.0)\n",
            "Requirement already satisfied: pyyaml>=5.3.1 in /usr/local/lib/python3.10/dist-packages (from dask) (6.0)\n",
            "Requirement already satisfied: toolz>=0.8.2 in /usr/local/lib/python3.10/dist-packages (from dask) (0.12.0)\n",
            "Requirement already satisfied: locket in /usr/local/lib/python3.10/dist-packages (from partd>=0.3.10->dask) (1.0.0)\n"
          ]
        }
      ],
      "source": [
        "!pip install dask"
      ]
    },
    {
      "cell_type": "code",
      "source": [
        "from dask import array, dataframe"
      ],
      "metadata": {
        "id": "VeeV3ViiFkCG"
      },
      "execution_count": 2,
      "outputs": []
    },
    {
      "cell_type": "code",
      "source": [
        "from dask.diagnostics import Profiler\n",
        "prof = Profiler()\n",
        "\n",
        "#prof.visualize()"
      ],
      "metadata": {
        "id": "s5XGX7RQgcc6"
      },
      "execution_count": 24,
      "outputs": []
    },
    {
      "cell_type": "code",
      "source": [
        "# simulating data. Use chunks to partitioning the data\n",
        "da = array.random.binomial(100, .3, 1000, chunks=(100,))\n",
        "print(da.size)\n",
        "da"
      ],
      "metadata": {
        "colab": {
          "base_uri": "https://localhost:8080/",
          "height": 138
        },
        "id": "GM1G9qgoFtH1",
        "outputId": "fe4f9670-2d2e-46f7-b437-60bfd7c0d997"
      },
      "execution_count": null,
      "outputs": [
        {
          "output_type": "stream",
          "name": "stdout",
          "text": [
            "1000\n"
          ]
        },
        {
          "output_type": "execute_result",
          "data": {
            "text/plain": [
              "dask.array<binomial, shape=(1000,), dtype=int64, chunksize=(100,), chunktype=numpy.ndarray>"
            ],
            "text/html": [
              "<table>\n",
              "    <tr>\n",
              "        <td>\n",
              "            <table style=\"border-collapse: collapse;\">\n",
              "                <thead>\n",
              "                    <tr>\n",
              "                        <td> </td>\n",
              "                        <th> Array </th>\n",
              "                        <th> Chunk </th>\n",
              "                    </tr>\n",
              "                </thead>\n",
              "                <tbody>\n",
              "                    \n",
              "                    <tr>\n",
              "                        <th> Bytes </th>\n",
              "                        <td> 7.81 kiB </td>\n",
              "                        <td> 800 B </td>\n",
              "                    </tr>\n",
              "                    \n",
              "                    <tr>\n",
              "                        <th> Shape </th>\n",
              "                        <td> (1000,) </td>\n",
              "                        <td> (100,) </td>\n",
              "                    </tr>\n",
              "                    <tr>\n",
              "                        <th> Dask graph </th>\n",
              "                        <td colspan=\"2\"> 10 chunks in 1 graph layer </td>\n",
              "                    </tr>\n",
              "                    <tr>\n",
              "                        <th> Data type </th>\n",
              "                        <td colspan=\"2\"> int64 numpy.ndarray </td>\n",
              "                    </tr>\n",
              "                </tbody>\n",
              "            </table>\n",
              "        </td>\n",
              "        <td>\n",
              "        <svg width=\"170\" height=\"75\" style=\"stroke:rgb(0,0,0);stroke-width:1\" >\n",
              "\n",
              "  <!-- Horizontal lines -->\n",
              "  <line x1=\"0\" y1=\"0\" x2=\"120\" y2=\"0\" style=\"stroke-width:2\" />\n",
              "  <line x1=\"0\" y1=\"25\" x2=\"120\" y2=\"25\" style=\"stroke-width:2\" />\n",
              "\n",
              "  <!-- Vertical lines -->\n",
              "  <line x1=\"0\" y1=\"0\" x2=\"0\" y2=\"25\" style=\"stroke-width:2\" />\n",
              "  <line x1=\"12\" y1=\"0\" x2=\"12\" y2=\"25\" />\n",
              "  <line x1=\"24\" y1=\"0\" x2=\"24\" y2=\"25\" />\n",
              "  <line x1=\"36\" y1=\"0\" x2=\"36\" y2=\"25\" />\n",
              "  <line x1=\"48\" y1=\"0\" x2=\"48\" y2=\"25\" />\n",
              "  <line x1=\"60\" y1=\"0\" x2=\"60\" y2=\"25\" />\n",
              "  <line x1=\"72\" y1=\"0\" x2=\"72\" y2=\"25\" />\n",
              "  <line x1=\"84\" y1=\"0\" x2=\"84\" y2=\"25\" />\n",
              "  <line x1=\"96\" y1=\"0\" x2=\"96\" y2=\"25\" />\n",
              "  <line x1=\"108\" y1=\"0\" x2=\"108\" y2=\"25\" />\n",
              "  <line x1=\"120\" y1=\"0\" x2=\"120\" y2=\"25\" style=\"stroke-width:2\" />\n",
              "\n",
              "  <!-- Colored Rectangle -->\n",
              "  <polygon points=\"0.0,0.0 120.0,0.0 120.0,25.412616514582485 0.0,25.412616514582485\" style=\"fill:#ECB172A0;stroke-width:0\"/>\n",
              "\n",
              "  <!-- Text -->\n",
              "  <text x=\"60.000000\" y=\"45.412617\" font-size=\"1.0rem\" font-weight=\"100\" text-anchor=\"middle\" >1000</text>\n",
              "  <text x=\"140.000000\" y=\"12.706308\" font-size=\"1.0rem\" font-weight=\"100\" text-anchor=\"middle\" transform=\"rotate(0,140.000000,12.706308)\">1</text>\n",
              "</svg>\n",
              "        </td>\n",
              "    </tr>\n",
              "</table>"
            ]
          },
          "metadata": {},
          "execution_count": 7
        }
      ]
    },
    {
      "cell_type": "code",
      "source": [
        "# dask performs lazy loading what means that it not compute the operation at first. You have to call campute()\n",
        "da[:20].compute()"
      ],
      "metadata": {
        "colab": {
          "base_uri": "https://localhost:8080/"
        },
        "id": "oCx5BeUBHMuP",
        "outputId": "b03c7526-2803-4658-8df8-1d3e1291dc73"
      },
      "execution_count": null,
      "outputs": [
        {
          "output_type": "execute_result",
          "data": {
            "text/plain": [
              "array([31, 34, 35, 31, 28, 32, 39, 31, 35, 38, 32, 24, 30, 32, 30, 22, 35,\n",
              "       29, 28, 31])"
            ]
          },
          "metadata": {},
          "execution_count": 10
        }
      ]
    },
    {
      "cell_type": "code",
      "source": [
        "# before computing, you can visualize the execution plan. If everything is ok, so you can call compute()\n",
        "da.max().visualize()"
      ],
      "metadata": {
        "colab": {
          "base_uri": "https://localhost:8080/",
          "height": 958
        },
        "id": "nYe8920rHssV",
        "outputId": "b7b068a2-53f5-4949-e71a-05ba5e27fbe5"
      },
      "execution_count": null,
      "outputs": [
        {
          "output_type": "execute_result",
          "data": {
            "image/png": "[encoded data removed]",
            "text/plain": [
              "<IPython.core.display.Image object>"
            ]
          },
          "metadata": {},
          "execution_count": 11
        }
      ]
    },
    {
      "cell_type": "code",
      "source": [
        "da.max().compute()"
      ],
      "metadata": {
        "colab": {
          "base_uri": "https://localhost:8080/"
        },
        "id": "nVTJ4xKJH8hq",
        "outputId": "90f155b8-71e0-4b03-8db4-0dc4e38a1d3f"
      },
      "execution_count": null,
      "outputs": [
        {
          "output_type": "execute_result",
          "data": {
            "text/plain": [
              "46"
            ]
          },
          "metadata": {},
          "execution_count": 13
        }
      ]
    },
    {
      "cell_type": "markdown",
      "source": [
        "# CSV"
      ],
      "metadata": {
        "id": "MQLbqJYDIJNN"
      }
    },
    {
      "cell_type": "code",
      "source": [
        "df = dataframe.read_csv('/content/mvt_cleaned.csv')\n",
        "df.head()"
      ],
      "metadata": {
        "colab": {
          "base_uri": "https://localhost:8080/",
          "height": 206
        },
        "id": "jSvmtgXSH_n5",
        "outputId": "2493178c-e715-4837-9daa-1e625d8753d2"
      },
      "execution_count": null,
      "outputs": [
        {
          "output_type": "execute_result",
          "data": {
            "text/plain": [
              "         Date   Latitude  Longitude             DateTime  Hour  DayOfWeek\n",
              "0  2012-12-31  41.756284 -87.621645  2012-12-31 23:15:00    23          0\n",
              "1  2012-12-31  41.898788 -87.661303  2012-12-31 22:00:00    22          0\n",
              "2  2012-12-31  41.969186 -87.767670  2012-12-31 22:00:00    22          0\n",
              "3  2012-12-31  41.769329 -87.657726  2012-12-31 22:00:00    22          0\n",
              "4  2012-12-31  41.837568 -87.621761  2012-12-31 21:30:00    21          0"
            ],
            "text/html": [
              "\n",
              "  <div id=\"df-d6cc6bed-13b6-48c6-b482-ae9ff80813b5\">\n",
              "    <div class=\"colab-df-container\">\n",
              "      <div>\n",
              "<style scoped>\n",
              "    .dataframe tbody tr th:only-of-type {\n",
              "        vertical-align: middle;\n",
              "    }\n",
              "\n",
              "    .dataframe tbody tr th {\n",
              "        vertical-align: top;\n",
              "    }\n",
              "\n",
              "    .dataframe thead th {\n",
              "        text-align: right;\n",
              "    }\n",
              "</style>\n",
              "<table border=\"1\" class=\"dataframe\">\n",
              "  <thead>\n",
              "    <tr style=\"text-align: right;\">\n",
              "      <th></th>\n",
              "      <th>Date</th>\n",
              "      <th>Latitude</th>\n",
              "      <th>Longitude</th>\n",
              "      <th>DateTime</th>\n",
              "      <th>Hour</th>\n",
              "      <th>DayOfWeek</th>\n",
              "    </tr>\n",
              "  </thead>\n",
              "  <tbody>\n",
              "    <tr>\n",
              "      <th>0</th>\n",
              "      <td>2012-12-31</td>\n",
              "      <td>41.756284</td>\n",
              "      <td>-87.621645</td>\n",
              "      <td>2012-12-31 23:15:00</td>\n",
              "      <td>23</td>\n",
              "      <td>0</td>\n",
              "    </tr>\n",
              "    <tr>\n",
              "      <th>1</th>\n",
              "      <td>2012-12-31</td>\n",
              "      <td>41.898788</td>\n",
              "      <td>-87.661303</td>\n",
              "      <td>2012-12-31 22:00:00</td>\n",
              "      <td>22</td>\n",
              "      <td>0</td>\n",
              "    </tr>\n",
              "    <tr>\n",
              "      <th>2</th>\n",
              "      <td>2012-12-31</td>\n",
              "      <td>41.969186</td>\n",
              "      <td>-87.767670</td>\n",
              "      <td>2012-12-31 22:00:00</td>\n",
              "      <td>22</td>\n",
              "      <td>0</td>\n",
              "    </tr>\n",
              "    <tr>\n",
              "      <th>3</th>\n",
              "      <td>2012-12-31</td>\n",
              "      <td>41.769329</td>\n",
              "      <td>-87.657726</td>\n",
              "      <td>2012-12-31 22:00:00</td>\n",
              "      <td>22</td>\n",
              "      <td>0</td>\n",
              "    </tr>\n",
              "    <tr>\n",
              "      <th>4</th>\n",
              "      <td>2012-12-31</td>\n",
              "      <td>41.837568</td>\n",
              "      <td>-87.621761</td>\n",
              "      <td>2012-12-31 21:30:00</td>\n",
              "      <td>21</td>\n",
              "      <td>0</td>\n",
              "    </tr>\n",
              "  </tbody>\n",
              "</table>\n",
              "</div>\n",
              "      <button class=\"colab-df-convert\" onclick=\"convertToInteractive('df-d6cc6bed-13b6-48c6-b482-ae9ff80813b5')\"\n",
              "              title=\"Convert this dataframe to an interactive table.\"\n",
              "              style=\"display:none;\">\n",
              "        \n",
              "  <svg xmlns=\"http://www.w3.org/2000/svg\" height=\"24px\"viewBox=\"0 0 24 24\"\n",
              "       width=\"24px\">\n",
              "    <path d=\"M0 0h24v24H0V0z\" fill=\"none\"/>\n",
              "    <path d=\"M18.56 5.44l.94 2.06.94-2.06 2.06-.94-2.06-.94-.94-2.06-.94 2.06-2.06.94zm-11 1L8.5 8.5l.94-2.06 2.06-.94-2.06-.94L8.5 2.5l-.94 2.06-2.06.94zm10 10l.94 2.06.94-2.06 2.06-.94-2.06-.94-.94-2.06-.94 2.06-2.06.94z\"/><path d=\"M17.41 7.96l-1.37-1.37c-.4-.4-.92-.59-1.43-.59-.52 0-1.04.2-1.43.59L10.3 9.45l-7.72 7.72c-.78.78-.78 2.05 0 2.83L4 21.41c.39.39.9.59 1.41.59.51 0 1.02-.2 1.41-.59l7.78-7.78 2.81-2.81c.8-.78.8-2.07 0-2.86zM5.41 20L4 18.59l7.72-7.72 1.47 1.35L5.41 20z\"/>\n",
              "  </svg>\n",
              "      </button>\n",
              "      \n",
              "  <style>\n",
              "    .colab-df-container {\n",
              "      display:flex;\n",
              "      flex-wrap:wrap;\n",
              "      gap: 12px;\n",
              "    }\n",
              "\n",
              "    .colab-df-convert {\n",
              "      background-color: #E8F0FE;\n",
              "      border: none;\n",
              "      border-radius: 50%;\n",
              "      cursor: pointer;\n",
              "      display: none;\n",
              "      fill: #1967D2;\n",
              "      height: 32px;\n",
              "      padding: 0 0 0 0;\n",
              "      width: 32px;\n",
              "    }\n",
              "\n",
              "    .colab-df-convert:hover {\n",
              "      background-color: #E2EBFA;\n",
              "      box-shadow: 0px 1px 2px rgba(60, 64, 67, 0.3), 0px 1px 3px 1px rgba(60, 64, 67, 0.15);\n",
              "      fill: #174EA6;\n",
              "    }\n",
              "\n",
              "    [theme=dark] .colab-df-convert {\n",
              "      background-color: #3B4455;\n",
              "      fill: #D2E3FC;\n",
              "    }\n",
              "\n",
              "    [theme=dark] .colab-df-convert:hover {\n",
              "      background-color: #434B5C;\n",
              "      box-shadow: 0px 1px 3px 1px rgba(0, 0, 0, 0.15);\n",
              "      filter: drop-shadow(0px 1px 2px rgba(0, 0, 0, 0.3));\n",
              "      fill: #FFFFFF;\n",
              "    }\n",
              "  </style>\n",
              "\n",
              "      <script>\n",
              "        const buttonEl =\n",
              "          document.querySelector('#df-d6cc6bed-13b6-48c6-b482-ae9ff80813b5 button.colab-df-convert');\n",
              "        buttonEl.style.display =\n",
              "          google.colab.kernel.accessAllowed ? 'block' : 'none';\n",
              "\n",
              "        async function convertToInteractive(key) {\n",
              "          const element = document.querySelector('#df-d6cc6bed-13b6-48c6-b482-ae9ff80813b5');\n",
              "          const dataTable =\n",
              "            await google.colab.kernel.invokeFunction('convertToInteractive',\n",
              "                                                     [key], {});\n",
              "          if (!dataTable) return;\n",
              "\n",
              "          const docLinkHtml = 'Like what you see? Visit the ' +\n",
              "            '<a target=\"_blank\" href=https://colab.research.google.com/notebooks/data_table.ipynb>data table notebook</a>'\n",
              "            + ' to learn more about interactive tables.';\n",
              "          element.innerHTML = '';\n",
              "          dataTable['output_type'] = 'display_data';\n",
              "          await google.colab.output.renderOutput(dataTable, element);\n",
              "          const docLink = document.createElement('div');\n",
              "          docLink.innerHTML = docLinkHtml;\n",
              "          element.appendChild(docLink);\n",
              "        }\n",
              "      </script>\n",
              "    </div>\n",
              "  </div>\n",
              "  "
            ]
          },
          "metadata": {},
          "execution_count": 15
        }
      ]
    },
    {
      "cell_type": "code",
      "source": [
        "df_indexed = df.set_index('DateTime', sorted=True)"
      ],
      "metadata": {
        "id": "BIg2rJzaKYNt"
      },
      "execution_count": null,
      "outputs": []
    },
    {
      "cell_type": "code",
      "source": [
        "df_indexed.divisions"
      ],
      "metadata": {
        "colab": {
          "base_uri": "https://localhost:8080/"
        },
        "id": "lshCA3tLKisV",
        "outputId": "31498b25-6f77-49c2-8d88-80664b65233d"
      },
      "execution_count": null,
      "outputs": [
        {
          "output_type": "execute_result",
          "data": {
            "text/plain": [
              "('2001-01-01 00:01:00', '2012-12-31 23:15:00')"
            ]
          },
          "metadata": {},
          "execution_count": 17
        }
      ]
    },
    {
      "cell_type": "code",
      "source": [
        "# partitioning data by year\n",
        "\n",
        "from datetime import datetime\n",
        "from dask.dataframe.shuffle import set_partition\n",
        "\n",
        "dates = [str(datetime(x, 1, 1)) for x in range(2001, 2013)]\n",
        "df_partitioned = set_partition(df=df, index='DateTime', divisions=dates)\n",
        "df_partitioned.divisions"
      ],
      "metadata": {
        "colab": {
          "base_uri": "https://localhost:8080/"
        },
        "id": "kI_fdFhEKr3g",
        "outputId": "3227ff7c-c4b6-4ade-acae-06b8b23d1012"
      },
      "execution_count": null,
      "outputs": [
        {
          "output_type": "execute_result",
          "data": {
            "text/plain": [
              "('2001-01-01 00:00:00',\n",
              " '2002-01-01 00:00:00',\n",
              " '2003-01-01 00:00:00',\n",
              " '2004-01-01 00:00:00',\n",
              " '2005-01-01 00:00:00',\n",
              " '2006-01-01 00:00:00',\n",
              " '2007-01-01 00:00:00',\n",
              " '2008-01-01 00:00:00',\n",
              " '2009-01-01 00:00:00',\n",
              " '2010-01-01 00:00:00',\n",
              " '2011-01-01 00:00:00',\n",
              " '2012-01-01 00:00:00')"
            ]
          },
          "metadata": {},
          "execution_count": 30
        }
      ]
    },
    {
      "cell_type": "code",
      "source": [
        "df_partitioned.groupby('DayOfWeek').count().compute()"
      ],
      "metadata": {
        "colab": {
          "base_uri": "https://localhost:8080/",
          "height": 300
        },
        "id": "8n6mFmL5LPnE",
        "outputId": "445fae7d-f530-44e2-83bc-96ebe1968d29"
      },
      "execution_count": null,
      "outputs": [
        {
          "output_type": "execute_result",
          "data": {
            "text/plain": [
              "            Date  Latitude  Longitude   Hour\n",
              "DayOfWeek                                   \n",
              "0          27397     27065      27065  27397\n",
              "1          26791     26491      26491  26791\n",
              "2          27416     27089      27089  27416\n",
              "3          27319     26995      26995  27319\n",
              "4          29284     28928      28928  29284\n",
              "5          27118     26772      26772  27118\n",
              "6          26316     26025      26025  26316"
            ],
            "text/html": [
              "\n",
              "  <div id=\"df-17c62bcf-576b-4f46-bc63-93f9d581c1da\">\n",
              "    <div class=\"colab-df-container\">\n",
              "      <div>\n",
              "<style scoped>\n",
              "    .dataframe tbody tr th:only-of-type {\n",
              "        vertical-align: middle;\n",
              "    }\n",
              "\n",
              "    .dataframe tbody tr th {\n",
              "        vertical-align: top;\n",
              "    }\n",
              "\n",
              "    .dataframe thead th {\n",
              "        text-align: right;\n",
              "    }\n",
              "</style>\n",
              "<table border=\"1\" class=\"dataframe\">\n",
              "  <thead>\n",
              "    <tr style=\"text-align: right;\">\n",
              "      <th></th>\n",
              "      <th>Date</th>\n",
              "      <th>Latitude</th>\n",
              "      <th>Longitude</th>\n",
              "      <th>Hour</th>\n",
              "    </tr>\n",
              "    <tr>\n",
              "      <th>DayOfWeek</th>\n",
              "      <th></th>\n",
              "      <th></th>\n",
              "      <th></th>\n",
              "      <th></th>\n",
              "    </tr>\n",
              "  </thead>\n",
              "  <tbody>\n",
              "    <tr>\n",
              "      <th>0</th>\n",
              "      <td>27397</td>\n",
              "      <td>27065</td>\n",
              "      <td>27065</td>\n",
              "      <td>27397</td>\n",
              "    </tr>\n",
              "    <tr>\n",
              "      <th>1</th>\n",
              "      <td>26791</td>\n",
              "      <td>26491</td>\n",
              "      <td>26491</td>\n",
              "      <td>26791</td>\n",
              "    </tr>\n",
              "    <tr>\n",
              "      <th>2</th>\n",
              "      <td>27416</td>\n",
              "      <td>27089</td>\n",
              "      <td>27089</td>\n",
              "      <td>27416</td>\n",
              "    </tr>\n",
              "    <tr>\n",
              "      <th>3</th>\n",
              "      <td>27319</td>\n",
              "      <td>26995</td>\n",
              "      <td>26995</td>\n",
              "      <td>27319</td>\n",
              "    </tr>\n",
              "    <tr>\n",
              "      <th>4</th>\n",
              "      <td>29284</td>\n",
              "      <td>28928</td>\n",
              "      <td>28928</td>\n",
              "      <td>29284</td>\n",
              "    </tr>\n",
              "    <tr>\n",
              "      <th>5</th>\n",
              "      <td>27118</td>\n",
              "      <td>26772</td>\n",
              "      <td>26772</td>\n",
              "      <td>27118</td>\n",
              "    </tr>\n",
              "    <tr>\n",
              "      <th>6</th>\n",
              "      <td>26316</td>\n",
              "      <td>26025</td>\n",
              "      <td>26025</td>\n",
              "      <td>26316</td>\n",
              "    </tr>\n",
              "  </tbody>\n",
              "</table>\n",
              "</div>\n",
              "      <button class=\"colab-df-convert\" onclick=\"convertToInteractive('df-17c62bcf-576b-4f46-bc63-93f9d581c1da')\"\n",
              "              title=\"Convert this dataframe to an interactive table.\"\n",
              "              style=\"display:none;\">\n",
              "        \n",
              "  <svg xmlns=\"http://www.w3.org/2000/svg\" height=\"24px\"viewBox=\"0 0 24 24\"\n",
              "       width=\"24px\">\n",
              "    <path d=\"M0 0h24v24H0V0z\" fill=\"none\"/>\n",
              "    <path d=\"M18.56 5.44l.94 2.06.94-2.06 2.06-.94-2.06-.94-.94-2.06-.94 2.06-2.06.94zm-11 1L8.5 8.5l.94-2.06 2.06-.94-2.06-.94L8.5 2.5l-.94 2.06-2.06.94zm10 10l.94 2.06.94-2.06 2.06-.94-2.06-.94-.94-2.06-.94 2.06-2.06.94z\"/><path d=\"M17.41 7.96l-1.37-1.37c-.4-.4-.92-.59-1.43-.59-.52 0-1.04.2-1.43.59L10.3 9.45l-7.72 7.72c-.78.78-.78 2.05 0 2.83L4 21.41c.39.39.9.59 1.41.59.51 0 1.02-.2 1.41-.59l7.78-7.78 2.81-2.81c.8-.78.8-2.07 0-2.86zM5.41 20L4 18.59l7.72-7.72 1.47 1.35L5.41 20z\"/>\n",
              "  </svg>\n",
              "      </button>\n",
              "      \n",
              "  <style>\n",
              "    .colab-df-container {\n",
              "      display:flex;\n",
              "      flex-wrap:wrap;\n",
              "      gap: 12px;\n",
              "    }\n",
              "\n",
              "    .colab-df-convert {\n",
              "      background-color: #E8F0FE;\n",
              "      border: none;\n",
              "      border-radius: 50%;\n",
              "      cursor: pointer;\n",
              "      display: none;\n",
              "      fill: #1967D2;\n",
              "      height: 32px;\n",
              "      padding: 0 0 0 0;\n",
              "      width: 32px;\n",
              "    }\n",
              "\n",
              "    .colab-df-convert:hover {\n",
              "      background-color: #E2EBFA;\n",
              "      box-shadow: 0px 1px 2px rgba(60, 64, 67, 0.3), 0px 1px 3px 1px rgba(60, 64, 67, 0.15);\n",
              "      fill: #174EA6;\n",
              "    }\n",
              "\n",
              "    [theme=dark] .colab-df-convert {\n",
              "      background-color: #3B4455;\n",
              "      fill: #D2E3FC;\n",
              "    }\n",
              "\n",
              "    [theme=dark] .colab-df-convert:hover {\n",
              "      background-color: #434B5C;\n",
              "      box-shadow: 0px 1px 3px 1px rgba(0, 0, 0, 0.15);\n",
              "      filter: drop-shadow(0px 1px 2px rgba(0, 0, 0, 0.3));\n",
              "      fill: #FFFFFF;\n",
              "    }\n",
              "  </style>\n",
              "\n",
              "      <script>\n",
              "        const buttonEl =\n",
              "          document.querySelector('#df-17c62bcf-576b-4f46-bc63-93f9d581c1da button.colab-df-convert');\n",
              "        buttonEl.style.display =\n",
              "          google.colab.kernel.accessAllowed ? 'block' : 'none';\n",
              "\n",
              "        async function convertToInteractive(key) {\n",
              "          const element = document.querySelector('#df-17c62bcf-576b-4f46-bc63-93f9d581c1da');\n",
              "          const dataTable =\n",
              "            await google.colab.kernel.invokeFunction('convertToInteractive',\n",
              "                                                     [key], {});\n",
              "          if (!dataTable) return;\n",
              "\n",
              "          const docLinkHtml = 'Like what you see? Visit the ' +\n",
              "            '<a target=\"_blank\" href=https://colab.research.google.com/notebooks/data_table.ipynb>data table notebook</a>'\n",
              "            + ' to learn more about interactive tables.';\n",
              "          element.innerHTML = '';\n",
              "          dataTable['output_type'] = 'display_data';\n",
              "          await google.colab.output.renderOutput(dataTable, element);\n",
              "          const docLink = document.createElement('div');\n",
              "          docLink.innerHTML = docLinkHtml;\n",
              "          element.appendChild(docLink);\n",
              "        }\n",
              "      </script>\n",
              "    </div>\n",
              "  </div>\n",
              "  "
            ]
          },
          "metadata": {},
          "execution_count": 31
        }
      ]
    },
    {
      "cell_type": "code",
      "source": [
        "df_partitioned.groupby('DayOfWeek').Hour.count().compute()"
      ],
      "metadata": {
        "colab": {
          "base_uri": "https://localhost:8080/"
        },
        "id": "q5rDK96sOQGI",
        "outputId": "ea70e3c0-db4d-4082-83d7-4bb126e18b9f"
      },
      "execution_count": null,
      "outputs": [
        {
          "output_type": "execute_result",
          "data": {
            "text/plain": [
              "DayOfWeek\n",
              "0    27397\n",
              "1    26791\n",
              "2    27416\n",
              "3    27319\n",
              "4    29284\n",
              "5    27118\n",
              "6    26316\n",
              "Name: Hour, dtype: int64"
            ]
          },
          "metadata": {},
          "execution_count": 32
        }
      ]
    },
    {
      "cell_type": "code",
      "source": [
        "df_partitioned.Hour.value_counts().compute()"
      ],
      "metadata": {
        "colab": {
          "base_uri": "https://localhost:8080/"
        },
        "id": "8n5wypszOfoo",
        "outputId": "4b9f7ae2-6d0e-423d-fc05-692644a5da11"
      },
      "execution_count": null,
      "outputs": [
        {
          "output_type": "execute_result",
          "data": {
            "text/plain": [
              "22    14745\n",
              "0     13212\n",
              "21    12434\n",
              "20    11716\n",
              "23    11293\n",
              "18    10521\n",
              "19    10427\n",
              "17     8635\n",
              "12     8158\n",
              "9      8136\n",
              "8      7866\n",
              "16     7736\n",
              "15     7512\n",
              "7      6852\n",
              "1      6643\n",
              "10     6566\n",
              "14     6419\n",
              "13     5555\n",
              "11     5415\n",
              "2      5377\n",
              "6      5136\n",
              "3      4202\n",
              "5      3728\n",
              "4      3357\n",
              "Name: Hour, dtype: int64"
            ]
          },
          "metadata": {},
          "execution_count": 33
        }
      ]
    },
    {
      "cell_type": "markdown",
      "source": [
        "# Bags\n",
        "\n",
        "Very useful to process unstructured data"
      ],
      "metadata": {
        "id": "kPnrK5vuZXcc"
      }
    },
    {
      "cell_type": "code",
      "source": [
        "def is_even(n):\n",
        "    return n % 2 == 0\n",
        "\n",
        "b = bag.from_sequence([1, 2, 3, 4, 5, 6, 7, 8, 9, 10])\n",
        "\n",
        "# map: apply a function to each element\n",
        "c = b.filter(is_even).map(lambda x: x ** 2)\n",
        "c.compute()"
      ],
      "metadata": {
        "colab": {
          "base_uri": "https://localhost:8080/"
        },
        "id": "0wMp4oxUxZny",
        "outputId": "e5904b8c-5b73-433a-9998-76239cfa7b92"
      },
      "execution_count": null,
      "outputs": [
        {
          "output_type": "execute_result",
          "data": {
            "text/plain": [
              "[4, 16, 36, 64, 100]"
            ]
          },
          "metadata": {},
          "execution_count": 72
        }
      ]
    },
    {
      "cell_type": "code",
      "source": [
        "def count_occurrencies(d):\n",
        "    return {'name': d['name'], 'count': len(d['transactions'])}\n",
        "\n",
        "# map: apply a function to each element\n",
        "# pluck: select a field, as from a dictionary, element[field]\n",
        "\n",
        "(some_bag.filter(lambda record: record['name'] == 'Alice')\n",
        "   .map(count_occurrencies)\n",
        "   .pluck('count')\n",
        "   .take(5))"
      ],
      "metadata": {
        "id": "VA6uD0MIxz7b"
      },
      "execution_count": null,
      "outputs": []
    },
    {
      "cell_type": "code",
      "source": [
        "# reduction: Reduce collection with reduction operators.\n",
        "\n",
        "b = bag.from_sequence([1, 2, 3, 4, 5, 6, 7, 8, 9, 10])\n",
        "b.reduction(sum, sum).compute()"
      ],
      "metadata": {
        "colab": {
          "base_uri": "https://localhost:8080/"
        },
        "id": "MZ_PUomT0zbW",
        "outputId": "010e425a-2e14-4d6b-a4d4-314ead0456b9"
      },
      "execution_count": null,
      "outputs": [
        {
          "output_type": "execute_result",
          "data": {
            "text/plain": [
              "55"
            ]
          },
          "metadata": {},
          "execution_count": 78
        }
      ]
    },
    {
      "cell_type": "code",
      "source": [
        "# groupby: Shuffles data so that all items with the same key are in the same key-value pair\n",
        "# groupby is slow. Try to use Bag.foldby\n",
        "\n",
        "b = bag.from_sequence(['Alice', 'Bob', 'Charlie', 'Dan', 'Edith', 'Frank'])\n",
        "b.groupby(len).compute()  # names grouped by length"
      ],
      "metadata": {
        "colab": {
          "base_uri": "https://localhost:8080/"
        },
        "id": "lwWEM3TyzAxB",
        "outputId": "06ccc4ee-408d-487a-92f6-0d06d339b370"
      },
      "execution_count": null,
      "outputs": [
        {
          "output_type": "execute_result",
          "data": {
            "text/plain": [
              "[(7, ['Charlie']), (3, ['Bob', 'Dan']), (5, ['Alice', 'Edith', 'Frank'])]"
            ]
          },
          "metadata": {},
          "execution_count": 74
        }
      ]
    },
    {
      "cell_type": "code",
      "source": [
        "# foldby(key, binop, combine)\n",
        "# A key function determines how to group the elements in your bag.\n",
        "# Binop (binary operator) takes a running total and a new element and produces a new total. It continuosly add to a total.\n",
        "# Combine takes two totals and combines them.\n",
        "# https://docs.dask.org/en/stable/generated/dask.bag.Bag.foldby.html\n",
        "\n",
        "b = bag.from_sequence([1, 2, 3, 4, 5, 6, 7, 8, 9, 10])\n",
        "is_even = lambda x: x % 2\n",
        "b.foldby(is_even, # key\n",
        "         binop=max, # binop\n",
        "         combine=max # combine\n",
        "         ).compute()"
      ],
      "metadata": {
        "colab": {
          "base_uri": "https://localhost:8080/"
        },
        "id": "fP6dk0HxznPb",
        "outputId": "31b940b5-6f4d-46ad-f534-15f69d56a300"
      },
      "execution_count": null,
      "outputs": [
        {
          "output_type": "execute_result",
          "data": {
            "text/plain": [
              "[(1, 9), (0, 10)]"
            ]
          },
          "metadata": {},
          "execution_count": 76
        }
      ]
    },
    {
      "cell_type": "code",
      "source": [
        "# Select item from all tuples/dicts in collection.\n",
        "\n",
        "b = bag.from_sequence([{'name': 'Alice', 'credits': [1, 2, 3]},\n",
        "                       {'name': 'Bob',   'credits': [10, 20]}])\n",
        "print(list(b.pluck('name')))\n",
        "print(list(b.pluck('name'))[0])\n",
        "\n",
        "\n",
        "print(list(b.pluck('credits').pluck(0)))"
      ],
      "metadata": {
        "colab": {
          "base_uri": "https://localhost:8080/"
        },
        "id": "t5NdkdTYMyOL",
        "outputId": "094070df-f7b0-44e7-95eb-0cd8ddfb997c"
      },
      "execution_count": 18,
      "outputs": [
        {
          "output_type": "stream",
          "name": "stdout",
          "text": [
            "['Alice', 'Bob']\n",
            "Alice\n",
            "[1, 10]\n"
          ]
        }
      ]
    },
    {
      "cell_type": "code",
      "source": [
        "!wget https://data.gharchive.org/2016-01-01-{0..23}.json.gz"
      ],
      "metadata": {
        "colab": {
          "base_uri": "https://localhost:8080/"
        },
        "id": "Qh17-a5ni3gD",
        "outputId": "1b8552ec-6a62-4480-f64b-b739ee8daa53"
      },
      "execution_count": 3,
      "outputs": [
        {
          "output_type": "stream",
          "name": "stdout",
          "text": [
            "--2023-07-04 23:12:31--  https://data.gharchive.org/2016-01-01-0.json.gz\n",
            "Resolving data.gharchive.org (data.gharchive.org)... 104.21.46.175, 172.67.168.206, 2606:4700:3037::6815:2eaf, ...\n",
            "Connecting to data.gharchive.org (data.gharchive.org)|104.21.46.175|:443... connected.\n",
            "HTTP request sent, awaiting response... 200 OK\n",
            "Length: 4414816 (4.2M) [application/gzip]\n",
            "Saving to: ‘2016-01-01-0.json.gz’\n",
            "\n",
            "2016-01-01-0.json.g 100%[===================>]   4.21M  --.-KB/s    in 0.1s    \n",
            "\n",
            "2023-07-04 23:12:32 (28.3 MB/s) - ‘2016-01-01-0.json.gz’ saved [4414816/4414816]\n",
            "\n",
            "--2023-07-04 23:12:32--  https://data.gharchive.org/2016-01-01-1.json.gz\n",
            "Reusing existing connection to data.gharchive.org:443.\n",
            "HTTP request sent, awaiting response... 200 OK\n",
            "Length: 4010933 (3.8M) [application/gzip]\n",
            "Saving to: ‘2016-01-01-1.json.gz’\n",
            "\n",
            "2016-01-01-1.json.g 100%[===================>]   3.82M  --.-KB/s    in 0.02s   \n",
            "\n",
            "2023-07-04 23:12:32 (157 MB/s) - ‘2016-01-01-1.json.gz’ saved [4010933/4010933]\n",
            "\n",
            "--2023-07-04 23:12:32--  https://data.gharchive.org/2016-01-01-2.json.gz\n",
            "Reusing existing connection to data.gharchive.org:443.\n",
            "HTTP request sent, awaiting response... 200 OK\n",
            "Length: 3597264 (3.4M) [application/gzip]\n",
            "Saving to: ‘2016-01-01-2.json.gz’\n",
            "\n",
            "2016-01-01-2.json.g 100%[===================>]   3.43M  --.-KB/s    in 0.02s   \n",
            "\n",
            "2023-07-04 23:12:32 (225 MB/s) - ‘2016-01-01-2.json.gz’ saved [3597264/3597264]\n",
            "\n",
            "--2023-07-04 23:12:32--  https://data.gharchive.org/2016-01-01-3.json.gz\n",
            "Reusing existing connection to data.gharchive.org:443.\n",
            "HTTP request sent, awaiting response... 200 OK\n",
            "Length: 3456973 (3.3M) [application/gzip]\n",
            "Saving to: ‘2016-01-01-3.json.gz’\n",
            "\n",
            "2016-01-01-3.json.g 100%[===================>]   3.30M  --.-KB/s    in 0.01s   \n",
            "\n",
            "2023-07-04 23:12:32 (243 MB/s) - ‘2016-01-01-3.json.gz’ saved [3456973/3456973]\n",
            "\n",
            "--2023-07-04 23:12:32--  https://data.gharchive.org/2016-01-01-4.json.gz\n",
            "Reusing existing connection to data.gharchive.org:443.\n",
            "HTTP request sent, awaiting response... 200 OK\n",
            "Length: 3126860 (3.0M) [application/gzip]\n",
            "Saving to: ‘2016-01-01-4.json.gz’\n",
            "\n",
            "2016-01-01-4.json.g 100%[===================>]   2.98M  --.-KB/s    in 0.02s   \n",
            "\n",
            "2023-07-04 23:12:33 (126 MB/s) - ‘2016-01-01-4.json.gz’ saved [3126860/3126860]\n",
            "\n",
            "--2023-07-04 23:12:33--  https://data.gharchive.org/2016-01-01-5.json.gz\n",
            "Reusing existing connection to data.gharchive.org:443.\n",
            "HTTP request sent, awaiting response... 200 OK\n",
            "Length: 2789415 (2.7M) [application/gzip]\n",
            "Saving to: ‘2016-01-01-5.json.gz’\n",
            "\n",
            "2016-01-01-5.json.g 100%[===================>]   2.66M  --.-KB/s    in 0.01s   \n",
            "\n",
            "2023-07-04 23:12:33 (238 MB/s) - ‘2016-01-01-5.json.gz’ saved [2789415/2789415]\n",
            "\n",
            "--2023-07-04 23:12:33--  https://data.gharchive.org/2016-01-01-6.json.gz\n",
            "Reusing existing connection to data.gharchive.org:443.\n",
            "HTTP request sent, awaiting response... 200 OK\n",
            "Length: 3042257 (2.9M) [application/gzip]\n",
            "Saving to: ‘2016-01-01-6.json.gz’\n",
            "\n",
            "2016-01-01-6.json.g 100%[===================>]   2.90M  --.-KB/s    in 0.02s   \n",
            "\n",
            "2023-07-04 23:12:33 (167 MB/s) - ‘2016-01-01-6.json.gz’ saved [3042257/3042257]\n",
            "\n",
            "--2023-07-04 23:12:33--  https://data.gharchive.org/2016-01-01-7.json.gz\n",
            "Reusing existing connection to data.gharchive.org:443.\n",
            "HTTP request sent, awaiting response... 200 OK\n",
            "Length: 2976325 (2.8M) [application/gzip]\n",
            "Saving to: ‘2016-01-01-7.json.gz’\n",
            "\n",
            "2016-01-01-7.json.g 100%[===================>]   2.84M  --.-KB/s    in 0.01s   \n",
            "\n",
            "2023-07-04 23:12:33 (200 MB/s) - ‘2016-01-01-7.json.gz’ saved [2976325/2976325]\n",
            "\n",
            "--2023-07-04 23:12:33--  https://data.gharchive.org/2016-01-01-8.json.gz\n",
            "Reusing existing connection to data.gharchive.org:443.\n",
            "HTTP request sent, awaiting response... 200 OK\n",
            "Length: 2858721 (2.7M) [application/gzip]\n",
            "Saving to: ‘2016-01-01-8.json.gz’\n",
            "\n",
            "2016-01-01-8.json.g 100%[===================>]   2.73M  --.-KB/s    in 0.01s   \n",
            "\n",
            "2023-07-04 23:12:34 (186 MB/s) - ‘2016-01-01-8.json.gz’ saved [2858721/2858721]\n",
            "\n",
            "--2023-07-04 23:12:34--  https://data.gharchive.org/2016-01-01-9.json.gz\n",
            "Reusing existing connection to data.gharchive.org:443.\n",
            "HTTP request sent, awaiting response... 200 OK\n",
            "Length: 3378070 (3.2M) [application/gzip]\n",
            "Saving to: ‘2016-01-01-9.json.gz’\n",
            "\n",
            "2016-01-01-9.json.g 100%[===================>]   3.22M  --.-KB/s    in 0.02s   \n",
            "\n",
            "2023-07-04 23:12:34 (215 MB/s) - ‘2016-01-01-9.json.gz’ saved [3378070/3378070]\n",
            "\n",
            "--2023-07-04 23:12:34--  https://data.gharchive.org/2016-01-01-10.json.gz\n",
            "Reusing existing connection to data.gharchive.org:443.\n",
            "HTTP request sent, awaiting response... 200 OK\n",
            "Length: 3582317 (3.4M) [application/gzip]\n",
            "Saving to: ‘2016-01-01-10.json.gz’\n",
            "\n",
            "2016-01-01-10.json. 100%[===================>]   3.42M  --.-KB/s    in 0.03s   \n",
            "\n",
            "2023-07-04 23:12:34 (135 MB/s) - ‘2016-01-01-10.json.gz’ saved [3582317/3582317]\n",
            "\n",
            "--2023-07-04 23:12:34--  https://data.gharchive.org/2016-01-01-11.json.gz\n",
            "Reusing existing connection to data.gharchive.org:443.\n",
            "HTTP request sent, awaiting response... 200 OK\n",
            "Length: 3823826 (3.6M) [application/gzip]\n",
            "Saving to: ‘2016-01-01-11.json.gz’\n",
            "\n",
            "2016-01-01-11.json. 100%[===================>]   3.65M  --.-KB/s    in 0.02s   \n",
            "\n",
            "2023-07-04 23:12:34 (176 MB/s) - ‘2016-01-01-11.json.gz’ saved [3823826/3823826]\n",
            "\n",
            "--2023-07-04 23:12:34--  https://data.gharchive.org/2016-01-01-12.json.gz\n",
            "Reusing existing connection to data.gharchive.org:443.\n",
            "HTTP request sent, awaiting response... 200 OK\n",
            "Length: 4343146 (4.1M) [application/gzip]\n",
            "Saving to: ‘2016-01-01-12.json.gz’\n",
            "\n",
            "2016-01-01-12.json. 100%[===================>]   4.14M  --.-KB/s    in 0.1s    \n",
            "\n",
            "2023-07-04 23:12:35 (37.5 MB/s) - ‘2016-01-01-12.json.gz’ saved [4343146/4343146]\n",
            "\n",
            "--2023-07-04 23:12:35--  https://data.gharchive.org/2016-01-01-13.json.gz\n",
            "Reusing existing connection to data.gharchive.org:443.\n",
            "HTTP request sent, awaiting response... 200 OK\n",
            "Length: 4782257 (4.6M) [application/gzip]\n",
            "Saving to: ‘2016-01-01-13.json.gz’\n",
            "\n",
            "2016-01-01-13.json. 100%[===================>]   4.56M  --.-KB/s    in 0.1s    \n",
            "\n",
            "2023-07-04 23:12:35 (41.7 MB/s) - ‘2016-01-01-13.json.gz’ saved [4782257/4782257]\n",
            "\n",
            "--2023-07-04 23:12:35--  https://data.gharchive.org/2016-01-01-14.json.gz\n",
            "Reusing existing connection to data.gharchive.org:443.\n",
            "HTTP request sent, awaiting response... 200 OK\n",
            "Length: 5445633 (5.2M) [application/gzip]\n",
            "Saving to: ‘2016-01-01-14.json.gz’\n",
            "\n",
            "2016-01-01-14.json. 100%[===================>]   5.19M  16.6MB/s    in 0.3s    \n",
            "\n",
            "2023-07-04 23:12:36 (16.6 MB/s) - ‘2016-01-01-14.json.gz’ saved [5445633/5445633]\n",
            "\n",
            "--2023-07-04 23:12:36--  https://data.gharchive.org/2016-01-01-15.json.gz\n",
            "Reusing existing connection to data.gharchive.org:443.\n",
            "HTTP request sent, awaiting response... 200 OK\n",
            "Length: 5621985 (5.4M) [application/gzip]\n",
            "Saving to: ‘2016-01-01-15.json.gz’\n",
            "\n",
            "2016-01-01-15.json. 100%[===================>]   5.36M  --.-KB/s    in 0.1s    \n",
            "\n",
            "2023-07-04 23:12:36 (36.0 MB/s) - ‘2016-01-01-15.json.gz’ saved [5621985/5621985]\n",
            "\n",
            "--2023-07-04 23:12:36--  https://data.gharchive.org/2016-01-01-16.json.gz\n",
            "Reusing existing connection to data.gharchive.org:443.\n",
            "HTTP request sent, awaiting response... 200 OK\n",
            "Length: 5923879 (5.6M) [application/gzip]\n",
            "Saving to: ‘2016-01-01-16.json.gz’\n",
            "\n",
            "2016-01-01-16.json. 100%[===================>]   5.65M  --.-KB/s    in 0.1s    \n",
            "\n",
            "2023-07-04 23:12:36 (45.1 MB/s) - ‘2016-01-01-16.json.gz’ saved [5923879/5923879]\n",
            "\n",
            "--2023-07-04 23:12:36--  https://data.gharchive.org/2016-01-01-17.json.gz\n",
            "Reusing existing connection to data.gharchive.org:443.\n",
            "HTTP request sent, awaiting response... 200 OK\n",
            "Length: 6261798 (6.0M) [application/gzip]\n",
            "Saving to: ‘2016-01-01-17.json.gz’\n",
            "\n",
            "2016-01-01-17.json. 100%[===================>]   5.97M  36.0MB/s    in 0.2s    \n",
            "\n",
            "2023-07-04 23:12:37 (36.0 MB/s) - ‘2016-01-01-17.json.gz’ saved [6261798/6261798]\n",
            "\n",
            "--2023-07-04 23:12:37--  https://data.gharchive.org/2016-01-01-18.json.gz\n",
            "Reusing existing connection to data.gharchive.org:443.\n",
            "HTTP request sent, awaiting response... 200 OK\n",
            "Length: 6024719 (5.7M) [application/gzip]\n",
            "Saving to: ‘2016-01-01-18.json.gz’\n",
            "\n",
            "2016-01-01-18.json. 100%[===================>]   5.75M  --.-KB/s    in 0.03s   \n",
            "\n",
            "2023-07-04 23:12:37 (229 MB/s) - ‘2016-01-01-18.json.gz’ saved [6024719/6024719]\n",
            "\n",
            "--2023-07-04 23:12:37--  https://data.gharchive.org/2016-01-01-19.json.gz\n",
            "Reusing existing connection to data.gharchive.org:443.\n",
            "HTTP request sent, awaiting response... 200 OK\n",
            "Length: 6290522 (6.0M) [application/gzip]\n",
            "Saving to: ‘2016-01-01-19.json.gz’\n",
            "\n",
            "2016-01-01-19.json. 100%[===================>]   6.00M  34.2MB/s    in 0.2s    \n",
            "\n",
            "2023-07-04 23:12:38 (34.2 MB/s) - ‘2016-01-01-19.json.gz’ saved [6290522/6290522]\n",
            "\n",
            "--2023-07-04 23:12:38--  https://data.gharchive.org/2016-01-01-20.json.gz\n",
            "Reusing existing connection to data.gharchive.org:443.\n",
            "HTTP request sent, awaiting response... 200 OK\n",
            "Length: 6228889 (5.9M) [application/gzip]\n",
            "Saving to: ‘2016-01-01-20.json.gz’\n",
            "\n",
            "2016-01-01-20.json. 100%[===================>]   5.94M  34.8MB/s    in 0.2s    \n",
            "\n",
            "2023-07-04 23:12:38 (34.8 MB/s) - ‘2016-01-01-20.json.gz’ saved [6228889/6228889]\n",
            "\n",
            "--2023-07-04 23:12:38--  https://data.gharchive.org/2016-01-01-21.json.gz\n",
            "Reusing existing connection to data.gharchive.org:443.\n",
            "HTTP request sent, awaiting response... 200 OK\n",
            "Length: 6507634 (6.2M) [application/gzip]\n",
            "Saving to: ‘2016-01-01-21.json.gz’\n",
            "\n",
            "2016-01-01-21.json. 100%[===================>]   6.21M  26.1MB/s    in 0.2s    \n",
            "\n",
            "2023-07-04 23:12:39 (26.1 MB/s) - ‘2016-01-01-21.json.gz’ saved [6507634/6507634]\n",
            "\n",
            "--2023-07-04 23:12:39--  https://data.gharchive.org/2016-01-01-22.json.gz\n",
            "Reusing existing connection to data.gharchive.org:443.\n",
            "HTTP request sent, awaiting response... 200 OK\n",
            "Length: 6322826 (6.0M) [application/gzip]\n",
            "Saving to: ‘2016-01-01-22.json.gz’\n",
            "\n",
            "2016-01-01-22.json. 100%[===================>]   6.03M  --.-KB/s    in 0.1s    \n",
            "\n",
            "2023-07-04 23:12:39 (47.3 MB/s) - ‘2016-01-01-22.json.gz’ saved [6322826/6322826]\n",
            "\n",
            "--2023-07-04 23:12:39--  https://data.gharchive.org/2016-01-01-23.json.gz\n",
            "Reusing existing connection to data.gharchive.org:443.\n",
            "HTTP request sent, awaiting response... 200 OK\n",
            "Length: 6021656 (5.7M) [application/gzip]\n",
            "Saving to: ‘2016-01-01-23.json.gz’\n",
            "\n",
            "2016-01-01-23.json. 100%[===================>]   5.74M  37.9MB/s    in 0.2s    \n",
            "\n",
            "2023-07-04 23:12:39 (37.9 MB/s) - ‘2016-01-01-23.json.gz’ saved [6021656/6021656]\n",
            "\n",
            "FINISHED --2023-07-04 23:12:39--\n",
            "Total wall clock time: 8.3s\n",
            "Downloaded: 24 files, 106M in 2.2s (48.0 MB/s)\n"
          ]
        }
      ]
    },
    {
      "cell_type": "code",
      "source": [
        "!wget https://data.gharchive.org/2015-12-31-{0..23}.json.gz"
      ],
      "metadata": {
        "colab": {
          "base_uri": "https://localhost:8080/"
        },
        "id": "FYzf6R7ii4yL",
        "outputId": "5d6afed2-40fb-4d84-815e-fbf0d0d15bbc"
      },
      "execution_count": 4,
      "outputs": [
        {
          "output_type": "stream",
          "name": "stdout",
          "text": [
            "--2023-07-04 23:12:39--  https://data.gharchive.org/2015-12-31-0.json.gz\n",
            "Resolving data.gharchive.org (data.gharchive.org)... 104.21.46.175, 172.67.168.206, 2606:4700:3037::6815:2eaf, ...\n",
            "Connecting to data.gharchive.org (data.gharchive.org)|104.21.46.175|:443... connected.\n",
            "HTTP request sent, awaiting response... 200 OK\n",
            "Length: 7885556 (7.5M) [application/gzip]\n",
            "Saving to: ‘2015-12-31-0.json.gz’\n",
            "\n",
            "2015-12-31-0.json.g 100%[===================>]   7.52M  42.5MB/s    in 0.2s    \n",
            "\n",
            "2023-07-04 23:12:40 (42.5 MB/s) - ‘2015-12-31-0.json.gz’ saved [7885556/7885556]\n",
            "\n",
            "--2023-07-04 23:12:40--  https://data.gharchive.org/2015-12-31-1.json.gz\n",
            "Reusing existing connection to data.gharchive.org:443.\n",
            "HTTP request sent, awaiting response... 200 OK\n",
            "Length: 7186771 (6.9M) [application/gzip]\n",
            "Saving to: ‘2015-12-31-1.json.gz’\n",
            "\n",
            "2015-12-31-1.json.g 100%[===================>]   6.85M  --.-KB/s    in 0.1s    \n",
            "\n",
            "2023-07-04 23:12:40 (50.4 MB/s) - ‘2015-12-31-1.json.gz’ saved [7186771/7186771]\n",
            "\n",
            "--2023-07-04 23:12:40--  https://data.gharchive.org/2015-12-31-2.json.gz\n",
            "Reusing existing connection to data.gharchive.org:443.\n",
            "HTTP request sent, awaiting response... 200 OK\n",
            "Length: 6903613 (6.6M) [application/gzip]\n",
            "Saving to: ‘2015-12-31-2.json.gz’\n",
            "\n",
            "2015-12-31-2.json.g 100%[===================>]   6.58M  --.-KB/s    in 0.1s    \n",
            "\n",
            "2023-07-04 23:12:41 (66.9 MB/s) - ‘2015-12-31-2.json.gz’ saved [6903613/6903613]\n",
            "\n",
            "--2023-07-04 23:12:41--  https://data.gharchive.org/2015-12-31-3.json.gz\n",
            "Reusing existing connection to data.gharchive.org:443.\n",
            "HTTP request sent, awaiting response... 200 OK\n",
            "Length: 6561131 (6.3M) [application/gzip]\n",
            "Saving to: ‘2015-12-31-3.json.gz’\n",
            "\n",
            "2015-12-31-3.json.g 100%[===================>]   6.26M  41.6MB/s    in 0.2s    \n",
            "\n",
            "2023-07-04 23:12:41 (41.6 MB/s) - ‘2015-12-31-3.json.gz’ saved [6561131/6561131]\n",
            "\n",
            "--2023-07-04 23:12:41--  https://data.gharchive.org/2015-12-31-4.json.gz\n",
            "Reusing existing connection to data.gharchive.org:443.\n",
            "HTTP request sent, awaiting response... 200 OK\n",
            "Length: 5693726 (5.4M) [application/gzip]\n",
            "Saving to: ‘2015-12-31-4.json.gz’\n",
            "\n",
            "2015-12-31-4.json.g 100%[===================>]   5.43M  --.-KB/s    in 0.04s   \n",
            "\n",
            "2023-07-04 23:12:41 (150 MB/s) - ‘2015-12-31-4.json.gz’ saved [5693726/5693726]\n",
            "\n",
            "--2023-07-04 23:12:41--  https://data.gharchive.org/2015-12-31-5.json.gz\n",
            "Reusing existing connection to data.gharchive.org:443.\n",
            "HTTP request sent, awaiting response... 200 OK\n",
            "Length: 5754583 (5.5M) [application/gzip]\n",
            "Saving to: ‘2015-12-31-5.json.gz’\n",
            "\n",
            "2015-12-31-5.json.g 100%[===================>]   5.49M  --.-KB/s    in 0.1s    \n",
            "\n",
            "2023-07-04 23:12:42 (40.2 MB/s) - ‘2015-12-31-5.json.gz’ saved [5754583/5754583]\n",
            "\n",
            "--2023-07-04 23:12:42--  https://data.gharchive.org/2015-12-31-6.json.gz\n",
            "Reusing existing connection to data.gharchive.org:443.\n",
            "HTTP request sent, awaiting response... 200 OK\n",
            "Length: 6382853 (6.1M) [application/gzip]\n",
            "Saving to: ‘2015-12-31-6.json.gz’\n",
            "\n",
            "2015-12-31-6.json.g 100%[===================>]   6.09M  29.6MB/s    in 0.2s    \n",
            "\n",
            "2023-07-04 23:12:42 (29.6 MB/s) - ‘2015-12-31-6.json.gz’ saved [6382853/6382853]\n",
            "\n",
            "--2023-07-04 23:12:42--  https://data.gharchive.org/2015-12-31-7.json.gz\n",
            "Reusing existing connection to data.gharchive.org:443.\n",
            "HTTP request sent, awaiting response... 200 OK\n",
            "Length: 6590087 (6.3M) [application/gzip]\n",
            "Saving to: ‘2015-12-31-7.json.gz’\n",
            "\n",
            "2015-12-31-7.json.g 100%[===================>]   6.28M  33.2MB/s    in 0.2s    \n",
            "\n",
            "2023-07-04 23:12:43 (33.2 MB/s) - ‘2015-12-31-7.json.gz’ saved [6590087/6590087]\n",
            "\n",
            "--2023-07-04 23:12:43--  https://data.gharchive.org/2015-12-31-8.json.gz\n",
            "Reusing existing connection to data.gharchive.org:443.\n",
            "HTTP request sent, awaiting response... 200 OK\n",
            "Length: 6930855 (6.6M) [application/gzip]\n",
            "Saving to: ‘2015-12-31-8.json.gz’\n",
            "\n",
            "2015-12-31-8.json.g 100%[===================>]   6.61M  36.1MB/s    in 0.2s    \n",
            "\n",
            "2023-07-04 23:12:43 (36.1 MB/s) - ‘2015-12-31-8.json.gz’ saved [6930855/6930855]\n",
            "\n",
            "--2023-07-04 23:12:43--  https://data.gharchive.org/2015-12-31-9.json.gz\n",
            "Reusing existing connection to data.gharchive.org:443.\n",
            "HTTP request sent, awaiting response... 200 OK\n",
            "Length: 7350609 (7.0M) [application/gzip]\n",
            "Saving to: ‘2015-12-31-9.json.gz’\n",
            "\n",
            "2015-12-31-9.json.g 100%[===================>]   7.01M  34.6MB/s    in 0.2s    \n",
            "\n",
            "2023-07-04 23:12:44 (34.6 MB/s) - ‘2015-12-31-9.json.gz’ saved [7350609/7350609]\n",
            "\n",
            "--2023-07-04 23:12:44--  https://data.gharchive.org/2015-12-31-10.json.gz\n",
            "Reusing existing connection to data.gharchive.org:443.\n",
            "HTTP request sent, awaiting response... 200 OK\n",
            "Length: 7139628 (6.8M) [application/gzip]\n",
            "Saving to: ‘2015-12-31-10.json.gz’\n",
            "\n",
            "2015-12-31-10.json. 100%[===================>]   6.81M  --.-KB/s    in 0.1s    \n",
            "\n",
            "2023-07-04 23:12:44 (49.1 MB/s) - ‘2015-12-31-10.json.gz’ saved [7139628/7139628]\n",
            "\n",
            "--2023-07-04 23:12:44--  https://data.gharchive.org/2015-12-31-11.json.gz\n",
            "Reusing existing connection to data.gharchive.org:443.\n",
            "HTTP request sent, awaiting response... 200 OK\n",
            "Length: 6721763 (6.4M) [application/gzip]\n",
            "Saving to: ‘2015-12-31-11.json.gz’\n",
            "\n",
            "2015-12-31-11.json. 100%[===================>]   6.41M  39.2MB/s    in 0.2s    \n",
            "\n",
            "2023-07-04 23:12:44 (39.2 MB/s) - ‘2015-12-31-11.json.gz’ saved [6721763/6721763]\n",
            "\n",
            "--2023-07-04 23:12:44--  https://data.gharchive.org/2015-12-31-12.json.gz\n",
            "Reusing existing connection to data.gharchive.org:443.\n",
            "HTTP request sent, awaiting response... 200 OK\n",
            "Length: 6755606 (6.4M) [application/gzip]\n",
            "Saving to: ‘2015-12-31-12.json.gz’\n",
            "\n",
            "2015-12-31-12.json. 100%[===================>]   6.44M  38.2MB/s    in 0.2s    \n",
            "\n",
            "2023-07-04 23:12:45 (38.2 MB/s) - ‘2015-12-31-12.json.gz’ saved [6755606/6755606]\n",
            "\n",
            "--2023-07-04 23:12:45--  https://data.gharchive.org/2015-12-31-13.json.gz\n",
            "Reusing existing connection to data.gharchive.org:443.\n",
            "HTTP request sent, awaiting response... 200 OK\n",
            "Length: 7370629 (7.0M) [application/gzip]\n",
            "Saving to: ‘2015-12-31-13.json.gz’\n",
            "\n",
            "2015-12-31-13.json. 100%[===================>]   7.03M  41.4MB/s    in 0.2s    \n",
            "\n",
            "2023-07-04 23:12:45 (41.4 MB/s) - ‘2015-12-31-13.json.gz’ saved [7370629/7370629]\n",
            "\n",
            "--2023-07-04 23:12:45--  https://data.gharchive.org/2015-12-31-14.json.gz\n",
            "Reusing existing connection to data.gharchive.org:443.\n",
            "HTTP request sent, awaiting response... 200 OK\n",
            "Length: 8083372 (7.7M) [application/gzip]\n",
            "Saving to: ‘2015-12-31-14.json.gz’\n",
            "\n",
            "2015-12-31-14.json. 100%[===================>]   7.71M  35.0MB/s    in 0.2s    \n",
            "\n",
            "2023-07-04 23:12:46 (35.0 MB/s) - ‘2015-12-31-14.json.gz’ saved [8083372/8083372]\n",
            "\n",
            "--2023-07-04 23:12:46--  https://data.gharchive.org/2015-12-31-15.json.gz\n",
            "Reusing existing connection to data.gharchive.org:443.\n",
            "HTTP request sent, awaiting response... 200 OK\n",
            "Length: 8174969 (7.8M) [application/gzip]\n",
            "Saving to: ‘2015-12-31-15.json.gz’\n",
            "\n",
            "2015-12-31-15.json. 100%[===================>]   7.80M  --.-KB/s    in 0.05s   \n",
            "\n",
            "2023-07-04 23:12:46 (170 MB/s) - ‘2015-12-31-15.json.gz’ saved [8174969/8174969]\n",
            "\n",
            "--2023-07-04 23:12:46--  https://data.gharchive.org/2015-12-31-16.json.gz\n",
            "Reusing existing connection to data.gharchive.org:443.\n",
            "HTTP request sent, awaiting response... 200 OK\n",
            "Length: 8663228 (8.3M) [application/gzip]\n",
            "Saving to: ‘2015-12-31-16.json.gz’\n",
            "\n",
            "2015-12-31-16.json. 100%[===================>]   8.26M  50.5MB/s    in 0.2s    \n",
            "\n",
            "2023-07-04 23:12:46 (50.5 MB/s) - ‘2015-12-31-16.json.gz’ saved [8663228/8663228]\n",
            "\n",
            "--2023-07-04 23:12:46--  https://data.gharchive.org/2015-12-31-17.json.gz\n",
            "Reusing existing connection to data.gharchive.org:443.\n",
            "HTTP request sent, awaiting response... 200 OK\n",
            "Length: 8289311 (7.9M) [application/gzip]\n",
            "Saving to: ‘2015-12-31-17.json.gz’\n",
            "\n",
            "2015-12-31-17.json. 100%[===================>]   7.91M  43.8MB/s    in 0.2s    \n",
            "\n",
            "2023-07-04 23:12:47 (43.8 MB/s) - ‘2015-12-31-17.json.gz’ saved [8289311/8289311]\n",
            "\n",
            "--2023-07-04 23:12:47--  https://data.gharchive.org/2015-12-31-18.json.gz\n",
            "Reusing existing connection to data.gharchive.org:443.\n",
            "HTTP request sent, awaiting response... 200 OK\n",
            "Length: 7497971 (7.2M) [application/gzip]\n",
            "Saving to: ‘2015-12-31-18.json.gz’\n",
            "\n",
            "2015-12-31-18.json. 100%[===================>]   7.15M  38.2MB/s    in 0.2s    \n",
            "\n",
            "2023-07-04 23:12:48 (38.2 MB/s) - ‘2015-12-31-18.json.gz’ saved [7497971/7497971]\n",
            "\n",
            "--2023-07-04 23:12:48--  https://data.gharchive.org/2015-12-31-19.json.gz\n",
            "Reusing existing connection to data.gharchive.org:443.\n",
            "HTTP request sent, awaiting response... 200 OK\n",
            "Length: 7529411 (7.2M) [application/gzip]\n",
            "Saving to: ‘2015-12-31-19.json.gz’\n",
            "\n",
            "2015-12-31-19.json. 100%[===================>]   7.18M  14.6MB/s    in 0.5s    \n",
            "\n",
            "2023-07-04 23:12:48 (14.6 MB/s) - ‘2015-12-31-19.json.gz’ saved [7529411/7529411]\n",
            "\n",
            "--2023-07-04 23:12:48--  https://data.gharchive.org/2015-12-31-20.json.gz\n",
            "Reusing existing connection to data.gharchive.org:443.\n",
            "HTTP request sent, awaiting response... 200 OK\n",
            "Length: 6421232 (6.1M) [application/gzip]\n",
            "Saving to: ‘2015-12-31-20.json.gz’\n",
            "\n",
            "2015-12-31-20.json. 100%[===================>]   6.12M  33.1MB/s    in 0.2s    \n",
            "\n",
            "2023-07-04 23:12:49 (33.1 MB/s) - ‘2015-12-31-20.json.gz’ saved [6421232/6421232]\n",
            "\n",
            "--2023-07-04 23:12:49--  https://data.gharchive.org/2015-12-31-21.json.gz\n",
            "Reusing existing connection to data.gharchive.org:443.\n",
            "HTTP request sent, awaiting response... 200 OK\n",
            "Length: 5908943 (5.6M) [application/gzip]\n",
            "Saving to: ‘2015-12-31-21.json.gz’\n",
            "\n",
            "2015-12-31-21.json. 100%[===================>]   5.63M  --.-KB/s    in 0.1s    \n",
            "\n",
            "2023-07-04 23:12:49 (57.7 MB/s) - ‘2015-12-31-21.json.gz’ saved [5908943/5908943]\n",
            "\n",
            "--2023-07-04 23:12:49--  https://data.gharchive.org/2015-12-31-22.json.gz\n",
            "Reusing existing connection to data.gharchive.org:443.\n",
            "HTTP request sent, awaiting response... 200 OK\n",
            "Length: 5627042 (5.4M) [application/gzip]\n",
            "Saving to: ‘2015-12-31-22.json.gz’\n",
            "\n",
            "2015-12-31-22.json. 100%[===================>]   5.37M  18.1MB/s    in 0.3s    \n",
            "\n",
            "2023-07-04 23:12:50 (18.1 MB/s) - ‘2015-12-31-22.json.gz’ saved [5627042/5627042]\n",
            "\n",
            "--2023-07-04 23:12:50--  https://data.gharchive.org/2015-12-31-23.json.gz\n",
            "Reusing existing connection to data.gharchive.org:443.\n",
            "HTTP request sent, awaiting response... 200 OK\n",
            "Length: 4835212 (4.6M) [application/gzip]\n",
            "Saving to: ‘2015-12-31-23.json.gz’\n",
            "\n",
            "2015-12-31-23.json. 100%[===================>]   4.61M  --.-KB/s    in 0.1s    \n",
            "\n",
            "2023-07-04 23:12:50 (32.0 MB/s) - ‘2015-12-31-23.json.gz’ saved [4835212/4835212]\n",
            "\n",
            "FINISHED --2023-07-04 23:12:50--\n",
            "Total wall clock time: 11s\n",
            "Downloaded: 24 files, 159M in 4.2s (38.1 MB/s)\n"
          ]
        }
      ]
    },
    {
      "cell_type": "code",
      "source": [
        "# content example\n",
        "\n",
        "! zcat /content/2015-12-31-0.json.gz | head"
      ],
      "metadata": {
        "colab": {
          "base_uri": "https://localhost:8080/"
        },
        "id": "wiy_lN6Lj7gr",
        "outputId": "8b8b1172-1d79-4e82-bc42-9b59bb342c9b"
      },
      "execution_count": 5,
      "outputs": [
        {
          "output_type": "stream",
          "name": "stdout",
          "text": [
            "{\"id\":\"3484991453\",\"type\":\"IssueCommentEvent\",\"actor\":{\"id\":16410501,\"login\":\"MartinsZB\",\"gravatar_id\":\"\",\"url\":\"https://api.github.com/users/MartinsZB\",\"avatar_url\":\"https://avatars.githubusercontent.com/u/16410501?\"},\"repo\":{\"id\":25084719,\"name\":\"MagoKimbra/MarlinKimbra\",\"url\":\"https://api.github.com/repos/MagoKimbra/MarlinKimbra\"},\"payload\":{\"action\":\"created\",\"issue\":{\"url\":\"https://api.github.com/repos/MagoKimbra/MarlinKimbra/issues/88\",\"labels_url\":\"https://api.github.com/repos/MagoKimbra/MarlinKimbra/issues/88/labels{/name}\",\"comments_url\":\"https://api.github.com/repos/MagoKimbra/MarlinKimbra/issues/88/comments\",\"events_url\":\"https://api.github.com/repos/MagoKimbra/MarlinKimbra/issues/88/events\",\"html_url\":\"https://github.com/MagoKimbra/MarlinKimbra/issues/88\",\"id\":124407605,\"number\":88,\"title\":\"M105 response\",\"user\":{\"login\":\"MartinsZB\",\"id\":16410501,\"avatar_url\":\"https://avatars.githubusercontent.com/u/16410501?v=3\",\"gravatar_id\":\"\",\"url\":\"https://api.github.com/users/MartinsZB\",\"html_url\":\"https://github.com/MartinsZB\",\"followers_url\":\"https://api.github.com/users/MartinsZB/followers\",\"following_url\":\"https://api.github.com/users/MartinsZB/following{/other_user}\",\"gists_url\":\"https://api.github.com/users/MartinsZB/gists{/gist_id}\",\"starred_url\":\"https://api.github.com/users/MartinsZB/starred{/owner}{/repo}\",\"subscriptions_url\":\"https://api.github.com/users/MartinsZB/subscriptions\",\"organizations_url\":\"https://api.github.com/users/MartinsZB/orgs\",\"repos_url\":\"https://api.github.com/users/MartinsZB/repos\",\"events_url\":\"https://api.github.com/users/MartinsZB/events{/privacy}\",\"received_events_url\":\"https://api.github.com/users/MartinsZB/received_events\",\"type\":\"User\",\"site_admin\":false},\"labels\":[],\"state\":\"open\",\"locked\":false,\"assignee\":null,\"milestone\":null,\"comments\":4,\"created_at\":\"2015-12-30T22:26:09Z\",\"updated_at\":\"2015-12-30T23:59:59Z\",\"closed_at\":null,\"body\":\"Hi! I am running dual head printer with MarlinKimbra and Octoprint. Octoprint is confused, when receiving response on M105 code:\\r\\nRecv: T:77.1 /205.0 B:59.5 /60.0 T0:206.5 /205.0 T1:77.1 /205.0 B@:0 @:127 @0:40 @1:127 W:?\\r\\n\\r\\nThis is the answer - can you please explain, what the \\\"B@:0 @:127 @0:40 @1:127 W:?\\\" part is about?\\r\\nThanks,\\r\\nMartins\"},\"comment\":{\"url\":\"https://api.github.com/repos/MagoKimbra/MarlinKimbra/issues/comments/168097563\",\"html_url\":\"https://github.com/MagoKimbra/MarlinKimbra/issues/88#issuecomment-168097563\",\"issue_url\":\"https://api.github.com/repos/MagoKimbra/MarlinKimbra/issues/88\",\"id\":168097563,\"user\":{\"login\":\"MartinsZB\",\"id\":16410501,\"avatar_url\":\"https://avatars.githubusercontent.com/u/16410501?v=3\",\"gravatar_id\":\"\",\"url\":\"https://api.github.com/users/MartinsZB\",\"html_url\":\"https://github.com/MartinsZB\",\"followers_url\":\"https://api.github.com/users/MartinsZB/followers\",\"following_url\":\"https://api.github.com/users/MartinsZB/following{/other_user}\",\"gists_url\":\"https://api.github.com/users/MartinsZB/gists{/gist_id}\",\"starred_url\":\"https://api.github.com/users/MartinsZB/starred{/owner}{/repo}\",\"subscriptions_url\":\"https://api.github.com/users/MartinsZB/subscriptions\",\"organizations_url\":\"https://api.github.com/users/MartinsZB/orgs\",\"repos_url\":\"https://api.github.com/users/MartinsZB/repos\",\"events_url\":\"https://api.github.com/users/MartinsZB/events{/privacy}\",\"received_events_url\":\"https://api.github.com/users/MartinsZB/received_events\",\"type\":\"User\",\"site_admin\":false},\"created_at\":\"2015-12-30T23:59:59Z\",\"updated_at\":\"2015-12-30T23:59:59Z\",\"body\":\"I am using 4.2.2 dev version (downloaded from online config tool)\"}},\"public\":true,\"created_at\":\"2015-12-31T00:00:00Z\"}\n",
            "{\"id\":\"3484991455\",\"type\":\"PullRequestEvent\",\"actor\":{\"id\":1053730,\"login\":\"popcornmix\",\"gravatar_id\":\"\",\"url\":\"https://api.github.com/users/popcornmix\",\"avatar_url\":\"https://avatars.githubusercontent.com/u/1053730?\"},\"repo\":{\"id\":6367886,\"name\":\"raspberrypi/userland\",\"url\":\"https://api.github.com/repos/raspberrypi/userland\"},\"payload\":{\"action\":\"closed\",\"number\":276,\"pull_request\":{\"url\":\"https://api.github.com/repos/raspberrypi/userland/pulls/276\",\"id\":54424755,\"html_url\":\"https://github.com/raspberrypi/userland/pull/276\",\"diff_url\":\"https://github.com/raspberrypi/userland/pull/276.diff\",\"patch_url\":\"https://github.com/raspberrypi/userland/pull/276.patch\",\"issue_url\":\"https://api.github.com/repos/raspberrypi/userland/issues/276\",\"number\":276,\"state\":\"closed\",\"locked\":false,\"title\":\"MMAL Examples: Some fixups for the Pi tree\",\"user\":{\"login\":\"6by9\",\"id\":5822349,\"avatar_url\":\"https://avatars.githubusercontent.com/u/5822349?v=3\",\"gravatar_id\":\"\",\"url\":\"https://api.github.com/users/6by9\",\"html_url\":\"https://github.com/6by9\",\"followers_url\":\"https://api.github.com/users/6by9/followers\",\"following_url\":\"https://api.github.com/users/6by9/following{/other_user}\",\"gists_url\":\"https://api.github.com/users/6by9/gists{/gist_id}\",\"starred_url\":\"https://api.github.com/users/6by9/starred{/owner}{/repo}\",\"subscriptions_url\":\"https://api.github.com/users/6by9/subscriptions\",\"organizations_url\":\"https://api.github.com/users/6by9/orgs\",\"repos_url\":\"https://api.github.com/users/6by9/repos\",\"events_url\":\"https://api.github.com/users/6by9/events{/privacy}\",\"received_events_url\":\"https://api.github.com/users/6by9/received_events\",\"type\":\"User\",\"site_admin\":false},\"body\":\"None of the examples linked against mmal_vc_client\\r\\nor bcm_host, so failed to find any VC components.\\r\\n\\r\\nhttps://github.com/raspberrypi/userland/issues/275\",\"created_at\":\"2015-12-22T22:58:31Z\",\"updated_at\":\"2015-12-30T23:59:59Z\",\"closed_at\":\"2015-12-30T23:59:59Z\",\"merged_at\":\"2015-12-30T23:59:59Z\",\"merge_commit_sha\":\"f2397500d4a6dea08a3922046c860b364d3ecd15\",\"assignee\":null,\"milestone\":null,\"commits_url\":\"https://api.github.com/repos/raspberrypi/userland/pulls/276/commits\",\"review_comments_url\":\"https://api.github.com/repos/raspberrypi/userland/pulls/276/comments\",\"review_comment_url\":\"https://api.github.com/repos/raspberrypi/userland/pulls/comments{/number}\",\"comments_url\":\"https://api.github.com/repos/raspberrypi/userland/issues/276/comments\",\"statuses_url\":\"https://api.github.com/repos/raspberrypi/userland/statuses/55f6f35bb59268f0b446d2c596eaa80e5cc2bbd2\",\"head\":{\"label\":\"6by9:PR20151222\",\"ref\":\"PR20151222\",\"sha\":\"55f6f35bb59268f0b446d2c596eaa80e5cc2bbd2\",\"user\":{\"login\":\"6by9\",\"id\":5822349,\"avatar_url\":\"https://avatars.githubusercontent.com/u/5822349?v=3\",\"gravatar_id\":\"\",\"url\":\"https://api.github.com/users/6by9\",\"html_url\":\"https://github.com/6by9\",\"followers_url\":\"https://api.github.com/users/6by9/followers\",\"following_url\":\"https://api.github.com/users/6by9/following{/other_user}\",\"gists_url\":\"https://api.github.com/users/6by9/gists{/gist_id}\",\"starred_url\":\"https://api.github.com/users/6by9/starred{/owner}{/repo}\",\"subscriptions_url\":\"https://api.github.com/users/6by9/subscriptions\",\"organizations_url\":\"https://api.github.com/users/6by9/orgs\",\"repos_url\":\"https://api.github.com/users/6by9/repos\",\"events_url\":\"https://api.github.com/users/6by9/events{/privacy}\",\"received_events_url\":\"https://api.github.com/users/6by9/received_events\",\"type\":\"User\",\"site_admin\":false},\"repo\":{\"id\":19530262,\"name\":\"userland\",\"full_name\":\"6by9/userland\",\"owner\":{\"login\":\"6by9\",\"id\":5822349,\"avatar_url\":\"https://avatars.githubusercontent.com/u/5822349?v=3\",\"gravatar_id\":\"\",\"url\":\"https://api.github.com/users/6by9\",\"html_url\":\"https://github.com/6by9\",\"followers_url\":\"https://api.github.com/users/6by9/followers\",\"following_url\":\"https://api.github.com/users/6by9/following{/other_user}\",\"gists_url\":\"https://api.github.com/users/6by9/gists{/gist_id}\",\"starred_url\":\"https://api.github.com/users/6by9/starred{/owner}{/repo}\",\"subscriptions_url\":\"https://api.github.com/users/6by9/subscriptions\",\"organizations_url\":\"https://api.github.com/users/6by9/orgs\",\"repos_url\":\"https://api.github.com/users/6by9/repos\",\"events_url\":\"https://api.github.com/users/6by9/events{/privacy}\",\"received_events_url\":\"https://api.github.com/users/6by9/received_events\",\"type\":\"User\",\"site_admin\":false},\"private\":false,\"html_url\":\"https://github.com/6by9/userland\",\"description\":\"Source code for ARM side libraries for interfacing to Raspberry Pi GPU.\",\"fork\":true,\"url\":\"https://api.github.com/repos/6by9/userland\",\"forks_url\":\"https://api.github.com/repos/6by9/userland/forks\",\"keys_url\":\"https://api.github.com/repos/6by9/userland/keys{/key_id}\",\"collaborators_url\":\"https://api.github.com/repos/6by9/userland/collaborators{/collaborator}\",\"teams_url\":\"https://api.github.com/repos/6by9/userland/teams\",\"hooks_url\":\"https://api.github.com/repos/6by9/userland/hooks\",\"issue_events_url\":\"https://api.github.com/repos/6by9/userland/issues/events{/number}\",\"events_url\":\"https://api.github.com/repos/6by9/userland/events\",\"assignees_url\":\"https://api.github.com/repos/6by9/userland/assignees{/user}\",\"branches_url\":\"https://api.github.com/repos/6by9/userland/branches{/branch}\",\"tags_url\":\"https://api.github.com/repos/6by9/userland/tags\",\"blobs_url\":\"https://api.github.com/repos/6by9/userland/git/blobs{/sha}\",\"git_tags_url\":\"https://api.github.com/repos/6by9/userland/git/tags{/sha}\",\"git_refs_url\":\"https://api.github.com/repos/6by9/userland/git/refs{/sha}\",\"trees_url\":\"https://api.github.com/repos/6by9/userland/git/trees{/sha}\",\"statuses_url\":\"https://api.github.com/repos/6by9/userland/statuses/{sha}\",\"languages_url\":\"https://api.github.com/repos/6by9/userland/languages\",\"stargazers_url\":\"https://api.github.com/repos/6by9/userland/stargazers\",\"contributors_url\":\"https://api.github.com/repos/6by9/userland/contributors\",\"subscribers_url\":\"https://api.github.com/repos/6by9/userland/subscribers\",\"subscription_url\":\"https://api.github.com/repos/6by9/userland/subscription\",\"commits_url\":\"https://api.github.com/repos/6by9/userland/commits{/sha}\",\"git_commits_url\":\"https://api.github.com/repos/6by9/userland/git/commits{/sha}\",\"comments_url\":\"https://api.github.com/repos/6by9/userland/comments{/number}\",\"issue_comment_url\":\"https://api.github.com/repos/6by9/userland/issues/comments{/number}\",\"contents_url\":\"https://api.github.com/repos/6by9/userland/contents/{+path}\",\"compare_url\":\"https://api.github.com/repos/6by9/userland/compare/{base}...{head}\",\"merges_url\":\"https://api.github.com/repos/6by9/userland/merges\",\"archive_url\":\"https://api.github.com/repos/6by9/userland/{archive_format}{/ref}\",\"downloads_url\":\"https://api.github.com/repos/6by9/userland/downloads\",\"issues_url\":\"https://api.github.com/repos/6by9/userland/issues{/number}\",\"pulls_url\":\"https://api.github.com/repos/6by9/userland/pulls{/number}\",\"milestones_url\":\"https://api.github.com/repos/6by9/userland/milestones{/number}\",\"notifications_url\":\"https://api.github.com/repos/6by9/userland/notifications{?since,all,participating}\",\"labels_url\":\"https://api.github.com/repos/6by9/userland/labels{/name}\",\"releases_url\":\"https://api.github.com/repos/6by9/userland/releases{/id}\",\"created_at\":\"2014-05-07T10:26:25Z\",\"updated_at\":\"2015-11-26T08:51:44Z\",\"pushed_at\":\"2015-12-30T23:59:14Z\",\"git_url\":\"git://github.com/6by9/userland.git\",\"ssh_url\":\"git@github.com:6by9/userland.git\",\"clone_url\":\"https://github.com/6by9/userland.git\",\"svn_url\":\"https://github.com/6by9/userland\",\"homepage\":null,\"size\":34864,\"stargazers_count\":5,\"watchers_count\":5,\"language\":\"C\",\"has_issues\":false,\"has_downloads\":true,\"has_wiki\":true,\"has_pages\":false,\"forks_count\":0,\"mirror_url\":null,\"open_issues_count\":0,\"forks\":0,\"open_issues\":0,\"watchers\":5,\"default_branch\":\"master\"}},\"base\":{\"label\":\"raspberrypi:master\",\"ref\":\"master\",\"sha\":\"cfa3df1420a1839eb4a1da12e744a4beb8e7e7b6\",\"user\":{\"login\":\"raspberrypi\",\"id\":1294177,\"avatar_url\":\"https://avatars.githubusercontent.com/u/1294177?v=3\",\"gravatar_id\":\"\",\"url\":\"https://api.github.com/users/raspberrypi\",\"html_url\":\"https://github.com/raspberrypi\",\"followers_url\":\"https://api.github.com/users/raspberrypi/followers\",\"following_url\":\"https://api.github.com/users/raspberrypi/following{/other_user}\",\"gists_url\":\"https://api.github.com/users/raspberrypi/gists{/gist_id}\",\"starred_url\":\"https://api.github.com/users/raspberrypi/starred{/owner}{/repo}\",\"subscriptions_url\":\"https://api.github.com/users/raspberrypi/subscriptions\",\"organizations_url\":\"https://api.github.com/users/raspberrypi/orgs\",\"repos_url\":\"https://api.github.com/users/raspberrypi/repos\",\"events_url\":\"https://api.github.com/users/raspberrypi/events{/privacy}\",\"received_events_url\":\"https://api.github.com/users/raspberrypi/received_events\",\"type\":\"Organization\",\"site_admin\":false},\"repo\":{\"id\":6367886,\"name\":\"userland\",\"full_name\":\"raspberrypi/userland\",\"owner\":{\"login\":\"raspberrypi\",\"id\":1294177,\"avatar_url\":\"https://avatars.githubusercontent.com/u/1294177?v=3\",\"gravatar_id\":\"\",\"url\":\"https://api.github.com/users/raspberrypi\",\"html_url\":\"https://github.com/raspberrypi\",\"followers_url\":\"https://api.github.com/users/raspberrypi/followers\",\"following_url\":\"https://api.github.com/users/raspberrypi/following{/other_user}\",\"gists_url\":\"https://api.github.com/users/raspberrypi/gists{/gist_id}\",\"starred_url\":\"https://api.github.com/users/raspberrypi/starred{/owner}{/repo}\",\"subscriptions_url\":\"https://api.github.com/users/raspberrypi/subscriptions\",\"organizations_url\":\"https://api.github.com/users/raspberrypi/orgs\",\"repos_url\":\"https://api.github.com/users/raspberrypi/repos\",\"events_url\":\"https://api.github.com/users/raspberrypi/events{/privacy}\",\"received_events_url\":\"https://api.github.com/users/raspberrypi/received_events\",\"type\":\"Organization\",\"site_admin\":false},\"private\":false,\"html_url\":\"https://github.com/raspberrypi/userland\",\"description\":\"Source code for ARM side libraries for interfacing to Raspberry Pi GPU.\",\"fork\":false,\"url\":\"https://api.github.com/repos/raspberrypi/userland\",\"forks_url\":\"https://api.github.com/repos/raspberrypi/userland/forks\",\"keys_url\":\"https://api.github.com/repos/raspberrypi/userland/keys{/key_id}\",\"collaborators_url\":\"https://api.github.com/repos/raspberrypi/userland/collaborators{/collaborator}\",\"teams_url\":\"https://api.github.com/repos/raspberrypi/userland/teams\",\"hooks_url\":\"https://api.github.com/repos/raspberrypi/userland/hooks\",\"issue_events_url\":\"https://api.github.com/repos/raspberrypi/userland/issues/events{/number}\",\"events_url\":\"https://api.github.com/repos/raspberrypi/userland/events\",\"assignees_url\":\"https://api.github.com/repos/raspberrypi/userland/assignees{/user}\",\"branches_url\":\"https://api.github.com/repos/raspberrypi/userland/branches{/branch}\",\"tags_url\":\"https://api.github.com/repos/raspberrypi/userland/tags\",\"blobs_url\":\"https://api.github.com/repos/raspberrypi/userland/git/blobs{/sha}\",\"git_tags_url\":\"https://api.github.com/repos/raspberrypi/userland/git/tags{/sha}\",\"git_refs_url\":\"https://api.github.com/repos/raspberrypi/userland/git/refs{/sha}\",\"trees_url\":\"https://api.github.com/repos/raspberrypi/userland/git/trees{/sha}\",\"statuses_url\":\"https://api.github.com/repos/raspberrypi/userland/statuses/{sha}\",\"languages_url\":\"https://api.github.com/repos/raspberrypi/userland/languages\",\"stargazers_url\":\"https://api.github.com/repos/raspberrypi/userland/stargazers\",\"contributors_url\":\"https://api.github.com/repos/raspberrypi/userland/contributors\",\"subscribers_url\":\"https://api.github.com/repos/raspberrypi/userland/subscribers\",\"subscription_url\":\"https://api.github.com/repos/raspberrypi/userland/subscription\",\"commits_url\":\"https://api.github.com/repos/raspberrypi/userland/commits{/sha}\",\"git_commits_url\":\"https://api.github.com/repos/raspberrypi/userland/git/commits{/sha}\",\"comments_url\":\"https://api.github.com/repos/raspberrypi/userland/comments{/number}\",\"issue_comment_url\":\"https://api.github.com/repos/raspberrypi/userland/issues/comments{/number}\",\"contents_url\":\"https://api.github.com/repos/raspberrypi/userland/contents/{+path}\",\"compare_url\":\"https://api.github.com/repos/raspberrypi/userland/compare/{base}...{head}\",\"merges_url\":\"https://api.github.com/repos/raspberrypi/userland/merges\",\"archive_url\":\"https://api.github.com/repos/raspberrypi/userland/{archive_format}{/ref}\",\"downloads_url\":\"https://api.github.com/repos/raspberrypi/userland/downloads\",\"issues_url\":\"https://api.github.com/repos/raspberrypi/userland/issues{/number}\",\"pulls_url\":\"https://api.github.com/repos/raspberrypi/userland/pulls{/number}\",\"milestones_url\":\"https://api.github.com/repos/raspberrypi/userland/milestones{/number}\",\"notifications_url\":\"https://api.github.com/repos/raspberrypi/userland/notifications{?since,all,participating}\",\"labels_url\":\"https://api.github.com/repos/raspberrypi/userland/labels{/name}\",\"releases_url\":\"https://api.github.com/repos/raspberrypi/userland/releases{/id}\",\"created_at\":\"2012-10-24T09:58:46Z\",\"updated_at\":\"2015-12-30T18:57:48Z\",\"pushed_at\":\"2015-12-30T23:59:59Z\",\"git_url\":\"git://github.com/raspberrypi/userland.git\",\"ssh_url\":\"git@github.com:raspberrypi/userland.git\",\"clone_url\":\"https://github.com/raspberrypi/userland.git\",\"svn_url\":\"https://github.com/raspberrypi/userland\",\"homepage\":null,\"size\":35309,\"stargazers_count\":846,\"watchers_count\":846,\"language\":\"C\",\"has_issues\":true,\"has_downloads\":true,\"has_wiki\":true,\"has_pages\":false,\"forks_count\":508,\"mirror_url\":null,\"open_issues_count\":64,\"forks\":508,\"open_issues\":64,\"watchers\":846,\"default_branch\":\"master\"}},\"_links\":{\"self\":{\"href\":\"https://api.github.com/repos/raspberrypi/userland/pulls/276\"},\"html\":{\"href\":\"https://github.com/raspberrypi/userland/pull/276\"},\"issue\":{\"href\":\"https://api.github.com/repos/raspberrypi/userland/issues/276\"},\"comments\":{\"href\":\"https://api.github.com/repos/raspberrypi/userland/issues/276/comments\"},\"review_comments\":{\"href\":\"https://api.github.com/repos/raspberrypi/userland/pulls/276/comments\"},\"review_comment\":{\"href\":\"https://api.github.com/repos/raspberrypi/userland/pulls/comments{/number}\"},\"commits\":{\"href\":\"https://api.github.com/repos/raspberrypi/userland/pulls/276/commits\"},\"statuses\":{\"href\":\"https://api.github.com/repos/raspberrypi/userland/statuses/55f6f35bb59268f0b446d2c596eaa80e5cc2bbd2\"}},\"merged\":true,\"mergeable\":null,\"mergeable_state\":\"unknown\",\"merged_by\":{\"login\":\"popcornmix\",\"id\":1053730,\"avatar_url\":\"https://avatars.githubusercontent.com/u/1053730?v=3\",\"gravatar_id\":\"\",\"url\":\"https://api.github.com/users/popcornmix\",\"html_url\":\"https://github.com/popcornmix\",\"followers_url\":\"https://api.github.com/users/popcornmix/followers\",\"following_url\":\"https://api.github.com/users/popcornmix/following{/other_user}\",\"gists_url\":\"https://api.github.com/users/popcornmix/gists{/gist_id}\",\"starred_url\":\"https://api.github.com/users/popcornmix/starred{/owner}{/repo}\",\"subscriptions_url\":\"https://api.github.com/users/popcornmix/subscriptions\",\"organizations_url\":\"https://api.github.com/users/popcornmix/orgs\",\"repos_url\":\"https://api.github.com/users/popcornmix/repos\",\"events_url\":\"https://api.github.com/users/popcornmix/events{/privacy}\",\"received_events_url\":\"https://api.github.com/users/popcornmix/received_events\",\"type\":\"User\",\"site_admin\":false},\"comments\":2,\"review_comments\":0,\"commits\":1,\"additions\":22,\"deletions\":6,\"changed_files\":5}},\"public\":true,\"created_at\":\"2015-12-31T00:00:00Z\",\"org\":{\"id\":1294177,\"login\":\"raspberrypi\",\"gravatar_id\":\"\",\"url\":\"https://api.github.com/orgs/raspberrypi\",\"avatar_url\":\"https://avatars.githubusercontent.com/u/1294177?\"}}\n",
            "{\"id\":\"3484991460\",\"type\":\"CreateEvent\",\"actor\":{\"id\":14791388,\"login\":\"47767573T\",\"gravatar_id\":\"\",\"url\":\"https://api.github.com/users/47767573T\",\"avatar_url\":\"https://avatars.githubusercontent.com/u/14791388?\"},\"repo\":{\"id\":48824485,\"name\":\"47767573T/M08ScriptVox\",\"url\":\"https://api.github.com/repos/47767573T/M08ScriptVox\"},\"payload\":{\"ref\":null,\"ref_type\":\"repository\",\"master_branch\":\"master\",\"description\":\"Programa de reconocimiento de voz\",\"pusher_type\":\"user\"},\"public\":true,\"created_at\":\"2015-12-31T00:00:00Z\"}\n",
            "{\"id\":\"3484991462\",\"type\":\"PushEvent\",\"actor\":{\"id\":6493919,\"login\":\"mattgroh\",\"gravatar_id\":\"\",\"url\":\"https://api.github.com/users/mattgroh\",\"avatar_url\":\"https://avatars.githubusercontent.com/u/6493919?\"},\"repo\":{\"id\":48770338,\"name\":\"qadium-memex/CC-Bread-Crumbs\",\"url\":\"https://api.github.com/repos/qadium-memex/CC-Bread-Crumbs\"},\"payload\":{\"push_id\":919086579,\"size\":3,\"distinct_size\":3,\"ref\":\"refs/heads/master\",\"head\":\"11d883bf7546c7c20daa8cdb9b4a04138659aa9a\",\"before\":\"be0323ca7b5a3d105106d87548bf685b339e8651\",\"commits\":[{\"sha\":\"3253c93a90f91aed254cfd846aff21e2af0ee25e\",\"author\":{\"email\":\"f7537df4acf8872ab3e8def8dab173d23fe181d4@gmail.com\",\"name\":\"mattgroh\"},\"message\":\"updating .gitignore\",\"distinct\":true,\"url\":\"https://api.github.com/repos/qadium-memex/CC-Bread-Crumbs/commits/3253c93a90f91aed254cfd846aff21e2af0ee25e\"},{\"sha\":\"30f7d7cfd4dd9179b20f15612948d851fc4475aa\",\"author\":{\"email\":\"f7537df4acf8872ab3e8def8dab173d23fe181d4@gmail.com\",\"name\":\"mattgroh\"},\"message\":\"Uploading to a database and querying data\",\"distinct\":true,\"url\":\"https://api.github.com/repos/qadium-memex/CC-Bread-Crumbs/commits/30f7d7cfd4dd9179b20f15612948d851fc4475aa\"},{\"sha\":\"11d883bf7546c7c20daa8cdb9b4a04138659aa9a\",\"author\":{\"email\":\"f7537df4acf8872ab3e8def8dab173d23fe181d4@gmail.com\",\"name\":\"mattgroh\"},\"message\":\"Merge branch 'master' of github.com:qadium-memex/CC-Bread-Crumbs\",\"distinct\":true,\"url\":\"https://api.github.com/repos/qadium-memex/CC-Bread-Crumbs/commits/11d883bf7546c7c20daa8cdb9b4a04138659aa9a\"}]},\"public\":true,\"created_at\":\"2015-12-31T00:00:00Z\",\"org\":{\"id\":14283725,\"login\":\"qadium-memex\",\"gravatar_id\":\"\",\"url\":\"https://api.github.com/orgs/qadium-memex\",\"avatar_url\":\"https://avatars.githubusercontent.com/u/14283725?\"}}\n",
            "{\"id\":\"3484991463\",\"type\":\"WatchEvent\",\"actor\":{\"id\":3770092,\"login\":\"nnarayann\",\"gravatar_id\":\"\",\"url\":\"https://api.github.com/users/nnarayann\",\"avatar_url\":\"https://avatars.githubusercontent.com/u/3770092?\"},\"repo\":{\"id\":48617177,\"name\":\"SwiftReactive/HTTPCommander\",\"url\":\"https://api.github.com/repos/SwiftReactive/HTTPCommander\"},\"payload\":{\"action\":\"started\"},\"public\":true,\"created_at\":\"2015-12-31T00:00:00Z\",\"org\":{\"id\":16154790,\"login\":\"SwiftReactive\",\"gravatar_id\":\"\",\"url\":\"https://api.github.com/orgs/SwiftReactive\",\"avatar_url\":\"https://avatars.githubusercontent.com/u/16154790?\"}}\n",
            "{\"id\":\"3484991465\",\"type\":\"IssueCommentEvent\",\"actor\":{\"id\":1579269,\"login\":\"ajaybhargavb\",\"gravatar_id\":\"\",\"url\":\"https://api.github.com/users/ajaybhargavb\",\"avatar_url\":\"https://avatars.githubusercontent.com/u/1579269?\"},\"repo\":{\"id\":31395967,\"name\":\"aspnet/jquery-ajax-unobtrusive\",\"url\":\"https://api.github.com/repos/aspnet/jquery-ajax-unobtrusive\"},\"payload\":{\"action\":\"created\",\"issue\":{\"url\":\"https://api.github.com/repos/aspnet/jquery-ajax-unobtrusive/issues/5\",\"labels_url\":\"https://api.github.com/repos/aspnet/jquery-ajax-unobtrusive/issues/5/labels{/name}\",\"comments_url\":\"https://api.github.com/repos/aspnet/jquery-ajax-unobtrusive/issues/5/comments\",\"events_url\":\"https://api.github.com/repos/aspnet/jquery-ajax-unobtrusive/issues/5/events\",\"html_url\":\"https://github.com/aspnet/jquery-ajax-unobtrusive/issues/5\",\"id\":118024851,\"number\":5,\"title\":\"Property data-ajax-cache is not resolved right\",\"user\":{\"login\":\"spudcz\",\"id\":15734023,\"avatar_url\":\"https://avatars.githubusercontent.com/u/15734023?v=3\",\"gravatar_id\":\"\",\"url\":\"https://api.github.com/users/spudcz\",\"html_url\":\"https://github.com/spudcz\",\"followers_url\":\"https://api.github.com/users/spudcz/followers\",\"following_url\":\"https://api.github.com/users/spudcz/following{/other_user}\",\"gists_url\":\"https://api.github.com/users/spudcz/gists{/gist_id}\",\"starred_url\":\"https://api.github.com/users/spudcz/starred{/owner}{/repo}\",\"subscriptions_url\":\"https://api.github.com/users/spudcz/subscriptions\",\"organizations_url\":\"https://api.github.com/users/spudcz/orgs\",\"repos_url\":\"https://api.github.com/users/spudcz/repos\",\"events_url\":\"https://api.github.com/users/spudcz/events{/privacy}\",\"received_events_url\":\"https://api.github.com/users/spudcz/received_events\",\"type\":\"User\",\"site_admin\":false},\"labels\":[{\"url\":\"https://api.github.com/repos/aspnet/jquery-ajax-unobtrusive/labels/1%20-%20Ready\",\"name\":\"1 - Ready\",\"color\":\"CCCCCC\"},{\"url\":\"https://api.github.com/repos/aspnet/jquery-ajax-unobtrusive/labels/bug\",\"name\":\"bug\",\"color\":\"fc2929\"}],\"state\":\"closed\",\"locked\":false,\"assignee\":{\"login\":\"ajaybhargavb\",\"id\":1579269,\"avatar_url\":\"https://avatars.githubusercontent.com/u/1579269?v=3\",\"gravatar_id\":\"\",\"url\":\"https://api.github.com/users/ajaybhargavb\",\"html_url\":\"https://github.com/ajaybhargavb\",\"followers_url\":\"https://api.github.com/users/ajaybhargavb/followers\",\"following_url\":\"https://api.github.com/users/ajaybhargavb/following{/other_user}\",\"gists_url\":\"https://api.github.com/users/ajaybhargavb/gists{/gist_id}\",\"starred_url\":\"https://api.github.com/users/ajaybhargavb/starred{/owner}{/repo}\",\"subscriptions_url\":\"https://api.github.com/users/ajaybhargavb/subscriptions\",\"organizations_url\":\"https://api.github.com/users/ajaybhargavb/orgs\",\"repos_url\":\"https://api.github.com/users/ajaybhargavb/repos\",\"events_url\":\"https://api.github.com/users/ajaybhargavb/events{/privacy}\",\"received_events_url\":\"https://api.github.com/users/ajaybhargavb/received_events\",\"type\":\"User\",\"site_admin\":false},\"milestone\":{\"url\":\"https://api.github.com/repos/aspnet/jquery-ajax-unobtrusive/milestones/1\",\"html_url\":\"https://github.com/aspnet/jquery-ajax-unobtrusive/milestones/3.2.4\",\"labels_url\":\"https://api.github.com/repos/aspnet/jquery-ajax-unobtrusive/milestones/1/labels\",\"id\":1478628,\"number\":1,\"title\":\"3.2.4\",\"description\":null,\"creator\":{\"login\":\"Eilon\",\"id\":202643,\"avatar_url\":\"https://avatars.githubusercontent.com/u/202643?v=3\",\"gravatar_id\":\"\",\"url\":\"https://api.github.com/users/Eilon\",\"html_url\":\"https://github.com/Eilon\",\"followers_url\":\"https://api.github.com/users/Eilon/followers\",\"following_url\":\"https://api.github.com/users/Eilon/following{/other_user}\",\"gists_url\":\"https://api.github.com/users/Eilon/gists{/gist_id}\",\"starred_url\":\"https://api.github.com/users/Eilon/starred{/owner}{/repo}\",\"subscriptions_url\":\"https://api.github.com/users/Eilon/subscriptions\",\"organizations_url\":\"https://api.github.com/users/Eilon/orgs\",\"repos_url\":\"https://api.github.com/users/Eilon/repos\",\"events_url\":\"https://api.github.com/users/Eilon/events{/privacy}\",\"received_events_url\":\"https://api.github.com/users/Eilon/received_events\",\"type\":\"User\",\"site_admin\":false},\"open_issues\":0,\"closed_issues\":1,\"state\":\"open\",\"created_at\":\"2015-12-30T22:39:41Z\",\"updated_at\":\"2015-12-31T00:00:00Z\",\"due_on\":null,\"closed_at\":null},\"comments\":2,\"created_at\":\"2015-11-20T11:50:27Z\",\"updated_at\":\"2015-12-31T00:00:00Z\",\"closed_at\":\"2015-12-31T00:00:00Z\",\"body\":\"line 94\\r\\n**cache: !!element.getAttribute(\\\"data-ajax-cache\\\")**\\r\\n\\r\\nWhen I have anchor defined like this:\\r\\n&lt;a href=\\\"...\\\" data-ajax=\\\"true\\\" data-ajax-cache=\\\"false\\\"&gt;...&lt;/a&gt; \\r\\nthen the javascript code above sets cache to true.\\r\\n\\r\\nelement.getAttribute(\\\"data-ajax-cache\\\") returns string \\\"false\\\"\\r\\n!element.getAttribute(\\\"data-ajax-cache\\\") returns boolean false\\r\\n!!element.getAttribute(\\\"data-ajax-cache\\\") returns boolean true\\r\\n\\r\\nConsider changing line 94 to this:\\r\\n**cache: (element.getAttribute(\\\"data-ajax-cache\\\") || \\\"\\\").toLowerCase() === \\\"true\\\"**\"},\"comment\":{\"url\":\"https://api.github.com/repos/aspnet/jquery-ajax-unobtrusive/issues/comments/168097564\",\"html_url\":\"https://github.com/aspnet/jquery-ajax-unobtrusive/issues/5#issuecomment-168097564\",\"issue_url\":\"https://api.github.com/repos/aspnet/jquery-ajax-unobtrusive/issues/5\",\"id\":168097564,\"user\":{\"login\":\"ajaybhargavb\",\"id\":1579269,\"avatar_url\":\"https://avatars.githubusercontent.com/u/1579269?v=3\",\"gravatar_id\":\"\",\"url\":\"https://api.github.com/users/ajaybhargavb\",\"html_url\":\"https://github.com/ajaybhargavb\",\"followers_url\":\"https://api.github.com/users/ajaybhargavb/followers\",\"following_url\":\"https://api.github.com/users/ajaybhargavb/following{/other_user}\",\"gists_url\":\"https://api.github.com/users/ajaybhargavb/gists{/gist_id}\",\"starred_url\":\"https://api.github.com/users/ajaybhargavb/starred{/owner}{/repo}\",\"subscriptions_url\":\"https://api.github.com/users/ajaybhargavb/subscriptions\",\"organizations_url\":\"https://api.github.com/users/ajaybhargavb/orgs\",\"repos_url\":\"https://api.github.com/users/ajaybhargavb/repos\",\"events_url\":\"https://api.github.com/users/ajaybhargavb/events{/privacy}\",\"received_events_url\":\"https://api.github.com/users/ajaybhargavb/received_events\",\"type\":\"User\",\"site_admin\":false},\"created_at\":\"2015-12-31T00:00:00Z\",\"updated_at\":\"2015-12-31T00:00:00Z\",\"body\":\"afaffa66dfa9fb4198175d2e6663c764dc488128 and 44bd91ee383ff86339965c1958e6c59102fa8b74\"}},\"public\":true,\"created_at\":\"2015-12-31T00:00:00Z\",\"org\":{\"id\":6476660,\"login\":\"aspnet\",\"gravatar_id\":\"\",\"url\":\"https://api.github.com/orgs/aspnet\",\"avatar_url\":\"https://avatars.githubusercontent.com/u/6476660?\"}}\n",
            "{\"id\":\"3484991468\",\"type\":\"IssuesEvent\",\"actor\":{\"id\":1579269,\"login\":\"ajaybhargavb\",\"gravatar_id\":\"\",\"url\":\"https://api.github.com/users/ajaybhargavb\",\"avatar_url\":\"https://avatars.githubusercontent.com/u/1579269?\"},\"repo\":{\"id\":31395967,\"name\":\"aspnet/jquery-ajax-unobtrusive\",\"url\":\"https://api.github.com/repos/aspnet/jquery-ajax-unobtrusive\"},\"payload\":{\"action\":\"closed\",\"issue\":{\"url\":\"https://api.github.com/repos/aspnet/jquery-ajax-unobtrusive/issues/5\",\"labels_url\":\"https://api.github.com/repos/aspnet/jquery-ajax-unobtrusive/issues/5/labels{/name}\",\"comments_url\":\"https://api.github.com/repos/aspnet/jquery-ajax-unobtrusive/issues/5/comments\",\"events_url\":\"https://api.github.com/repos/aspnet/jquery-ajax-unobtrusive/issues/5/events\",\"html_url\":\"https://github.com/aspnet/jquery-ajax-unobtrusive/issues/5\",\"id\":118024851,\"number\":5,\"title\":\"Property data-ajax-cache is not resolved right\",\"user\":{\"login\":\"spudcz\",\"id\":15734023,\"avatar_url\":\"https://avatars.githubusercontent.com/u/15734023?v=3\",\"gravatar_id\":\"\",\"url\":\"https://api.github.com/users/spudcz\",\"html_url\":\"https://github.com/spudcz\",\"followers_url\":\"https://api.github.com/users/spudcz/followers\",\"following_url\":\"https://api.github.com/users/spudcz/following{/other_user}\",\"gists_url\":\"https://api.github.com/users/spudcz/gists{/gist_id}\",\"starred_url\":\"https://api.github.com/users/spudcz/starred{/owner}{/repo}\",\"subscriptions_url\":\"https://api.github.com/users/spudcz/subscriptions\",\"organizations_url\":\"https://api.github.com/users/spudcz/orgs\",\"repos_url\":\"https://api.github.com/users/spudcz/repos\",\"events_url\":\"https://api.github.com/users/spudcz/events{/privacy}\",\"received_events_url\":\"https://api.github.com/users/spudcz/received_events\",\"type\":\"User\",\"site_admin\":false},\"labels\":[{\"url\":\"https://api.github.com/repos/aspnet/jquery-ajax-unobtrusive/labels/1%20-%20Ready\",\"name\":\"1 - Ready\",\"color\":\"CCCCCC\"},{\"url\":\"https://api.github.com/repos/aspnet/jquery-ajax-unobtrusive/labels/bug\",\"name\":\"bug\",\"color\":\"fc2929\"}],\"state\":\"closed\",\"locked\":false,\"assignee\":{\"login\":\"ajaybhargavb\",\"id\":1579269,\"avatar_url\":\"https://avatars.githubusercontent.com/u/1579269?v=3\",\"gravatar_id\":\"\",\"url\":\"https://api.github.com/users/ajaybhargavb\",\"html_url\":\"https://github.com/ajaybhargavb\",\"followers_url\":\"https://api.github.com/users/ajaybhargavb/followers\",\"following_url\":\"https://api.github.com/users/ajaybhargavb/following{/other_user}\",\"gists_url\":\"https://api.github.com/users/ajaybhargavb/gists{/gist_id}\",\"starred_url\":\"https://api.github.com/users/ajaybhargavb/starred{/owner}{/repo}\",\"subscriptions_url\":\"https://api.github.com/users/ajaybhargavb/subscriptions\",\"organizations_url\":\"https://api.github.com/users/ajaybhargavb/orgs\",\"repos_url\":\"https://api.github.com/users/ajaybhargavb/repos\",\"events_url\":\"https://api.github.com/users/ajaybhargavb/events{/privacy}\",\"received_events_url\":\"https://api.github.com/users/ajaybhargavb/received_events\",\"type\":\"User\",\"site_admin\":false},\"milestone\":{\"url\":\"https://api.github.com/repos/aspnet/jquery-ajax-unobtrusive/milestones/1\",\"html_url\":\"https://github.com/aspnet/jquery-ajax-unobtrusive/milestones/3.2.4\",\"labels_url\":\"https://api.github.com/repos/aspnet/jquery-ajax-unobtrusive/milestones/1/labels\",\"id\":1478628,\"number\":1,\"title\":\"3.2.4\",\"description\":null,\"creator\":{\"login\":\"Eilon\",\"id\":202643,\"avatar_url\":\"https://avatars.githubusercontent.com/u/202643?v=3\",\"gravatar_id\":\"\",\"url\":\"https://api.github.com/users/Eilon\",\"html_url\":\"https://github.com/Eilon\",\"followers_url\":\"https://api.github.com/users/Eilon/followers\",\"following_url\":\"https://api.github.com/users/Eilon/following{/other_user}\",\"gists_url\":\"https://api.github.com/users/Eilon/gists{/gist_id}\",\"starred_url\":\"https://api.github.com/users/Eilon/starred{/owner}{/repo}\",\"subscriptions_url\":\"https://api.github.com/users/Eilon/subscriptions\",\"organizations_url\":\"https://api.github.com/users/Eilon/orgs\",\"repos_url\":\"https://api.github.com/users/Eilon/repos\",\"events_url\":\"https://api.github.com/users/Eilon/events{/privacy}\",\"received_events_url\":\"https://api.github.com/users/Eilon/received_events\",\"type\":\"User\",\"site_admin\":false},\"open_issues\":0,\"closed_issues\":1,\"state\":\"open\",\"created_at\":\"2015-12-30T22:39:41Z\",\"updated_at\":\"2015-12-31T00:00:00Z\",\"due_on\":null,\"closed_at\":null},\"comments\":2,\"created_at\":\"2015-11-20T11:50:27Z\",\"updated_at\":\"2015-12-31T00:00:00Z\",\"closed_at\":\"2015-12-31T00:00:00Z\",\"body\":\"line 94\\r\\n**cache: !!element.getAttribute(\\\"data-ajax-cache\\\")**\\r\\n\\r\\nWhen I have anchor defined like this:\\r\\n&lt;a href=\\\"...\\\" data-ajax=\\\"true\\\" data-ajax-cache=\\\"false\\\"&gt;...&lt;/a&gt; \\r\\nthen the javascript code above sets cache to true.\\r\\n\\r\\nelement.getAttribute(\\\"data-ajax-cache\\\") returns string \\\"false\\\"\\r\\n!element.getAttribute(\\\"data-ajax-cache\\\") returns boolean false\\r\\n!!element.getAttribute(\\\"data-ajax-cache\\\") returns boolean true\\r\\n\\r\\nConsider changing line 94 to this:\\r\\n**cache: (element.getAttribute(\\\"data-ajax-cache\\\") || \\\"\\\").toLowerCase() === \\\"true\\\"**\"}},\"public\":true,\"created_at\":\"2015-12-31T00:00:00Z\",\"org\":{\"id\":6476660,\"login\":\"aspnet\",\"gravatar_id\":\"\",\"url\":\"https://api.github.com/orgs/aspnet\",\"avatar_url\":\"https://avatars.githubusercontent.com/u/6476660?\"}}\n",
            "{\"id\":\"3484991471\",\"type\":\"PushEvent\",\"actor\":{\"id\":7672276,\"login\":\"mafunk92\",\"gravatar_id\":\"\",\"url\":\"https://api.github.com/users/mafunk92\",\"avatar_url\":\"https://avatars.githubusercontent.com/u/7672276?\"},\"repo\":{\"id\":36993236,\"name\":\"mafunk92/mafunk92.github.io\",\"url\":\"https://api.github.com/repos/mafunk92/mafunk92.github.io\"},\"payload\":{\"push_id\":919086582,\"size\":1,\"distinct_size\":1,\"ref\":\"refs/heads/master\",\"head\":\"5d3dcc9c26b24ec21b7c057a1faff06d37902cab\",\"before\":\"4fcb7b162be9888e51b37cd9912e0c37313049ad\",\"commits\":[{\"sha\":\"5d3dcc9c26b24ec21b7c057a1faff06d37902cab\",\"author\":{\"email\":\"b7e54379de08d2a76d95114c9e706f02ce68f6fd@gmail.com\",\"name\":\"Michael Funk\"},\"message\":\"switched home id from first section to title section\",\"distinct\":true,\"url\":\"https://api.github.com/repos/mafunk92/mafunk92.github.io/commits/5d3dcc9c26b24ec21b7c057a1faff06d37902cab\"}]},\"public\":true,\"created_at\":\"2015-12-31T00:00:00Z\"}\n",
            "{\"id\":\"3484991480\",\"type\":\"PushEvent\",\"actor\":{\"id\":11500621,\"login\":\"skenzhegulov\",\"gravatar_id\":\"\",\"url\":\"https://api.github.com/users/skenzhegulov\",\"avatar_url\":\"https://avatars.githubusercontent.com/u/11500621?\"},\"repo\":{\"id\":48778500,\"name\":\"skenzhegulov/File_search\",\"url\":\"https://api.github.com/repos/skenzhegulov/File_search\"},\"payload\":{\"push_id\":919086585,\"size\":0,\"distinct_size\":0,\"ref\":\"refs/heads/master\",\"head\":\"098a9720126497ee1479820f19ccd13efed9bfe4\",\"before\":\"098a9720126497ee1479820f19ccd13efed9bfe4\",\"commits\":[]},\"public\":true,\"created_at\":\"2015-12-31T00:00:00Z\"}\n",
            "{\"id\":\"3484991482\",\"type\":\"PushEvent\",\"actor\":{\"id\":8517910,\"login\":\"LombiqBot\",\"gravatar_id\":\"\",\"url\":\"https://api.github.com/users/LombiqBot\",\"avatar_url\":\"https://avatars.githubusercontent.com/u/8517910?\"},\"repo\":{\"id\":46632135,\"name\":\"Lombiq/Orchard-Token-Title\",\"url\":\"https://api.github.com/repos/Lombiq/Orchard-Token-Title\"},\"payload\":{\"push_id\":919086586,\"size\":0,\"distinct_size\":0,\"ref\":\"refs/heads/Orchard-1.9\",\"head\":\"1ae4a678c802ce5cce1e97fbc0b287c5bf576f4a\",\"before\":\"1ae4a678c802ce5cce1e97fbc0b287c5bf576f4a\",\"commits\":[]},\"public\":true,\"created_at\":\"2015-12-31T00:00:00Z\",\"org\":{\"id\":8158177,\"login\":\"Lombiq\",\"gravatar_id\":\"\",\"url\":\"https://api.github.com/orgs/Lombiq\",\"avatar_url\":\"https://avatars.githubusercontent.com/u/8158177?\"}}\n"
          ]
        }
      ]
    },
    {
      "cell_type": "code",
      "source": [
        "from dask import bag\n",
        "import json"
      ],
      "metadata": {
        "id": "b0kyuEcOZZhR"
      },
      "execution_count": 6,
      "outputs": []
    },
    {
      "cell_type": "code",
      "source": [
        "db = bag.read_text(['/content/2015*.json.gz', '/content/2016*.json.gz']).map(json.loads)\n",
        "db"
      ],
      "metadata": {
        "colab": {
          "base_uri": "https://localhost:8080/"
        },
        "id": "dlb8q1ixZlyz",
        "outputId": "cbe767df-1060-48ef-eb5a-79592d2ed8c1"
      },
      "execution_count": 7,
      "outputs": [
        {
          "output_type": "execute_result",
          "data": {
            "text/plain": [
              "dask.bag<loads, npartitions=48>"
            ]
          },
          "metadata": {},
          "execution_count": 7
        }
      ]
    },
    {
      "cell_type": "code",
      "source": [
        "db.count().compute()"
      ],
      "metadata": {
        "colab": {
          "base_uri": "https://localhost:8080/"
        },
        "id": "M2PfcibEaOKv",
        "outputId": "764bf954-58ca-4358-b6ac-8a7b29cb46de"
      },
      "execution_count": 8,
      "outputs": [
        {
          "output_type": "execute_result",
          "data": {
            "text/plain": [
              "859983"
            ]
          },
          "metadata": {},
          "execution_count": 8
        }
      ]
    },
    {
      "cell_type": "code",
      "source": [
        "# Bag.take(k, npartitions=1, compute=True, warn=True)[source]\n",
        "# k: The number of elements to return\n",
        "# npartitions: Elements are only taken from the first npartitions, with a default of 1.\n",
        "\n",
        "first = db.take(1)[0]\n",
        "first"
      ],
      "metadata": {
        "colab": {
          "base_uri": "https://localhost:8080/"
        },
        "id": "DHrZ5QIsbzPb",
        "outputId": "29614436-05a4-44c8-9426-d95c14acfe42"
      },
      "execution_count": 9,
      "outputs": [
        {
          "output_type": "execute_result",
          "data": {
            "text/plain": [
              "{'id': '3484991453',\n",
              " 'type': 'IssueCommentEvent',\n",
              " 'actor': {'id': 16410501,\n",
              "  'login': 'MartinsZB',\n",
              "  'gravatar_id': '',\n",
              "  'url': 'https://api.github.com/users/MartinsZB',\n",
              "  'avatar_url': 'https://avatars.githubusercontent.com/u/16410501?'},\n",
              " 'repo': {'id': 25084719,\n",
              "  'name': 'MagoKimbra/MarlinKimbra',\n",
              "  'url': 'https://api.github.com/repos/MagoKimbra/MarlinKimbra'},\n",
              " 'payload': {'action': 'created',\n",
              "  'issue': {'url': 'https://api.github.com/repos/MagoKimbra/MarlinKimbra/issues/88',\n",
              "   'labels_url': 'https://api.github.com/repos/MagoKimbra/MarlinKimbra/issues/88/labels{/name}',\n",
              "   'comments_url': 'https://api.github.com/repos/MagoKimbra/MarlinKimbra/issues/88/comments',\n",
              "   'events_url': 'https://api.github.com/repos/MagoKimbra/MarlinKimbra/issues/88/events',\n",
              "   'html_url': 'https://github.com/MagoKimbra/MarlinKimbra/issues/88',\n",
              "   'id': 124407605,\n",
              "   'number': 88,\n",
              "   'title': 'M105 response',\n",
              "   'user': {'login': 'MartinsZB',\n",
              "    'id': 16410501,\n",
              "    'avatar_url': 'https://avatars.githubusercontent.com/u/16410501?v=3',\n",
              "    'gravatar_id': '',\n",
              "    'url': 'https://api.github.com/users/MartinsZB',\n",
              "    'html_url': 'https://github.com/MartinsZB',\n",
              "    'followers_url': 'https://api.github.com/users/MartinsZB/followers',\n",
              "    'following_url': 'https://api.github.com/users/MartinsZB/following{/other_user}',\n",
              "    'gists_url': 'https://api.github.com/users/MartinsZB/gists{/gist_id}',\n",
              "    'starred_url': 'https://api.github.com/users/MartinsZB/starred{/owner}{/repo}',\n",
              "    'subscriptions_url': 'https://api.github.com/users/MartinsZB/subscriptions',\n",
              "    'organizations_url': 'https://api.github.com/users/MartinsZB/orgs',\n",
              "    'repos_url': 'https://api.github.com/users/MartinsZB/repos',\n",
              "    'events_url': 'https://api.github.com/users/MartinsZB/events{/privacy}',\n",
              "    'received_events_url': 'https://api.github.com/users/MartinsZB/received_events',\n",
              "    'type': 'User',\n",
              "    'site_admin': False},\n",
              "   'labels': [],\n",
              "   'state': 'open',\n",
              "   'locked': False,\n",
              "   'assignee': None,\n",
              "   'milestone': None,\n",
              "   'comments': 4,\n",
              "   'created_at': '2015-12-30T22:26:09Z',\n",
              "   'updated_at': '2015-12-30T23:59:59Z',\n",
              "   'closed_at': None,\n",
              "   'body': 'Hi! I am running dual head printer with MarlinKimbra and Octoprint. Octoprint is confused, when receiving response on M105 code:\\r\\nRecv: T:77.1 /205.0 B:59.5 /60.0 T0:206.5 /205.0 T1:77.1 /205.0 B@:0 @:127 @0:40 @1:127 W:?\\r\\n\\r\\nThis is the answer - can you please explain, what the \"B@:0 @:127 @0:40 @1:127 W:?\" part is about?\\r\\nThanks,\\r\\nMartins'},\n",
              "  'comment': {'url': 'https://api.github.com/repos/MagoKimbra/MarlinKimbra/issues/comments/168097563',\n",
              "   'html_url': 'https://github.com/MagoKimbra/MarlinKimbra/issues/88#issuecomment-168097563',\n",
              "   'issue_url': 'https://api.github.com/repos/MagoKimbra/MarlinKimbra/issues/88',\n",
              "   'id': 168097563,\n",
              "   'user': {'login': 'MartinsZB',\n",
              "    'id': 16410501,\n",
              "    'avatar_url': 'https://avatars.githubusercontent.com/u/16410501?v=3',\n",
              "    'gravatar_id': '',\n",
              "    'url': 'https://api.github.com/users/MartinsZB',\n",
              "    'html_url': 'https://github.com/MartinsZB',\n",
              "    'followers_url': 'https://api.github.com/users/MartinsZB/followers',\n",
              "    'following_url': 'https://api.github.com/users/MartinsZB/following{/other_user}',\n",
              "    'gists_url': 'https://api.github.com/users/MartinsZB/gists{/gist_id}',\n",
              "    'starred_url': 'https://api.github.com/users/MartinsZB/starred{/owner}{/repo}',\n",
              "    'subscriptions_url': 'https://api.github.com/users/MartinsZB/subscriptions',\n",
              "    'organizations_url': 'https://api.github.com/users/MartinsZB/orgs',\n",
              "    'repos_url': 'https://api.github.com/users/MartinsZB/repos',\n",
              "    'events_url': 'https://api.github.com/users/MartinsZB/events{/privacy}',\n",
              "    'received_events_url': 'https://api.github.com/users/MartinsZB/received_events',\n",
              "    'type': 'User',\n",
              "    'site_admin': False},\n",
              "   'created_at': '2015-12-30T23:59:59Z',\n",
              "   'updated_at': '2015-12-30T23:59:59Z',\n",
              "   'body': 'I am using 4.2.2 dev version (downloaded from online config tool)'}},\n",
              " 'public': True,\n",
              " 'created_at': '2015-12-31T00:00:00Z'}"
            ]
          },
          "metadata": {},
          "execution_count": 9
        }
      ]
    },
    {
      "cell_type": "code",
      "source": [
        "db.map(lambda x: x['type']).frequencies(sort=True).compute()"
      ],
      "metadata": {
        "colab": {
          "base_uri": "https://localhost:8080/"
        },
        "id": "Owx3E6ExR040",
        "outputId": "d0223211-c396-4b8e-9ca1-5d6277528e45"
      },
      "execution_count": 22,
      "outputs": [
        {
          "output_type": "execute_result",
          "data": {
            "text/plain": [
              "[('PushEvent', 472118),\n",
              " ('CreateEvent', 102296),\n",
              " ('WatchEvent', 84809),\n",
              " ('IssueCommentEvent', 60842),\n",
              " ('PullRequestEvent', 36867),\n",
              " ('IssuesEvent', 34760),\n",
              " ('ForkEvent', 26823),\n",
              " ('DeleteEvent', 15690),\n",
              " ('PullRequestReviewCommentEvent', 9219),\n",
              " ('GollumEvent', 6048),\n",
              " ('CommitCommentEvent', 3703),\n",
              " ('ReleaseEvent', 3383),\n",
              " ('MemberEvent', 2767),\n",
              " ('PublicEvent', 658)]"
            ]
          },
          "metadata": {},
          "execution_count": 22
        }
      ]
    },
    {
      "cell_type": "code",
      "source": [
        "# another way\n",
        "db.pluck('type').frequencies().compute() # column value_counts"
      ],
      "metadata": {
        "colab": {
          "base_uri": "https://localhost:8080/"
        },
        "id": "IxXvU-44kvrg",
        "outputId": "3b636373-c98e-4f49-f125-8ab30a6511b2"
      },
      "execution_count": 20,
      "outputs": [
        {
          "output_type": "execute_result",
          "data": {
            "text/plain": [
              "[('IssueCommentEvent', 60842),\n",
              " ('PullRequestEvent', 36867),\n",
              " ('CreateEvent', 102296),\n",
              " ('PushEvent', 472118),\n",
              " ('WatchEvent', 84809),\n",
              " ('IssuesEvent', 34760),\n",
              " ('DeleteEvent', 15690),\n",
              " ('ForkEvent', 26823),\n",
              " ('GollumEvent', 6048),\n",
              " ('ReleaseEvent', 3383),\n",
              " ('PullRequestReviewCommentEvent', 9219),\n",
              " ('MemberEvent', 2767),\n",
              " ('CommitCommentEvent', 3703),\n",
              " ('PublicEvent', 658)]"
            ]
          },
          "metadata": {},
          "execution_count": 20
        }
      ]
    },
    {
      "cell_type": "code",
      "source": [
        "# filter and export results to files\n",
        "db.filter(lambda x: 'PublicEvent' in x['type']).map(json.dumps).to_textfiles('outputs/*.json')"
      ],
      "metadata": {
        "colab": {
          "base_uri": "https://localhost:8080/"
        },
        "id": "ZQhUTedeRzwQ",
        "outputId": "7a1e1251-2d8c-4560-84d1-c868526a3c91"
      },
      "execution_count": 23,
      "outputs": [
        {
          "output_type": "execute_result",
          "data": {
            "text/plain": [
              "['/content/outputs/00.json',\n",
              " '/content/outputs/01.json',\n",
              " '/content/outputs/02.json',\n",
              " '/content/outputs/03.json',\n",
              " '/content/outputs/04.json',\n",
              " '/content/outputs/05.json',\n",
              " '/content/outputs/06.json',\n",
              " '/content/outputs/07.json',\n",
              " '/content/outputs/08.json',\n",
              " '/content/outputs/09.json',\n",
              " '/content/outputs/10.json',\n",
              " '/content/outputs/11.json',\n",
              " '/content/outputs/12.json',\n",
              " '/content/outputs/13.json',\n",
              " '/content/outputs/14.json',\n",
              " '/content/outputs/15.json',\n",
              " '/content/outputs/16.json',\n",
              " '/content/outputs/17.json',\n",
              " '/content/outputs/18.json',\n",
              " '/content/outputs/19.json',\n",
              " '/content/outputs/20.json',\n",
              " '/content/outputs/21.json',\n",
              " '/content/outputs/22.json',\n",
              " '/content/outputs/23.json',\n",
              " '/content/outputs/24.json',\n",
              " '/content/outputs/25.json',\n",
              " '/content/outputs/26.json',\n",
              " '/content/outputs/27.json',\n",
              " '/content/outputs/28.json',\n",
              " '/content/outputs/29.json',\n",
              " '/content/outputs/30.json',\n",
              " '/content/outputs/31.json',\n",
              " '/content/outputs/32.json',\n",
              " '/content/outputs/33.json',\n",
              " '/content/outputs/34.json',\n",
              " '/content/outputs/35.json',\n",
              " '/content/outputs/36.json',\n",
              " '/content/outputs/37.json',\n",
              " '/content/outputs/38.json',\n",
              " '/content/outputs/39.json',\n",
              " '/content/outputs/40.json',\n",
              " '/content/outputs/41.json',\n",
              " '/content/outputs/42.json',\n",
              " '/content/outputs/43.json',\n",
              " '/content/outputs/44.json',\n",
              " '/content/outputs/45.json',\n",
              " '/content/outputs/46.json',\n",
              " '/content/outputs/47.json']"
            ]
          },
          "metadata": {},
          "execution_count": 23
        }
      ]
    },
    {
      "cell_type": "code",
      "source": [
        "import re\n",
        "time_pattern = re.compile('[\\d\\-]+T(?P<hour>[\\d]+)')\n",
        "pushes_events = db.filter(lambda x: x['type'] == 'PushEvent')\n",
        "hours = db.pluck('created_at').map(lambda x: re.search(time_pattern, x).group('hour'))\n",
        "top_10 = hours.frequencies().topk(10, key=lambda time, count: count)\n",
        "top_10.compute()"
      ],
      "metadata": {
        "colab": {
          "base_uri": "https://localhost:8080/"
        },
        "id": "p61a9a-ql63f",
        "outputId": "c77e7f6b-4361-4cc1-c0e9-1399ddfb239e"
      },
      "execution_count": null,
      "outputs": [
        {
          "output_type": "execute_result",
          "data": {
            "text/plain": [
              "[('16', 42957),\n",
              " ('15', 42779),\n",
              " ('17', 42246),\n",
              " ('14', 40431),\n",
              " ('18', 39423),\n",
              " ('19', 39331),\n",
              " ('13', 37889),\n",
              " ('20', 37324),\n",
              " ('21', 36428),\n",
              " ('22', 35984)]"
            ]
          },
          "metadata": {},
          "execution_count": 50
        }
      ]
    },
    {
      "cell_type": "code",
      "source": [
        "def get_hours(row):\n",
        "  return re.search(time_pattern, row['created_by']).group('hour')\n",
        "\n",
        "def binop(total, row):\n",
        "  '''Count  the total commits events'''\n",
        "  return total + len(row['payload']['commits'])\n",
        "\n",
        "def combine(total1, total2):\n",
        "  '''Combine commits counts'''\n",
        "  return total1 + total2\n",
        "\n",
        "commits_events = db.foldby(get_hours, binop, initial=0, combine=combine) #Combined reduction and groupby. It walks through the data accumulating a result per key\n",
        "\n",
        "top_10 = hours.frequencies().topk(10, key=lambda time, count: count)\n",
        "top_10.compute()"
      ],
      "metadata": {
        "colab": {
          "base_uri": "https://localhost:8080/"
        },
        "id": "ni-IMhMDsdQv",
        "outputId": "611229e0-0c37-4261-aa3c-df3051f57146"
      },
      "execution_count": null,
      "outputs": [
        {
          "output_type": "execute_result",
          "data": {
            "text/plain": [
              "[('16', 42957),\n",
              " ('15', 42779),\n",
              " ('17', 42246),\n",
              " ('14', 40431),\n",
              " ('18', 39423),\n",
              " ('19', 39331),\n",
              " ('13', 37889),\n",
              " ('20', 37324),\n",
              " ('21', 36428),\n",
              " ('22', 35984)]"
            ]
          },
          "metadata": {},
          "execution_count": 69
        }
      ]
    }
  ]
}