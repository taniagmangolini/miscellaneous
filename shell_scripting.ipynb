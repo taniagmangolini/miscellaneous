{
  "nbformat": 4,
  "nbformat_minor": 0,
  "metadata": {
    "colab": {
      "provenance": []
    },
    "kernelspec": {
      "name": "python3",
      "display_name": "Python 3"
    },
    "language_info": {
      "name": "python"
    }
  },
  "cells": [
    {
      "cell_type": "markdown",
      "source": [
        "https://github.com/packtpublishing/\n",
        "\n",
        "https://github.com/PacktPublishing/Complete-Bash-Shell-Scripting- "
      ],
      "metadata": {
        "id": "37ALvZfSDtwV"
      }
    },
    {
      "cell_type": "markdown",
      "source": [
        "# Users\n",
        "\n",
        "## Create a new user\n",
        "\n",
        "```\n",
        "useradd username\n",
        "passwd username\n",
        "```\n",
        "\n",
        "Switch to new user\n",
        "\n",
        "```\n",
        "sudo su - username\n",
        "```"
      ],
      "metadata": {
        "id": "C5miMBSKEmB0"
      }
    },
    {
      "cell_type": "markdown",
      "source": [
        "# Shell Types\n",
        "\n",
        "Check all available shells (output sample: /bin/bash, /bin/csh, /bin/dash, /bin/ksh, /bin/sh, /bin/tcsh e /bin/zsh):\n",
        "\n",
        "```\n",
        "cat /etc/shells\n",
        "```\n",
        "\n",
        "Check the user's shell type (ex. bin/sh):\n",
        "\n",
        "```\n",
        "echo #SHELL \n",
        "```\n",
        "\n",
        "To change the user's shell type (inform the desired shell):\n",
        "\n",
        "```\n",
        "chsh\n",
        "```"
      ],
      "metadata": {
        "id": "-tP6c1_VHsnc"
      }
    },
    {
      "cell_type": "markdown",
      "source": [
        "# Permissions\n",
        "\n",
        "## Change the user and/or group ownership of a given file, directory, or symbolic link: \n",
        "\n",
        "```\n",
        "chown -R username:username path\n",
        "```\n",
        "\n",
        "## add user execution permission to a file:\n",
        "\n",
        "```\n",
        "chmod u+x file\n",
        "```"
      ],
      "metadata": {
        "id": "UxDIzeCyHxMD"
      }
    },
    {
      "cell_type": "markdown",
      "source": [
        "# Redirection (STDOUT, STDERR, STDIN)\n",
        "\n",
        "\\> (or 1>) redirect the standard output (STDOUT) to a file. If you want to append use >>. Ex:\n",
        "\n",
        "```\n",
        " echo 'Test' > new_file.txt\n",
        "\n",
        " or \n",
        "\n",
        "  echo 'Test' 0> new_file.txt\n",
        "```\n",
        "\n",
        "\n",
        "\\< (or 0>) redirect the standard output (STDIN):\n",
        "\n",
        "```\n",
        "any_program < inputfile 2>errorfile\n",
        "\n",
        "or\n",
        "\n",
        "inputfile 0> any_program  2> errorfile\n",
        "```\n",
        "\n",
        "2> redirect the standard error (STDERR):\n",
        "\n",
        "```\n",
        "any_program 2> errorfile\n",
        "```\n",
        "\n",
        "To direct both STDOUT and STDERROR to the same place:\n",
        "\n",
        "```\n",
        "java --version 1> version.txt 2>&1\n",
        "\n",
        "or \n",
        "\n",
        "java --version &> version.txt\n",
        "```\n",
        "\n"
      ],
      "metadata": {
        "id": "oKgJFQGtLhMW"
      }
    },
    {
      "cell_type": "markdown",
      "source": [
        "To ignore stdin and stdout:\n",
        "\n",
        "```\n",
        "command 2>/dev/null 1>/dev/null\n",
        "```\n",
        "\n"
      ],
      "metadata": {
        "id": "0F_r7G_1wn6w"
      }
    },
    {
      "cell_type": "markdown",
      "source": [
        "# Read File\n",
        "\n",
        "Simple commands: cat, less\n",
        "\n",
        "Conditional commands: head, tail, more, grep, awk, sed, cut\n",
        "\n",
        "Cut example: \n",
        "\n",
        "\n",
        "\n",
        "```\n",
        "cut -d '\\t' -f 1-4 file --output-delimiter=\"|\"  # -f are the desired fields and -sf means skip lines without the delimiter\n",
        "```\n",
        "\n",
        "\n"
      ],
      "metadata": {
        "id": "UMvzLee2P7yS"
      }
    },
    {
      "cell_type": "markdown",
      "source": [
        "## Grep\n",
        "\n",
        "grep [options] \"string/pattern\" file/files\n",
        "\n",
        "options:\n",
        "\n",
        "-i: ignore case\n",
        "\n",
        "-w: match a whole word (exact search)\n",
        "\n",
        "-v: match content that does not have the string (inverse)\n",
        "\n",
        "-o: display only the matches\n",
        "\n",
        "-n: show the matches line numbers\n",
        "\n",
        "-c: show the matches numbers of lines (count)\n",
        "\n",
        "-A n: display n lines after the match\n",
        "\n",
        "-B n: display n lines before the match\n",
        "\n",
        "-C n: display n lines around the match\n",
        "\n",
        "-r: search recursively\n",
        "\n",
        "-P: pattern\n",
        "\n",
        "-h: hide filenames\n",
        "\n",
        "Advanced options:\n",
        "\n",
        "-f: use it to  pass a file with the strings/patterns (one per line) to be searched. Ex: grep -f patterns_to_search.txt file.txt\n",
        "\n",
        "-e: it allows to pass n strings/patterns to search. Ex. grep -e \"banana\" -e \"orange\" -e \"blue\" file.txt\n",
        "\n",
        "-E: it allows to pass a pattern to be searched. \n",
        "\n",
        "Ex. grep -E \"banana|orange|blue\" file.txt\n",
        "\n",
        "Ex. grep -E \"^start\" file.txt\n",
        "\n",
        "Ex. grep -E \"end$\" file.txt\n",
        "\n",
        "Ex. grep -E \"ˆ$\" file.txt # match empty lines\n",
        "Ex. grep -E \"line\\b\" file.txt # \\b delimits the string (“whole words only”)\n",
        "\n",
        "\n"
      ],
      "metadata": {
        "id": "bTfMqgOMSQH0"
      }
    },
    {
      "cell_type": "code",
      "source": [
        "500"
      ],
      "metadata": {
        "id": "DEWfbgUzINrK"
      },
      "execution_count": null,
      "outputs": []
    },
    {
      "cell_type": "markdown",
      "source": [
        "## Sed"
      ],
      "metadata": {
        "id": "MLSZxo88SSvO"
      }
    },
    {
      "cell_type": "code",
      "source": [],
      "metadata": {
        "id": "hY3UmIwvFy-8"
      },
      "execution_count": null,
      "outputs": []
    },
    {
      "cell_type": "markdown",
      "source": [
        "## awk\n",
        "\n",
        "Each line in a file is treated as a record (row) and columns (fields) by the awk.\n",
        "\n",
        "```\n",
        "awk [options] '[selection_criteria] {action}' input_file\n",
        "```\n",
        "\n",
        "Options:\n",
        "\n",
        "-F: file separator. Ex. '[ /]'  means space or /. Default is space\n",
        "\n",
        "-v var_name=value: declare a variable\n",
        "\n",
        "Ex:\n",
        "\n",
        "```\n",
        "\n",
        "awk -F '[ /]' '/pattern_of_interest/ {print $4}'\n",
        "\n",
        "awk -F '[ /]' 'NR==1 {print $4}' # NR: number of records\n",
        "\n",
        "awk 'BEGIN (OFS=\"_\") {print $1,$3}' # print the columns 1 and 3 separated by _.\n",
        "\n",
        " OFS is the separator (by default awk OFS is a single space character).\n",
        "\n",
        "```\n",
        "\n",
        "Default variables for awk:\n",
        "\n",
        "0$: means the entire file\n",
        "\n",
        "$n: means the column number. Ex. $1.\n",
        "\n",
        "NR: line number\n",
        "\n",
        "NF: number of fields (columns)\n"
      ],
      "metadata": {
        "id": "VbDNiIRgSXSK"
      }
    },
    {
      "cell_type": "markdown",
      "source": [
        "For more complex scripts using AWK:\n",
        "\n",
        "```\n",
        "awk 'BEGIN {start_action} pattern/condition {action to perform on each line} END {stop_action}' filename\n",
        "```\n",
        "\n",
        "The BEGIN block is executed before reading the file\n",
        "The END block is performed after processing the file\n",
        "The other actions are executed along the file processing\n",
        "\n",
        "You can save your aws script in a file with the #!/bin/awk -f header. To execute it: \n",
        "\n",
        "```\n",
        "awk -f script.awk\n",
        "```\n",
        "\n"
      ],
      "metadata": {
        "id": "ms57MGy6ENVS"
      }
    },
    {
      "cell_type": "code",
      "source": [
        "%%bash\n",
        "awk 'BEGIN {a=5; print a}' /content/sample_data/README.md"
      ],
      "metadata": {
        "colab": {
          "base_uri": "https://localhost:8080/"
        },
        "id": "4E_7DuroFZBR",
        "outputId": "2338e6aa-7228-4a0a-edd4-bf90d9cb4d8a"
      },
      "execution_count": 1,
      "outputs": [
        {
          "output_type": "stream",
          "name": "stdout",
          "text": [
            "5\n"
          ]
        }
      ]
    },
    {
      "cell_type": "code",
      "source": [
        "%%bash\n",
        "a=5.5\n",
        "b=6.25\n",
        "echo \"$a $b\" | awk  '{ a=$1; b=$2; print \"a=\"a, \"b=\"b, \"sum=\"a+b }'"
      ],
      "metadata": {
        "colab": {
          "base_uri": "https://localhost:8080/"
        },
        "id": "w6ZyUFwcIBsz",
        "outputId": "f497c9e6-55ba-42fb-9bfb-faaed864da3a"
      },
      "execution_count": 5,
      "outputs": [
        {
          "output_type": "stream",
          "name": "stdout",
          "text": [
            "a=5.5 b=6.25 sum=11.75\n"
          ]
        }
      ]
    },
    {
      "cell_type": "markdown",
      "source": [
        "# tr (translate)\n",
        "\n",
        "Useful for format string based on pattern. Also useful for remove parts of the string.\n",
        "\n",
        "```\n",
        "tr '[:upper:]' '[:lower:]' <file #convert uppercase to lowercase\n",
        "\n",
        "cat file | tr \"_\" \"-\" \n",
        "\n",
        "echo \"(teste)\" | tr -d \"(\" | tr -d \")\"\n",
        "\n",
        "echo \"(teste)\" | tr -d \"[()]\"\n",
        "```\n",
        "\n"
      ],
      "metadata": {
        "id": "QvFJ55DdthLF"
      }
    },
    {
      "cell_type": "markdown",
      "source": [
        "# paste\n",
        "\n",
        "It is used to join files horizontally by outputting lines consisting of lines from each file specified, separated by tab as delimiter"
      ],
      "metadata": {
        "id": "PCiD8hmALXo6"
      }
    },
    {
      "cell_type": "code",
      "source": [
        "%%bash\n",
        "echo -e \"Arunachal Pradesh\\nAssam\\nAndhra Pradesh\\nBihar\\nChhattisgrah\" > states.txt\n",
        "echo -e \"Itanagar\\nDispur\\nHyderabad\\nPatna\\nRaipur\" > capitals.txt\n",
        "ls -la\n",
        "echo 'Merging files...'\n",
        "paste -d \";\" states.txt capitals.txt"
      ],
      "metadata": {
        "colab": {
          "base_uri": "https://localhost:8080/"
        },
        "id": "72Uxq51NLk2y",
        "outputId": "cbe1b223-0a99-4579-fe7f-8e038c50714c"
      },
      "execution_count": null,
      "outputs": [
        {
          "output_type": "stream",
          "name": "stdout",
          "text": [
            "total 28\n",
            "drwxr-xr-x 1 root root 4096 May  6 17:52 .\n",
            "drwxr-xr-x 1 root root 4096 May  6 13:58 ..\n",
            "-rw-r--r-- 1 root root   39 May  6 17:53 capitals.txt\n",
            "drwxr-xr-x 4 root root 4096 May  3 13:30 .config\n",
            "-rw-r--r-- 1 root root   35 May  6 14:23 redirect_to_this_file.txt\n",
            "drwxr-xr-x 1 root root 4096 May  3 13:31 sample_data\n",
            "-rw-r--r-- 1 root root   58 May  6 17:53 states.txt\n",
            "Merging files...\n",
            "Arunachal Pradesh;Itanagar\n",
            "Assam;Dispur\n",
            "Andhra Pradesh;Hyderabad\n",
            "Bihar;Patna\n",
            "Chhattisgrah;Raipur\n"
          ]
        }
      ]
    },
    {
      "cell_type": "markdown",
      "source": [
        "# echo"
      ],
      "metadata": {
        "id": "eLS002OEXWc_"
      }
    },
    {
      "cell_type": "code",
      "source": [
        "%%bash\n",
        "\n",
        "echo \"$(pwd)\" # echo \"$(command)\"\n",
        "\n",
        "echo -e \"one line\\nAnother line\" # echo with new line\n",
        "\n",
        "echo -e \"one line\\tAnother line\" # echo with tab\n",
        "\n",
        "echo -e \"This if \\\"funny\\\"\" # echo with escape \\\n",
        "\n",
        "x=banana\n",
        "echo \"${x:3:6}\" # extracting substring\n",
        "\n",
        "echo -e \"\\033[0;31mThis is coloured\" # echo with color"
      ],
      "metadata": {
        "colab": {
          "base_uri": "https://localhost:8080/"
        },
        "id": "uYcWU-CzXV6C",
        "outputId": "abd68e6c-3bd2-4b3e-d37b-2add391a939e"
      },
      "execution_count": null,
      "outputs": [
        {
          "output_type": "stream",
          "name": "stdout",
          "text": [
            "/content\n",
            "one line\n",
            "Another line\n",
            "one line\tAnother line\n",
            "This if \"funny\"\n",
            "ana\n",
            "\u001b[0;31mThis is coloured\n"
          ]
        }
      ]
    },
    {
      "cell_type": "markdown",
      "source": [
        "# Paths (basename, realpath, dirname)"
      ],
      "metadata": {
        "id": "1Ap_s6WRLk3J"
      }
    },
    {
      "cell_type": "code",
      "source": [
        "%%bash\n",
        "\n",
        "# extract just the filename\n",
        "basename /content/sample_data/README.md"
      ],
      "metadata": {
        "colab": {
          "base_uri": "https://localhost:8080/"
        },
        "id": "LzdPnyS7LmOx",
        "outputId": "b95cbc84-d233-4fd8-9342-dd72107ff100"
      },
      "execution_count": null,
      "outputs": [
        {
          "output_type": "stream",
          "name": "stdout",
          "text": [
            "README.md\n"
          ]
        }
      ]
    },
    {
      "cell_type": "code",
      "source": [
        "%%bash\n",
        "\n",
        "# also useful to remove suffix\n",
        "basename /content/sample_data/README.md .md"
      ],
      "metadata": {
        "colab": {
          "base_uri": "https://localhost:8080/"
        },
        "id": "eC1fKVwRMkDx",
        "outputId": "311a97e0-6ccb-4e86-e89e-35384387abc0"
      },
      "execution_count": null,
      "outputs": [
        {
          "output_type": "stream",
          "name": "stdout",
          "text": [
            "README\n"
          ]
        }
      ]
    },
    {
      "cell_type": "code",
      "source": [
        "%%bash\n",
        "\n",
        "# append pwd to a filename\n",
        "realpath test.txt"
      ],
      "metadata": {
        "colab": {
          "base_uri": "https://localhost:8080/"
        },
        "id": "L4Tf8OShMABt",
        "outputId": "a66fe192-67d2-4a76-cd0d-6dde1b99c810"
      },
      "execution_count": null,
      "outputs": [
        {
          "output_type": "stream",
          "name": "stdout",
          "text": [
            "/content/test.txt\n"
          ]
        }
      ]
    },
    {
      "cell_type": "code",
      "source": [
        "%%bash\n",
        "\n",
        "# get the directory from a path\n",
        "dirname /content/sample_data/README.md"
      ],
      "metadata": {
        "colab": {
          "base_uri": "https://localhost:8080/"
        },
        "id": "TYGwS4hpM2rc",
        "outputId": "12fe942e-7a85-44ea-fad5-1450306a4e81"
      },
      "execution_count": null,
      "outputs": [
        {
          "output_type": "stream",
          "name": "stdout",
          "text": [
            "/content/sample_data\n"
          ]
        }
      ]
    },
    {
      "cell_type": "markdown",
      "source": [
        "# printf\n",
        "\n",
        "As echo it is also used to display values. However, echo always put a \\n.\n",
        "As advantage, printf allows to format the output.\n",
        "\n",
        "Sintax:\n",
        "\n",
        "```\n",
        "print \"format\\n\" \"arguments\"\n",
        "```\n",
        "\n",
        "Formats (some examples):\n",
        "- %d: decimal numbers\n",
        "- %i: signed decimal numbers\n",
        "- %u: unsigned decimal numbers\n",
        "- %f: floating point numbers\n",
        "- %%: percentage symbol\n",
        "- %s: string\n",
        "\n",
        "Also is possible to add modifiers to the formats:\n",
        "- N: width of output (can be fractions)\n",
        "- *: placeholder for width\n",
        "- -: left aligment\n",
        "- 0: pad with zeros\n",
        "- +: put signal before numbers (+ or -)\n"
      ],
      "metadata": {
        "id": "9NUKl_-fsyVn"
      }
    },
    {
      "cell_type": "code",
      "source": [
        "%%bash\n",
        "x=7.5\n",
        "y=1.25\n",
        "\n",
        "printf \"$x $y\\n\"\n",
        "\n",
        "printf \"%f %f\\n\" \"$x\" \"$y\"\n",
        "\n",
        "printf \"%+0.2f %0.3f\\n\" \"$x\" \"$y\"\n",
        "\n",
        "printf \"%113s\" \" \" | tr \" \" \"-\""
      ],
      "metadata": {
        "colab": {
          "base_uri": "https://localhost:8080/"
        },
        "id": "tKwFs2p5s0YU",
        "outputId": "4d776443-0364-476f-c43d-83f92bc61a6d"
      },
      "execution_count": null,
      "outputs": [
        {
          "output_type": "stream",
          "name": "stdout",
          "text": [
            "7.5 1.25\n",
            "7.500000 1.250000\n",
            "+7.50 1.250\n",
            "-----------------------------------------------------------------------------------------------------------------"
          ]
        }
      ]
    },
    {
      "cell_type": "markdown",
      "source": [
        "# Script\n",
        "\n",
        "To create a bash script add to the file's first line: \n",
        "\n",
        "```\n",
        "#!/bin/bash\n",
        "```\n",
        "\n",
        "However if the bash is not at /bin/bash it will not run. To make your script compatible with many Linux distributions use it instead:\n",
        "\n",
        "```\n",
        "#!/usr/bin/env bash\n",
        "```\n",
        "\n",
        "To execute the script:\n",
        "\n",
        "```\n",
        "./file.sh\n",
        "```\n",
        "It is also possible to execute running (even without permissions to execute it):\n",
        "\n",
        "```\n",
        "bash file.sh\n",
        "```\n",
        "\n",
        "If you need to pass params. This params are accessible inside the script by $1, $2 ... $N according to the position \n",
        "\n",
        "(for two digits positions is mandatory to use ${N} )\n",
        "\n",
        "```\n",
        "bash file.sh param1 param2\n",
        "```\n",
        "\n",
        "Another special variables:\n",
        "\n",
        "echo $# outputs the number of positional parameters of your script.\n",
        "\n",
        "$@ - Expands to the positional parameters, starting from one. When the expansion occurs within double quotes, each parameter expands to a separate word.\"$@\" is equivalent to \"$1\" \"$2\" \"$3\" ...  and would be treated as \"several individual words\".\n",
        "\n",
        "$* - Expands to the positional parameters, starting from one. When the expansion occurs within double quotes, it expands to a single word with the value of each parameter separated by the first character of the IFS special variable. \"$*\" is equivalent to \"$1 $2 $3 ... \" and would be treated as \"one word\".\n",
        "\n",
        "$* or $@ without quotes would expand to a list of seven individual tokens. \n",
        "$* is equivalent to $1 $2 $3 … ${N}\n",
        "$@ is equivalent to $1 $2 $3 … ${N}"
      ],
      "metadata": {
        "id": "BRc8eUuJs0yo"
      }
    },
    {
      "cell_type": "markdown",
      "source": [
        "You can you the command below to get information about what OS is running:\n",
        "\n",
        "```\n",
        "cat /etc/os-release\n",
        "```\n",
        "\n"
      ],
      "metadata": {
        "id": "R7Voj2QxfaBR"
      }
    },
    {
      "cell_type": "code",
      "source": [
        "%%bash\n",
        "cat /etc/os-release"
      ],
      "metadata": {
        "colab": {
          "base_uri": "https://localhost:8080/"
        },
        "id": "pVJDsis3fXm6",
        "outputId": "68f8c235-3fce-42bd-a7ef-056f552d476d"
      },
      "execution_count": null,
      "outputs": [
        {
          "output_type": "stream",
          "name": "stdout",
          "text": [
            "NAME=\"Ubuntu\"\n",
            "VERSION=\"20.04.5 LTS (Focal Fossa)\"\n",
            "ID=ubuntu\n",
            "ID_LIKE=debian\n",
            "PRETTY_NAME=\"Ubuntu 20.04.5 LTS\"\n",
            "VERSION_ID=\"20.04\"\n",
            "HOME_URL=\"https://www.ubuntu.com/\"\n",
            "SUPPORT_URL=\"https://help.ubuntu.com/\"\n",
            "BUG_REPORT_URL=\"https://bugs.launchpad.net/ubuntu/\"\n",
            "PRIVACY_POLICY_URL=\"https://www.ubuntu.com/legal/terms-and-policies/privacy-policy\"\n",
            "VERSION_CODENAME=focal\n",
            "UBUNTU_CODENAME=focal\n"
          ]
        }
      ]
    },
    {
      "cell_type": "markdown",
      "source": [
        "## tee (for script logging)\n",
        "\n",
        "Display the outputs and save it to a file. It is useful for creating logs.\n",
        "\n",
        "Sintax:\n",
        "\n",
        "```\n",
        "command | tee log.txt\n",
        "```\n",
        "\n"
      ],
      "metadata": {
        "id": "wLdlfueQu4r9"
      }
    },
    {
      "cell_type": "markdown",
      "source": [
        "## Debugging\n",
        "\n",
        "We use set [options] to debug bash scripts.\n",
        "\n",
        "Options:\n",
        "\n",
        "-n: just sintax check\n",
        "-x: print the command before execute it\n",
        "-e: exit the script in case of errors\n",
        "-v: verbose\n",
        "\n",
        "Example:\n",
        "set -x -e\n",
        "\n",
        "You can set this options dinamically using bash command. For instance:\n",
        "\n",
        "\n",
        "```\n",
        "bash +n script.sh\n",
        "```\n",
        "\n"
      ],
      "metadata": {
        "id": "7jwq-2shibB5"
      }
    },
    {
      "cell_type": "markdown",
      "source": [
        "## Exit status\n",
        "\n",
        "To check the execution status of a command/script you can use:\n",
        "\n",
        "```\n",
        "echo $?\n",
        "```\n",
        "\n",
        "In case of success it will return 0 (zero).\n",
        "\n",
        "Common error codes:\n",
        "\n",
        "- 127: invalid command.\n",
        "- 1: valid command, but an error occurred.\n",
        "- 2: incorrect command usage."
      ],
      "metadata": {
        "id": "bJoYFxgtkMP5"
      }
    },
    {
      "cell_type": "code",
      "source": [
        "%%bash\n",
        "wrong command\n",
        "status=$?\n",
        "echo \"$status\""
      ],
      "metadata": {
        "colab": {
          "base_uri": "https://localhost:8080/"
        },
        "id": "ybIK8gjmieAU",
        "outputId": "8fd935da-e089-4119-8c99-b6eaba554f8c"
      },
      "execution_count": null,
      "outputs": [
        {
          "output_type": "stream",
          "name": "stdout",
          "text": [
            "127\n"
          ]
        },
        {
          "output_type": "stream",
          "name": "stderr",
          "text": [
            "bash: line 1: wrong: command not found\n"
          ]
        }
      ]
    },
    {
      "cell_type": "code",
      "source": [
        "%%bash\n",
        "pwd\n",
        "status=$?\n",
        "echo \"$status\""
      ],
      "metadata": {
        "colab": {
          "base_uri": "https://localhost:8080/"
        },
        "id": "gW0V2BOclV1-",
        "outputId": "8995ee83-0d33-4da0-baaf-c9a281722252"
      },
      "execution_count": null,
      "outputs": [
        {
          "output_type": "stream",
          "name": "stdout",
          "text": [
            "/content\n",
            "0\n"
          ]
        }
      ]
    },
    {
      "cell_type": "markdown",
      "source": [
        "## Variables\n",
        "\n",
        "Creating a variable and referencing a variable:\n",
        "\n",
        "```\n",
        "variable=value\n",
        "\n",
        "echo $variable\n",
        "\n",
        "or \n",
        "\n",
        "echo ${variable}\n",
        "```\n",
        "\n",
        "\n",
        "we can store the output of a command into a variable using $():\n",
        "\n",
        "```\n",
        "variable=$(command)\n",
        "```\n",
        "\n",
        "By default all variables are global, including that declared inside functions if they are not declared as local. Ex.\n",
        "\n",
        "function(){\n",
        "  local x=0\n",
        "  ...\n",
        "}"
      ],
      "metadata": {
        "id": "8ZObcUfT4Pj9"
      }
    },
    {
      "cell_type": "markdown",
      "source": [
        "## Here Document (multi-line block)\n",
        "\n",
        "Can contain multiline instructions, be redirect as input to another command or send to a file.\n",
        "\n",
        "For scripts, it is also useful for documentation\n",
        "\n",
        "Sintax:\n",
        "\n",
        "```\n",
        "command << DELIMITER\n",
        "Line1\n",
        "Line2\n",
        "Line3\n",
        "LineN\n",
        "DELIMITER\n",
        "```\n",
        "\n"
      ],
      "metadata": {
        "id": "SyIy3IXbY8Jo"
      }
    },
    {
      "cell_type": "code",
      "source": [
        "%%bash\n",
        "cat << EOF\n",
        "Home: $HOME\n",
        "Current Path: $(pwd)\n",
        "EOF"
      ],
      "metadata": {
        "colab": {
          "base_uri": "https://localhost:8080/"
        },
        "id": "13ftuLH8aiLG",
        "outputId": "51bc3eaa-43a3-4afb-e26c-89fd33d8e414"
      },
      "execution_count": null,
      "outputs": [
        {
          "output_type": "stream",
          "name": "stdout",
          "text": [
            "Home: /root\n",
            "Current Path: /content\n"
          ]
        }
      ]
    },
    {
      "cell_type": "code",
      "source": [
        "%%bash\n",
        "cat << EOF > redirect_to_this_file.txt\n",
        "Home: $HOME\n",
        "Current Path: $(pwd)\n",
        "EOF\n",
        "\n",
        "ls -la\n",
        "\n",
        "cat redirect_to_this_file.txt"
      ],
      "metadata": {
        "colab": {
          "base_uri": "https://localhost:8080/"
        },
        "id": "214uGjq_cUCZ",
        "outputId": "3b1c386d-a3f5-4a31-cf2d-dcbea60b53dd"
      },
      "execution_count": null,
      "outputs": [
        {
          "output_type": "stream",
          "name": "stdout",
          "text": [
            "total 20\n",
            "drwxr-xr-x 1 root root 4096 May  6 14:22 .\n",
            "drwxr-xr-x 1 root root 4096 May  6 13:58 ..\n",
            "drwxr-xr-x 4 root root 4096 May  3 13:30 .config\n",
            "-rw-r--r-- 1 root root   35 May  6 14:23 redirect_to_this_file.txt\n",
            "drwxr-xr-x 1 root root 4096 May  3 13:31 sample_data\n",
            "Home: /root\n",
            "Current Path: /content\n"
          ]
        }
      ]
    },
    {
      "cell_type": "markdown",
      "source": [
        "## Here Strings\n",
        "\n",
        "Its similar to Here Documents but is just one line.\n",
        "\n",
        "Sintax:\n",
        "\n",
        "```\n",
        "command <<<string\n",
        "```\n",
        "\n"
      ],
      "metadata": {
        "id": "wJT5hbLCcuIP"
      }
    },
    {
      "cell_type": "code",
      "source": [
        "!python --version"
      ],
      "metadata": {
        "colab": {
          "base_uri": "https://localhost:8080/"
        },
        "id": "TPRPVXwReQNh",
        "outputId": "fdd09e4b-2b26-446f-baa0-45fa32b50a93"
      },
      "execution_count": null,
      "outputs": [
        {
          "output_type": "stream",
          "name": "stdout",
          "text": [
            "Python 3.10.11\n"
          ]
        }
      ]
    },
    {
      "cell_type": "code",
      "execution_count": null,
      "metadata": {
        "id": "UBDOmJyKC3vE",
        "colab": {
          "base_uri": "https://localhost:8080/"
        },
        "outputId": "55dde9f4-77fe-4dcc-ac61-b53515a47974"
      },
      "outputs": [
        {
          "output_type": "stream",
          "name": "stdout",
          "text": [
            "Testing from /root\n",
            "TESTING\n",
            "Python 3.10.11\n"
          ]
        }
      ],
      "source": [
        "%%bash\n",
        "cat <<<\"Testing from $HOME\"\n",
        "\n",
        "tr [a-z] [A-Z] <<<\"Testing\"\n",
        "\n",
        "cat <<<$(python --version)"
      ]
    },
    {
      "cell_type": "markdown",
      "source": [
        "## Arithmetic Operations\n",
        "\n",
        "The default variable type is string. For basic operations it is possible to use bash, but for more complex operations is better to use another language.\n",
        "There main ways to perform math operations:\n",
        "- using (()) # just integers\n",
        "- using bc # integers and float. If not installed run sudo yum install bc -y"
      ],
      "metadata": {
        "id": "MQLhEiXHES5S"
      }
    },
    {
      "cell_type": "code",
      "source": [
        "%%bash\n",
        "sudo apt-get install bc"
      ],
      "metadata": {
        "colab": {
          "base_uri": "https://localhost:8080/"
        },
        "id": "vFt11btRGpxx",
        "outputId": "834ceafc-48c1-4e1f-8f18-cce4a011a14b"
      },
      "execution_count": null,
      "outputs": [
        {
          "output_type": "stream",
          "name": "stdout",
          "text": [
            "Reading package lists...\n",
            "Building dependency tree...\n",
            "Reading state information...\n",
            "The following NEW packages will be installed:\n",
            "  bc\n",
            "0 upgraded, 1 newly installed, 0 to remove and 24 not upgraded.\n",
            "Need to get 86.3 kB of archives.\n",
            "After this operation, 231 kB of additional disk space will be used.\n",
            "Get:1 http://archive.ubuntu.com/ubuntu focal/main amd64 bc amd64 1.07.1-2build1 [86.3 kB]\n",
            "Fetched 86.3 kB in 0s (989 kB/s)\n",
            "Selecting previously unselected package bc.\r\n",
            "(Reading database ... \r(Reading database ... 5%\r(Reading database ... 10%\r(Reading database ... 15%\r(Reading database ... 20%\r(Reading database ... 25%\r(Reading database ... 30%\r(Reading database ... 35%\r(Reading database ... 40%\r(Reading database ... 45%\r(Reading database ... 50%\r(Reading database ... 55%\r(Reading database ... 60%\r(Reading database ... 65%\r(Reading database ... 70%\r(Reading database ... 75%\r(Reading database ... 80%\r(Reading database ... 85%\r(Reading database ... 90%\r(Reading database ... 95%\r(Reading database ... 100%\r(Reading database ... 122518 files and directories currently installed.)\r\n",
            "Preparing to unpack .../bc_1.07.1-2build1_amd64.deb ...\r\n",
            "Unpacking bc (1.07.1-2build1) ...\r\n",
            "Setting up bc (1.07.1-2build1) ...\r\n",
            "Processing triggers for man-db (2.9.1-1) ...\r\n"
          ]
        },
        {
          "output_type": "stream",
          "name": "stderr",
          "text": [
            "debconf: unable to initialize frontend: Dialog\n",
            "debconf: (No usable dialog-like program is installed, so the dialog based frontend cannot be used. at /usr/share/perl5/Debconf/FrontEnd/Dialog.pm line 76, <> line 1.)\n",
            "debconf: falling back to frontend: Readline\n",
            "debconf: unable to initialize frontend: Readline\n",
            "debconf: (This frontend requires a controlling tty.)\n",
            "debconf: falling back to frontend: Teletype\n",
            "dpkg-preconfigure: unable to re-open stdin: \n"
          ]
        }
      ]
    },
    {
      "cell_type": "code",
      "source": [
        "%%bash\n",
        "a=7\n",
        "b=5\n",
        "\n",
        "((sum=a+b))\n",
        "echo $sum\n",
        "\n",
        "((resto=a%b))\n",
        "echo $resto\n",
        "\n",
        "bc<<<\"5.5+2.0\"\n",
        "\n",
        "bc<<<\"scale=2;$a/$b\"\n",
        "\n",
        "division=$(bc<<<\"scale=1;$a/$b\")\n",
        "echo $division"
      ],
      "metadata": {
        "colab": {
          "base_uri": "https://localhost:8080/"
        },
        "id": "BfoHPT2yETSK",
        "outputId": "44d50794-75e5-446e-e22a-d9c337dcb921"
      },
      "execution_count": null,
      "outputs": [
        {
          "output_type": "stream",
          "name": "stdout",
          "text": [
            "12\n",
            "2\n",
            "7.5\n",
            "1.40\n",
            "1.4\n"
          ]
        }
      ]
    },
    {
      "cell_type": "markdown",
      "source": [
        "## Arrays\n",
        "\n",
        "They are zero-based.\n",
        "\n",
        "Sintax:\n",
        "\n",
        "arr=() # empty\n",
        "\n",
        "arr=(elem1 elem2 elemN) # with elements separated by space\n",
        "\n",
        "\n",
        "Another array type is the Associative Array that can have strings as indexes.\n",
        "It is necessary to declare this type of array.\n",
        "Sintax:\n",
        "\n",
        "declare -A arr\n",
        "arr=( [string1]=\"a\" [string2]=\"2\" )"
      ],
      "metadata": {
        "id": "axEMJz92NWn3"
      }
    },
    {
      "cell_type": "code",
      "source": [
        "%%bash\n",
        "x=(1 2 3 4 5 6) # simple array\n",
        "echo ${x[@]} # all elements\n",
        "echo ${#x[@]} # number of elements\n",
        "echo ${!x[@]} # index values of elements\n",
        "echo ${x[3]} # third element\n",
        "echo ${x[-1]} # last element\n",
        "echo ${x[@]:2} # from index 2 until the end\n",
        "echo ${x[@]:1:3} # from index 1 to index 3"
      ],
      "metadata": {
        "colab": {
          "base_uri": "https://localhost:8080/"
        },
        "id": "IfkSPIlPNY8t",
        "outputId": "16214eb8-9c0b-4236-af14-82af62da0fce"
      },
      "execution_count": null,
      "outputs": [
        {
          "output_type": "stream",
          "name": "stdout",
          "text": [
            "1 2 3 4 5 6\n",
            "6\n",
            "0 1 2 3 4 5\n",
            "4\n",
            "6\n",
            "3 4 5 6\n",
            "2 3 4\n"
          ]
        }
      ]
    },
    {
      "cell_type": "code",
      "source": [
        "%%bash\n",
        "x_custom_indexes=([1987]=1 [1983]=2) # custom indexes\n",
        "echo ${x_custom_indexes[1987]} # third element"
      ],
      "metadata": {
        "colab": {
          "base_uri": "https://localhost:8080/"
        },
        "id": "6oQkZ7KLm-75",
        "outputId": "193d4a84-c9ee-49ae-b726-388adec1dc15"
      },
      "execution_count": null,
      "outputs": [
        {
          "output_type": "stream",
          "name": "stdout",
          "text": [
            "1\n"
          ]
        }
      ]
    },
    {
      "cell_type": "code",
      "source": [
        "%%bash\n",
        "date_as_array=( $(date) )\n",
        "echo ${date_as_array[@]}\n",
        "echo ${date_as_array[-1]}"
      ],
      "metadata": {
        "colab": {
          "base_uri": "https://localhost:8080/"
        },
        "id": "TPKkdmoanbnP",
        "outputId": "86d78cd4-c922-4cb2-d548-50f5b01b5396"
      },
      "execution_count": null,
      "outputs": [
        {
          "output_type": "stream",
          "name": "stdout",
          "text": [
            "Sun 07 May 2023 12:32:32 AM UTC\n",
            "UTC\n"
          ]
        }
      ]
    },
    {
      "cell_type": "code",
      "source": [
        "%%bash\n",
        "\n",
        "# add elements\n",
        "x=(1 2 3)\n",
        "x+=(5)\n",
        "echo ${x[@]}"
      ],
      "metadata": {
        "colab": {
          "base_uri": "https://localhost:8080/"
        },
        "id": "jReBRyUgoPkD",
        "outputId": "9f66c1ef-833c-4cb5-97e5-7e554ced3864"
      },
      "execution_count": null,
      "outputs": [
        {
          "output_type": "stream",
          "name": "stdout",
          "text": [
            "1 2 3 5\n"
          ]
        }
      ]
    },
    {
      "cell_type": "code",
      "source": [
        "%%bash\n",
        "\n",
        "# Associative array\n",
        "declare -A arr\n",
        "arr=([string1]=\"a\" [string2]=\"2\")\n",
        "echo ${arr[string1]}"
      ],
      "metadata": {
        "colab": {
          "base_uri": "https://localhost:8080/"
        },
        "id": "wXqFTZwy5iRV",
        "outputId": "05afdbb1-40bf-4275-88e7-55d1e7a63e21"
      },
      "execution_count": null,
      "outputs": [
        {
          "output_type": "stream",
          "name": "stdout",
          "text": [
            "a\n"
          ]
        }
      ]
    },
    {
      "cell_type": "markdown",
      "source": [
        "## Case statement\n",
        "\n",
        "Can test also patterns.\n",
        "\n",
        "```\n",
        "case $option in\n",
        "  opt1) \n",
        "    statements\n",
        "    ;;\n",
        "  opt2) \n",
        "    statements\n",
        "    ;; \n",
        "  *) \n",
        "    statements\n",
        "    ;;\n",
        "esac \n",
        "\n",
        "```\n",
        "\n"
      ],
      "metadata": {
        "id": "dVehjJPDI4sm"
      }
    },
    {
      "cell_type": "code",
      "source": [
        "%%bash\n",
        "a=1\n",
        "case $a in\n",
        "  0) \n",
        "    echo \"It is zero\"\n",
        "    ;;\n",
        "  1) \n",
        "    echo \"It is one\"\n",
        "    ;; \n",
        "  *) \n",
        "    echo \"It is not zero or one\"\n",
        "    ;;\n",
        "esac "
      ],
      "metadata": {
        "colab": {
          "base_uri": "https://localhost:8080/"
        },
        "id": "ZxAYxwIAJVB6",
        "outputId": "9a80a40d-1fcc-4459-8edc-f03eb3a814af"
      },
      "execution_count": null,
      "outputs": [
        {
          "output_type": "stream",
          "name": "stdout",
          "text": [
            "It is one\n"
          ]
        }
      ]
    },
    {
      "cell_type": "code",
      "source": [
        "%%bash\n",
        "a=\"Text\"\n",
        "case $a in\n",
        "  [0-9]*) \n",
        "    echo \"It is a number\"\n",
        "    ;;\n",
        "  [a-zA-z]*) \n",
        "    echo \"It is letter\"\n",
        "    ;; \n",
        "  *) \n",
        "    echo \"It is not number or letter\"\n",
        "    ;;\n",
        "esac "
      ],
      "metadata": {
        "colab": {
          "base_uri": "https://localhost:8080/"
        },
        "id": "oqgmm2caKTVv",
        "outputId": "c2a5d6fb-852b-4f52-b255-e12b2bc7b648"
      },
      "execution_count": null,
      "outputs": [
        {
          "output_type": "stream",
          "name": "stdout",
          "text": [
            "It is letter\n"
          ]
        }
      ]
    },
    {
      "cell_type": "markdown",
      "source": [
        "## If statement\n",
        "\n",
        "Sintax:\n",
        "\n",
        "\n",
        "```\n",
        "if condition \n",
        "then\n",
        "  statement1\n",
        "elif condition 2 \n",
        "then\n",
        "  statement2\n",
        "else\n",
        "  statement3\n",
        "fi\n",
        "```"
      ],
      "metadata": {
        "id": "g6E9nuT_LJB9"
      }
    },
    {
      "cell_type": "code",
      "source": [
        "%%bash\n",
        "a=5\n",
        "b=10\n",
        "\n",
        "if [[ $a -lt 5 ]]\n",
        "then\n",
        "  echo 'lower than 5'\n",
        "elif [[ $a -ge 5 ]] && [[ $b -lt 9 ]] \n",
        "then\n",
        "  echo 'between 5 and 9'\n",
        "else\n",
        "  echo 'greater than 10'\n",
        "fi"
      ],
      "metadata": {
        "colab": {
          "base_uri": "https://localhost:8080/"
        },
        "id": "LGKyoMhbNI5U",
        "outputId": "8270c63c-6094-4adf-8f83-452060f32885"
      },
      "execution_count": null,
      "outputs": [
        {
          "output_type": "stream",
          "name": "stdout",
          "text": [
            "greater than 10\n"
          ]
        }
      ]
    },
    {
      "cell_type": "markdown",
      "source": [
        "## Loops"
      ],
      "metadata": {
        "id": "BBKtq-S7NJ9W"
      }
    },
    {
      "cell_type": "markdown",
      "source": [
        "### For"
      ],
      "metadata": {
        "id": "DHYZKDBdLNSL"
      }
    },
    {
      "cell_type": "code",
      "source": [
        "%%bash\n",
        "list=(1 2 3 4 5)\n",
        "for each in ${list[@]} \n",
        "do\n",
        "  echo \"$each\"\n",
        "done"
      ],
      "metadata": {
        "colab": {
          "base_uri": "https://localhost:8080/"
        },
        "id": "FYSx9asNLLQR",
        "outputId": "720569c7-dcd2-409b-de84-caed91513202"
      },
      "execution_count": null,
      "outputs": [
        {
          "output_type": "stream",
          "name": "stdout",
          "text": [
            "1\n",
            "2\n",
            "3\n",
            "4\n",
            "5\n"
          ]
        }
      ]
    },
    {
      "cell_type": "code",
      "source": [
        "%%bash\n",
        "\n",
        "for each in $(ls)\n",
        "do\n",
        "  echo \"$each\"\n",
        "done"
      ],
      "metadata": {
        "colab": {
          "base_uri": "https://localhost:8080/"
        },
        "id": "QWIbG8W7K9Ii",
        "outputId": "782a7e8e-81c8-4842-e3e4-2329b4eb8e81"
      },
      "execution_count": null,
      "outputs": [
        {
          "output_type": "stream",
          "name": "stdout",
          "text": [
            "sample_data\n"
          ]
        }
      ]
    },
    {
      "cell_type": "code",
      "source": [
        "%%bash\n",
        "\n",
        "# another option \n",
        "for ((cnt=1; cnt<5; cnt++))\n",
        "do\n",
        "  echo \"$cnt\"\n",
        "done"
      ],
      "metadata": {
        "colab": {
          "base_uri": "https://localhost:8080/"
        },
        "id": "XL8jzX0WOXL_",
        "outputId": "33ccedf2-b3ef-42c4-8332-907cc585f728"
      },
      "execution_count": null,
      "outputs": [
        {
          "output_type": "stream",
          "name": "stdout",
          "text": [
            "1\n",
            "2\n",
            "3\n",
            "4\n"
          ]
        }
      ]
    },
    {
      "cell_type": "markdown",
      "source": [
        "### While"
      ],
      "metadata": {
        "id": "qn2Z1dUnLO9g"
      }
    },
    {
      "cell_type": "code",
      "source": [
        "%%bash\n",
        "counter=10\n",
        "\n",
        "while [[ $counter -gt 5 ]]\n",
        "do\n",
        "  echo \"$counter\"\n",
        "  ((counter--))\n",
        "done"
      ],
      "metadata": {
        "colab": {
          "base_uri": "https://localhost:8080/"
        },
        "id": "whV71_EdLV4B",
        "outputId": "e910a862-d262-4b54-b9de-cc6620f366bd"
      },
      "execution_count": null,
      "outputs": [
        {
          "output_type": "stream",
          "name": "stdout",
          "text": [
            "10\n",
            "9\n",
            "8\n",
            "7\n",
            "6\n"
          ]
        }
      ]
    },
    {
      "cell_type": "code",
      "source": [
        "%%bash\n",
        "\n",
        "# Reading a file content\n",
        "\n",
        "while read line\n",
        "do\n",
        "  echo \"$line\"\n",
        "  break\n",
        "done </content/sample_data/README.md"
      ],
      "metadata": {
        "colab": {
          "base_uri": "https://localhost:8080/"
        },
        "id": "xXl686sDLQkV",
        "outputId": "769dad3d-e2c4-4eef-b011-732351b29a84"
      },
      "execution_count": null,
      "outputs": [
        {
          "output_type": "stream",
          "name": "stdout",
          "text": [
            "This directory includes a few sample datasets to get you started.\n"
          ]
        }
      ]
    },
    {
      "cell_type": "code",
      "source": [
        "%%bash\n",
        "\n",
        "# Reading a command output\n",
        "\n",
        "grep \"sample\" /content/sample_data/README.md | while read line\n",
        "do\n",
        "  echo \"$line\"\n",
        "  break\n",
        "done </content/sample_data/README.md"
      ],
      "metadata": {
        "colab": {
          "base_uri": "https://localhost:8080/"
        },
        "id": "OLeVkq_uLai1",
        "outputId": "e58a573f-75ec-4590-b5f4-7b854c1d69bc"
      },
      "execution_count": null,
      "outputs": [
        {
          "output_type": "stream",
          "name": "stdout",
          "text": [
            "This directory includes a few sample datasets to get you started.\n"
          ]
        }
      ]
    },
    {
      "cell_type": "code",
      "source": [
        "%%bash\n",
        "\n",
        "# Reading a command output specifying the IFS (field separator)\n",
        "# IFS= read -r line sets the environment variable IFS (to an empty value) specifically for the execution of read\n",
        "\n",
        "cat /content/sample_data/README.md | while IFS= read -r line;\n",
        "do\n",
        "    echo \"$line\"\n",
        "done"
      ],
      "metadata": {
        "colab": {
          "base_uri": "https://localhost:8080/"
        },
        "id": "Vail2Ai9Vh80",
        "outputId": "d33db732-881c-437b-ccc0-678ec71e213b"
      },
      "execution_count": null,
      "outputs": [
        {
          "output_type": "stream",
          "name": "stdout",
          "text": [
            "This directory includes a few sample datasets to get you started.\n",
            "\n",
            "*   `california_housing_data*.csv` is California housing data from the 1990 US\n",
            "    Census; more information is available at:\n",
            "    https://developers.google.com/machine-learning/crash-course/california-housing-data-description\n",
            "\n",
            "*   `mnist_*.csv` is a small sample of the\n",
            "    [MNIST database](https://en.wikipedia.org/wiki/MNIST_database), which is\n",
            "    described at: http://yann.lecun.com/exdb/mnist/\n",
            "\n",
            "*   `anscombe.json` contains a copy of\n",
            "    [Anscombe's quartet](https://en.wikipedia.org/wiki/Anscombe%27s_quartet); it\n",
            "    was originally described in\n",
            "\n",
            "    Anscombe, F. J. (1973). 'Graphs in Statistical Analysis'. American\n",
            "    Statistician. 27 (1): 17-21. JSTOR 2682899.\n",
            "\n",
            "    and our copy was prepared by the\n",
            "    [vega_datasets library](https://github.com/altair-viz/vega_datasets/blob/4f67bdaad10f45e3549984e17e1b3088c731503d/vega_datasets/_data/anscombe.json).\n"
          ]
        }
      ]
    },
    {
      "cell_type": "code",
      "source": [
        "%%bash\n",
        "\n",
        "# Reading a command output specifying the IFS (field separator)\n",
        "# IFS= read -r line sets the environment variable IFS (to an empty value) specifically for the execution of read\n",
        "\n",
        "echo \"a;b;c;d;e\" | while IFS=\";\" read f1 f2 f3 f4 f5 ;\n",
        "do\n",
        "    echo \"$f2\"\n",
        "done"
      ],
      "metadata": {
        "colab": {
          "base_uri": "https://localhost:8080/"
        },
        "id": "NKhlx0dyXboU",
        "outputId": "ee2172f4-39c2-4043-e12a-78984d94f301"
      },
      "execution_count": null,
      "outputs": [
        {
          "output_type": "stream",
          "name": "stdout",
          "text": [
            "b\n"
          ]
        }
      ]
    },
    {
      "cell_type": "markdown",
      "source": [
        "## Logical Operations (&& (AND), || (OR), !(NOT))\n",
        "\n",
        "\n",
        "** With commands **\n",
        "\n",
        "command 1; command2 # run commands independently\n",
        "\n",
        "command 1 && command2 # run command2 only if command1 execute with success\n",
        "\n",
        "command 1 || command2 # run command2 only if command1 fails\n",
        "\n",
        "\n",
        "\n",
        "** With conditions **\n",
        "\n",
        "Only [[ ]] supports regex. For this use [[ var =~ regex ]]. Ex. if [[ var =~ yes|y ]]\n",
        "\n",
        "if [[ condition1 && condition2 ]] # alternative [ condition1 -a condition2 ]\n",
        "then \n",
        "  statement\n",
        "f1\n",
        "\n",
        "if [[ condition1 || condition2 ]] # alternative [ condition1 -o condition2 ]\n",
        "then \n",
        "  statement\n",
        "f1\n",
        "\n"
      ],
      "metadata": {
        "id": "539q8sssiMDM"
      }
    },
    {
      "cell_type": "code",
      "source": [
        "%%bash\n",
        "\n",
        "pwd; ls\n",
        "\n",
        "pwd && ls\n",
        "\n",
        "pwd || ls"
      ],
      "metadata": {
        "colab": {
          "base_uri": "https://localhost:8080/"
        },
        "id": "K2jNloeqiMUT",
        "outputId": "38067006-a509-43e1-b0af-96baf0c47fe6"
      },
      "execution_count": null,
      "outputs": [
        {
          "output_type": "stream",
          "name": "stdout",
          "text": [
            "/content\n",
            "capitals.txt\n",
            "redirect_to_this_file.txt\n",
            "sample_data\n",
            "states.txt\n",
            "/content\n",
            "capitals.txt\n",
            "redirect_to_this_file.txt\n",
            "sample_data\n",
            "states.txt\n",
            "/content\n"
          ]
        }
      ]
    },
    {
      "cell_type": "code",
      "source": [
        "!which docker || { echo 'Docker is not installed.'; echo 'Test'; }"
      ],
      "metadata": {
        "colab": {
          "base_uri": "https://localhost:8080/"
        },
        "id": "VVFXeITttHKt",
        "outputId": "ae22ddbb-7559-467f-f5ae-1c26075cc0a5"
      },
      "execution_count": null,
      "outputs": [
        {
          "output_type": "stream",
          "name": "stdout",
          "text": [
            "Docker is not installed.\n",
            "Test\n"
          ]
        }
      ]
    },
    {
      "cell_type": "code",
      "source": [
        "!which docker && docker -v || echo 'Docker is not installed.'"
      ],
      "metadata": {
        "colab": {
          "base_uri": "https://localhost:8080/"
        },
        "id": "Ujv_tq6-sZXg",
        "outputId": "2c0266d2-568b-41c6-ced1-51b7f077b4ff"
      },
      "execution_count": null,
      "outputs": [
        {
          "output_type": "stream",
          "name": "stdout",
          "text": [
            "Docker is not installed.\n"
          ]
        }
      ]
    },
    {
      "cell_type": "code",
      "source": [
        "!which docker || echo 'Docker is not installed.'"
      ],
      "metadata": {
        "colab": {
          "base_uri": "https://localhost:8080/"
        },
        "id": "ZVR2wZD4sCmI",
        "outputId": "daaef8f6-53f7-4167-8eaa-e9d632d716c2"
      },
      "execution_count": null,
      "outputs": [
        {
          "output_type": "stream",
          "name": "stdout",
          "text": [
            "Docker is not installed.\n"
          ]
        }
      ]
    },
    {
      "cell_type": "markdown",
      "source": [
        "## Comparison operators\n",
        "\n",
        "**For numbers:**\n",
        "\n",
        "[[ int1 -eq int2 ]] # equal\n",
        "\n",
        "[[ !int1 -eq int2 ]] # notequal\n",
        "\n",
        "[[ int1 -ne int2 ]] # not equal\n",
        "\n",
        "[[ int1 -lt int2 ]] # lower than\n",
        "\n",
        "[[ int1 -gt int2 ]] # greather than\n",
        "\n",
        "[[ int1 -ge int2 ]] # greather than or equal\n",
        "\n",
        "**For strings:**\n",
        "\n",
        "[[ -z string ]] # return true if string's length is zero\n",
        "\n",
        "[[ -n string ]] # return true if string's length is non zero\n",
        "\n",
        "[[ string1 == string2 ]] # return true strings are equal\n",
        "\n",
        "[[ string1 != string2 ]] # return true strings are different\n",
        "\n",
        "**For files:**\n",
        "\n",
        "[[ -d file ]] # return true if the path is a directory\n",
        "\n",
        "[[ -f file ]] # return true if the path is a file\n",
        "\n",
        "[[ -e file ]] # return true if the path exists\n",
        "\n",
        "[[ -r file ]] # return true if the path is a readable\n",
        "\n",
        "[[ -w file ]] # return true if the path is a writable\n",
        "\n",
        "[[ -d file ]] # return true if the path is a executable"
      ],
      "metadata": {
        "id": "Vow4OYcMMwr0"
      }
    },
    {
      "cell_type": "code",
      "source": [
        "%%bash\n",
        "test 4 -eq 4\n",
        "echo $?\n",
        "\n",
        "test 4 -eq 5\n",
        "echo $?\n",
        "\n",
        "[[ 4 -eq 4 ]]\n",
        "echo $?\n",
        "\n",
        "x=\"\"\n",
        "[[ -z $x ]]\n",
        "echo $?"
      ],
      "metadata": {
        "colab": {
          "base_uri": "https://localhost:8080/"
        },
        "id": "7clJUU6gkBdH",
        "outputId": "b1c98790-c389-47f6-c988-44dc0d92d5a3"
      },
      "execution_count": null,
      "outputs": [
        {
          "output_type": "stream",
          "name": "stdout",
          "text": [
            "0\n",
            "1\n",
            "0\n",
            "0\n"
          ]
        }
      ]
    },
    {
      "cell_type": "markdown",
      "source": [
        "## Functions\n",
        "\n",
        "```\n",
        "function_name() {\n",
        "  commands/statements\n",
        "}\n",
        "\n",
        "To return a result from a function use the key word result or echo. Ex:\n",
        "\n",
        "sum() {\n",
        "  local sum=$(($1 + $2))\n",
        "  echo $sum\n",
        "}\n",
        "\n",
        "result=$(function_name 10 15)\n",
        "\n",
        "```\n",
        "\n"
      ],
      "metadata": {
        "id": "xQYOD_JTNiMu"
      }
    },
    {
      "cell_type": "code",
      "source": [
        "%%bash\n",
        "sum=0\n",
        "sum_two_numbers(){\n",
        "  local only_local=0\n",
        "  echo \"Sum $1 $2\"\n",
        "  sum=$(($1 + $2))\n",
        "  echo \"Local var accessible inside function: $only_local\"\n",
        "}\n",
        "\n",
        "sum_two_numbers 10 5\n",
        "echo \"Result global var sum: $sum\"\n",
        "echo \"Local var not accessible outside function: $only_local\""
      ],
      "metadata": {
        "id": "Q43_l5-yM0Pz",
        "colab": {
          "base_uri": "https://localhost:8080/"
        },
        "outputId": "0cac312d-9dec-415e-fbc3-2f9d3cd388a2"
      },
      "execution_count": null,
      "outputs": [
        {
          "output_type": "stream",
          "name": "stdout",
          "text": [
            "Sum 10 5\n",
            "Local var accessible inside function: 0\n",
            "Result global var sum: 15\n",
            "Local var not accessible outside function: \n"
          ]
        }
      ]
    },
    {
      "cell_type": "code",
      "source": [
        "%%bash\n",
        "\n",
        "# returning with echo\n",
        "sum() {\n",
        "  local sum=$(($1 + $2))\n",
        "  echo $sum\n",
        "}\n",
        "\n",
        "result=$(sum 10 15)\n",
        "echo $result"
      ],
      "metadata": {
        "colab": {
          "base_uri": "https://localhost:8080/"
        },
        "id": "hDHF59_8p0Yg",
        "outputId": "0ee391c8-8dec-4065-890f-b45187ea023f"
      },
      "execution_count": null,
      "outputs": [
        {
          "output_type": "stream",
          "name": "stdout",
          "text": [
            "25\n"
          ]
        }
      ]
    },
    {
      "cell_type": "code",
      "source": [
        "%%bash\n",
        "\n",
        "# returning with return. This is supported just for return of integers numbers\n",
        "sum() {\n",
        "  local sum=$(($1 + $2))\n",
        "  return $sum\n",
        "}\n",
        "\n",
        "sum 10 15\n",
        "echo \"Returned value: $?\""
      ],
      "metadata": {
        "colab": {
          "base_uri": "https://localhost:8080/"
        },
        "id": "FO9Y3HCMqTyY",
        "outputId": "22fdf9ae-87fd-4aad-a97c-57ededf1cf56"
      },
      "execution_count": null,
      "outputs": [
        {
          "output_type": "stream",
          "name": "stdout",
          "text": [
            "Returned value: 25\n"
          ]
        }
      ]
    }
  ]
}