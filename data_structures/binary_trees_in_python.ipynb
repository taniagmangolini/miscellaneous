{
  "nbformat": 4,
  "nbformat_minor": 0,
  "metadata": {
    "colab": {
      "provenance": []
    },
    "kernelspec": {
      "name": "python3",
      "display_name": "Python 3"
    },
    "language_info": {
      "name": "python"
    }
  },
  "cells": [
    {
      "cell_type": "code",
      "execution_count": 44,
      "metadata": {
        "colab": {
          "base_uri": "https://localhost:8080/"
        },
        "id": "Kmy6nLmTD4jU",
        "outputId": "0d16b88a-dad2-490a-b2a8-6fc7538088b2"
      },
      "outputs": [
        {
          "output_type": "stream",
          "name": "stdout",
          "text": [
            "Found it!\n",
            "<__main__.Node object at 0x7fc102e9afa0>\n"
          ]
        }
      ],
      "source": [
        "# Binary Tree\n",
        "\n",
        "class Node:\n",
        "  def __init__(self, data):\n",
        "    self.data = data\n",
        "    self.left = None\n",
        "    self.right = None\n",
        "\n",
        "  def search(self, target):\n",
        "    if self.data == target:\n",
        "      print('Found it!')\n",
        "      return self\n",
        "      \n",
        "    if self.left and self.data > target:\n",
        "      return self.left.search(target)\n",
        "\n",
        "    if self.right and self.data < target:\n",
        "      return self.right.search(target)\n",
        "      \n",
        "    print('Not found!')\n",
        "\n",
        "  def add(self, data):\n",
        "    if self.data == data:\n",
        "      # duplication\n",
        "      return\n",
        "\n",
        "    if data < self.data:\n",
        "      if self.left is None:\n",
        "        self.left = Node(data)\n",
        "      else:\n",
        "        self.left.add(data)\n",
        "      \n",
        "    if data > self.data:\n",
        "      if self.right is None:\n",
        "        self.right = Node(data)\n",
        "      else:\n",
        "        self.right.add(data)\n",
        "\n",
        "  def find_minimum(self):\n",
        "    if self.left:\n",
        "      return self.left.find_minimum()\n",
        "    return self.data\n",
        "\n",
        "  def delete(self, target):\n",
        "    if self.data == target:\n",
        "      if self.left and self.right:\n",
        "        #RTFM\n",
        "        # find the minimum\n",
        "        min_value = self.right.find_minimum()\n",
        "        # copy the value\n",
        "        self.data = min_value\n",
        "        # delete the duplication\n",
        "        self.right = self.right.delete(min_value)\n",
        "        return self\n",
        "      else:\n",
        "        return self.left or self.right\n",
        "\n",
        "    if self.left and self.data > target:\n",
        "      self.left = self.left.delete(target)\n",
        "\n",
        "    if self.right and self.data < target:\n",
        "      self.right = self.right.delete(target)\n",
        "\n",
        "    return self\n",
        "\n",
        "  def transversePreOrder(self):\n",
        "    \"\"\"Transverse the tree using the pre order strategy\n",
        "    https://www.geeksforgeeks.org/tree-traversals-inorder-preorder-and-postorder/\n",
        "    \"\"\"\n",
        "    # call first the current and then the left and right nodes\n",
        "    print(self.data)\n",
        "    if self.left:\n",
        "      self.left.transversePreOrder()\n",
        "    if self.right:\n",
        "      self.right.transversePreOrder()\n",
        "\n",
        "  def transverseInOrder(self):\n",
        "    \"\"\"Transverse the tree using the in order strategy.\n",
        "    This means to transverse from the smallest to the largest.\n",
        "    The smaller is on the left of the current node\"\"\"\n",
        "    # call first all nodes at the left before call nodes at the right\n",
        "    if self.left:\n",
        "      self.left.transverseInOrder()\n",
        "    print(self.data)\n",
        "    if self.right:\n",
        "      self.right.transverseInOrder()\n",
        "    \n",
        "  def transversePostOrder(self):\n",
        "    \"\"\"Transverse the tree using the post order strategy\"\"\"\n",
        "    # first call nodes at the left, right and finally the current node.\n",
        "    if self.left:\n",
        "      self.left.transversePostOrder()\n",
        "    if self.right:\n",
        "      self.right.transversePostOrder()\n",
        "    print(self.data)\n",
        "\n",
        "  def height(self, h):\n",
        "    \"\"\"Return how many level exists (depth).\"\"\"\n",
        "    left_height = self.left.height(h+1) if self.left else h\n",
        "    right_right = self.right.height(h+1) if self.right else h\n",
        "    return max(left_height, right_right)\n",
        "\n",
        "  def get_nodes_at_depth(self, depth, nodes):\n",
        "    if depth == 0:\n",
        "      nodes.append(self.data)\n",
        "      return nodes\n",
        "    if self.left:\n",
        "      self.left.get_nodes_at_depth(depth-1, nodes)\n",
        "    else:\n",
        "      nodes.extend([None]*2**(depth-1)) # fill gaps with None\n",
        "    if self.right:\n",
        "      self.right.get_nodes_at_depth(depth-1, nodes)\n",
        "    else:\n",
        "      nodes.extend([None]*2**(depth-1))\n",
        "    return nodes\n",
        "\n",
        "  def is_unbalanced(self, h):\n",
        "    left_height = self.left.height(h) + 1 if self.left else 0\n",
        "    right_height = self.right.height(h) + 1 if self.right else 0\n",
        "    return abs(left_height - right_height) >= 2\n",
        "\n",
        "class Tree:\n",
        "  def __init__(self, root, name=''):\n",
        "    self.root = root\n",
        "    self.name = name\n",
        "  \n",
        "  def search(self, target):\n",
        "    return self.root.search(target)\n",
        "\n",
        "  def add(self, data):\n",
        "    return self.root.add(data)\n",
        "\n",
        "  def delete(self, target):\n",
        "    return self.root.delete(target)\n",
        "\n",
        "  def transversePreOrder(self):\n",
        "    return self.root.transversePreOrder()\n",
        "\n",
        "  def transverseInOrder(self):\n",
        "    return self.root.transverseInOrder()\n",
        "\n",
        "  def transversePostOrder(self):\n",
        "    return self.root.transversePostOrder()\n",
        "  \n",
        "  def height(self, h):\n",
        "    #Ideally, trees should have a height of floor(log2(n)), where n is the number of nodes in the tree.\n",
        "    return self.root.height(h)\n",
        "\n",
        "  def get_nodes_at_depth(self, depth, nodes):\n",
        "    return self.root.get_nodes_at_depth(depth, nodes)\n",
        "\n",
        "  def is_unbalanced(self, h):\n",
        "    return self.root.is_unbalanced(h)\n",
        "\n",
        "  def _nodeToChar(self, n, spacing):\n",
        "    if n is None:\n",
        "      return '_'+(' '*spacing)\n",
        "    spacing = spacing - len(str(n)) + 1\n",
        "    return str(n) + (' '*spacing)\n",
        "\n",
        "  def show_tree(self):\n",
        "    height = self.root.height(0)\n",
        "    spacing = 3\n",
        "    width = int((2**height-1) * (spacing+1) + 1)\n",
        "    offset = int((width-1)/2)\n",
        "    for depth in range(0, height+1):\n",
        "      if depth > 0:\n",
        "        print(' '*(offset+1) + (' '*(spacing+2)).join(['/' + (' '*(spacing-2)) + '\\\\']*(2**(depth-1))))\n",
        "      row = self.root.get_nodes_at_depth(depth, [])\n",
        "      print((' '*offset)+''.join([self._nodeToChar(n, spacing) for n in row]))\n",
        "      spacing = offset + 1\n",
        "      offset = int(offset/2) - 1\n",
        "    print('')\n",
        "\n",
        "\n",
        "node = Node(10)\n",
        "node.left = Node(5)\n",
        "node.right = Node(15)\n",
        "node.left.left = Node(2)\n",
        "node.left.right = Node(6)\n",
        "node.right.right = Node(20)\n",
        "node.right.left = Node(13)\n",
        "\n",
        "my_tree = Tree(root=node, name='My tree')\n",
        "\n",
        "# searching in the tree\n",
        "found = my_tree.search(13)\n",
        "print(found)"
      ]
    },
    {
      "cell_type": "code",
      "source": [
        "# Transverse the tree\n",
        "print('Transverse Pre-Order')\n",
        "my_tree.transversePreOrder()\n",
        "\n",
        "print('Transverse In-Order')\n",
        "my_tree.transverseInOrder()\n",
        "\n",
        "print('Transverse Post-Order')\n",
        "my_tree.transversePostOrder()"
      ],
      "metadata": {
        "id": "_0PgYDYGIYhs",
        "colab": {
          "base_uri": "https://localhost:8080/"
        },
        "outputId": "1ae25c86-510f-41d4-aec4-b8e627b54cd2"
      },
      "execution_count": 45,
      "outputs": [
        {
          "output_type": "stream",
          "name": "stdout",
          "text": [
            "Transverse Pre-Order\n",
            "10\n",
            "5\n",
            "2\n",
            "6\n",
            "15\n",
            "13\n",
            "20\n",
            "Transverse In-Order\n",
            "2\n",
            "5\n",
            "6\n",
            "10\n",
            "13\n",
            "15\n",
            "20\n",
            "Transverse Post-Order\n",
            "2\n",
            "6\n",
            "5\n",
            "13\n",
            "20\n",
            "15\n",
            "10\n"
          ]
        }
      ]
    },
    {
      "cell_type": "code",
      "source": [
        "# Calc the maximum depth\n",
        "\n",
        "print(my_tree.height(0))\n"
      ],
      "metadata": {
        "id": "D35wU3SsH-go",
        "colab": {
          "base_uri": "https://localhost:8080/"
        },
        "outputId": "96de1655-1fdb-48d5-fe1a-b440c7fb9eb6"
      },
      "execution_count": 53,
      "outputs": [
        {
          "output_type": "stream",
          "name": "stdout",
          "text": [
            "2\n"
          ]
        }
      ]
    },
    {
      "cell_type": "code",
      "source": [
        "# Get nodes at a particular depth\n",
        "print(my_tree.get_nodes_at_depth(2, []))"
      ],
      "metadata": {
        "colab": {
          "base_uri": "https://localhost:8080/"
        },
        "id": "yVUSBQh8nw9U",
        "outputId": "e34fec55-aec3-448b-9b53-7a31510920e2"
      },
      "execution_count": 54,
      "outputs": [
        {
          "output_type": "stream",
          "name": "stdout",
          "text": [
            "[2, 8, 13, 20]\n"
          ]
        }
      ]
    },
    {
      "cell_type": "code",
      "source": [
        "# Show trees\n",
        "my_tree.show_tree()"
      ],
      "metadata": {
        "colab": {
          "base_uri": "https://localhost:8080/"
        },
        "id": "DdtsfSSVuKZ5",
        "outputId": "90766ff6-20e4-43d4-9bf0-7bb3ee5564d5"
      },
      "execution_count": 55,
      "outputs": [
        {
          "output_type": "stream",
          "name": "stdout",
          "text": [
            "      10  \n",
            "   /     \\\n",
            "  5       15      \n",
            " / \\     / \\\n",
            "2   8   13  20  \n",
            "\n"
          ]
        }
      ]
    },
    {
      "cell_type": "code",
      "source": [
        "# adding nodes\n",
        "my_tree.add(8)\n",
        "my_tree.show_tree()"
      ],
      "metadata": {
        "colab": {
          "base_uri": "https://localhost:8080/"
        },
        "id": "XODSqiFgNvt7",
        "outputId": "587a91e4-ae8b-4203-9ccd-f9fdf143eaeb"
      },
      "execution_count": 56,
      "outputs": [
        {
          "output_type": "stream",
          "name": "stdout",
          "text": [
            "      10  \n",
            "   /     \\\n",
            "  5       15      \n",
            " / \\     / \\\n",
            "2   8   13  20  \n",
            "\n"
          ]
        }
      ]
    },
    {
      "cell_type": "code",
      "source": [
        "# adding nodes\n",
        "my_tree.add(25)\n",
        "my_tree.show_tree()"
      ],
      "metadata": {
        "colab": {
          "base_uri": "https://localhost:8080/"
        },
        "id": "FjS_qg3q-dCe",
        "outputId": "e8325de2-3066-459b-e821-137bbaec24a0"
      },
      "execution_count": 70,
      "outputs": [
        {
          "output_type": "stream",
          "name": "stdout",
          "text": [
            "              15  \n",
            "       /             \\\n",
            "      5               20              \n",
            "   /     \\         /     \\\n",
            "  2       8       _       25      \n",
            " / \\     / \\     / \\     / \\\n",
            "_   _   _   _   _   _   _   45  \n",
            "\n"
          ]
        }
      ]
    },
    {
      "cell_type": "code",
      "source": [
        "# adding nodes\n",
        "my_tree.add(45)\n",
        "my_tree.show_tree()"
      ],
      "metadata": {
        "colab": {
          "base_uri": "https://localhost:8080/"
        },
        "id": "6Xr0zzSY-g77",
        "outputId": "149112a3-d951-4656-cad0-e7470f06ee0d"
      },
      "execution_count": 67,
      "outputs": [
        {
          "output_type": "stream",
          "name": "stdout",
          "text": [
            "              15  \n",
            "       /             \\\n",
            "      5               20              \n",
            "   /     \\         /     \\\n",
            "  2       8       _       25      \n",
            " / \\     / \\     / \\     / \\\n",
            "_   _   _   _   _   _   _   45  \n",
            "\n"
          ]
        }
      ]
    },
    {
      "cell_type": "code",
      "source": [
        "# Unbalanced trees: if one of the tree's sides has a max depth twice or more levels greater than the other side. \n",
        "# For instance: if left has max depth 1 and right has max depth 3.\n",
        "# unbalanced trees can affect performance\n",
        "print(my_tree.is_unbalanced(0))"
      ],
      "metadata": {
        "colab": {
          "base_uri": "https://localhost:8080/"
        },
        "id": "TZkBXDVD-n-X",
        "outputId": "24286303-f45b-4baf-adad-224b960c0610"
      },
      "execution_count": 60,
      "outputs": [
        {
          "output_type": "stream",
          "name": "stdout",
          "text": [
            "True\n"
          ]
        }
      ]
    },
    {
      "cell_type": "code",
      "source": [
        "# deleting nodes: there is 3 cases: \n",
        "# 1. No child (just remove the node)\n",
        "# 2. One child (the child becomes the parent)\n",
        "# 3. Two children (RTFM: Right Tree Find Minimum): ind the minimum value in the right tree, copy it value to target and delete the duplication from the right tree\n",
        "# https://www.youtube.com/watch?v=gcULXE7ViZw\n",
        "my_tree.delete(6)\n",
        "my_tree.show_tree()"
      ],
      "metadata": {
        "colab": {
          "base_uri": "https://localhost:8080/"
        },
        "id": "tHu_R4Togmbt",
        "outputId": "ee7792d7-7845-4c8f-f6b7-833ce0a79ea9"
      },
      "execution_count": 61,
      "outputs": [
        {
          "output_type": "stream",
          "name": "stdout",
          "text": [
            "                              10  \n",
            "               /                             \\\n",
            "              5                               15                              \n",
            "       /             \\                 /             \\\n",
            "      2               8               13              20              \n",
            "   /     \\         /     \\         /     \\         /     \\\n",
            "  _       _       _       _       _       _       _       25      \n",
            " / \\     / \\     / \\     / \\     / \\     / \\     / \\     / \\\n",
            "_   _   _   _   _   _   _   _   _   _   _   _   _   _   _   45  \n",
            "\n"
          ]
        }
      ]
    },
    {
      "cell_type": "code",
      "source": [
        "my_tree.delete(10)\n",
        "my_tree.show_tree()"
      ],
      "metadata": {
        "colab": {
          "base_uri": "https://localhost:8080/"
        },
        "id": "9QaQAeNIt9R8",
        "outputId": "7143e8e9-007e-4ae3-cce5-7eb705c65523"
      },
      "execution_count": 62,
      "outputs": [
        {
          "output_type": "stream",
          "name": "stdout",
          "text": [
            "                              13  \n",
            "               /                             \\\n",
            "              5                               15                              \n",
            "       /             \\                 /             \\\n",
            "      2               8               _               20              \n",
            "   /     \\         /     \\         /     \\         /     \\\n",
            "  _       _       _       _       _       _       _       25      \n",
            " / \\     / \\     / \\     / \\     / \\     / \\     / \\     / \\\n",
            "_   _   _   _   _   _   _   _   _   _   _   _   _   _   _   45  \n",
            "\n"
          ]
        }
      ]
    },
    {
      "cell_type": "code",
      "source": [
        "my_tree.delete(13)\n",
        "my_tree.show_tree()"
      ],
      "metadata": {
        "colab": {
          "base_uri": "https://localhost:8080/"
        },
        "id": "A6EqtkeB-HJy",
        "outputId": "a2e26709-145a-48ff-aedc-0c374a54cc36"
      },
      "execution_count": 63,
      "outputs": [
        {
          "output_type": "stream",
          "name": "stdout",
          "text": [
            "              15  \n",
            "       /             \\\n",
            "      5               20              \n",
            "   /     \\         /     \\\n",
            "  2       8       _       25      \n",
            " / \\     / \\     / \\     / \\\n",
            "_   _   _   _   _   _   _   45  \n",
            "\n"
          ]
        }
      ]
    },
    {
      "cell_type": "code",
      "source": [
        "print(my_tree.is_unbalanced(0))"
      ],
      "metadata": {
        "colab": {
          "base_uri": "https://localhost:8080/"
        },
        "id": "ysPz7kHG-u-S",
        "outputId": "0a1a970f-1a3b-4765-82c6-403498b2c7d3"
      },
      "execution_count": 64,
      "outputs": [
        {
          "output_type": "stream",
          "name": "stdout",
          "text": [
            "False\n"
          ]
        }
      ]
    },
    {
      "cell_type": "code",
      "source": [],
      "metadata": {
        "colab": {
          "base_uri": "https://localhost:8080/"
        },
        "id": "zI0AUHTuuJzj",
        "outputId": "3bb58bfe-8c67-4e45-811f-82f97f80d92a"
      },
      "execution_count": 59,
      "outputs": [
        {
          "output_type": "stream",
          "name": "stdout",
          "text": [
            "True\n"
          ]
        }
      ]
    }
  ]
}