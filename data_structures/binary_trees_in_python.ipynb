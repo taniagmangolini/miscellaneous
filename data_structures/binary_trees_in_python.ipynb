{
  "nbformat": 4,
  "nbformat_minor": 0,
  "metadata": {
    "colab": {
      "provenance": []
    },
    "kernelspec": {
      "name": "python3",
      "display_name": "Python 3"
    },
    "language_info": {
      "name": "python"
    }
  },
  "cells": [
    {
      "cell_type": "code",
      "execution_count": null,
      "metadata": {
        "colab": {
          "base_uri": "https://localhost:8080/"
        },
        "id": "Kmy6nLmTD4jU",
        "outputId": "baedd54b-5f3c-40e7-b069-bffd36e7ce5f"
      },
      "outputs": [
        {
          "output_type": "stream",
          "name": "stdout",
          "text": [
            "Found it!\n",
            "<__main__.Node object at 0x7f249cbb8220>\n"
          ]
        }
      ],
      "source": [
        "# Binary Tree\n",
        "\n",
        "class Node:\n",
        "  def __init__(self, data):\n",
        "    self.data = data\n",
        "    self.left = None\n",
        "    self.right = None\n",
        "\n",
        "  def search(self, target):\n",
        "    if self.data == target:\n",
        "      print('Found it!')\n",
        "      return self\n",
        "      \n",
        "    if self.left and self.data > target:\n",
        "      return self.left.search(target)\n",
        "\n",
        "    if self.right and self.data < target:\n",
        "      return self.right.search(target)\n",
        "      \n",
        "    print('Not found!')\n",
        "\n",
        "  def transversePreOrder(self):\n",
        "    \"\"\"Transverse the tree using the pre order strategy\n",
        "    https://www.geeksforgeeks.org/tree-traversals-inorder-preorder-and-postorder/\n",
        "    \"\"\"\n",
        "    # call first the current and then the left and right nodes\n",
        "    print(self.data)\n",
        "    if self.left:\n",
        "      self.left.transversePreOrder()\n",
        "    if self.right:\n",
        "      self.right.transversePreOrder()\n",
        "\n",
        "  def transverseInOrder(self):\n",
        "    \"\"\"Transverse the tree using the in order strategy.\n",
        "    This means to transverse from the smallest to the largest.\n",
        "    The smaller is on the left of the current node\"\"\"\n",
        "    # call first all nodes at the left before call nodes at the right\n",
        "    if self.left:\n",
        "      self.left.transverseInOrder()\n",
        "    print(self.data)\n",
        "    if self.right:\n",
        "      self.right.transverseInOrder()\n",
        "    \n",
        "  def transversePostOrder(self):\n",
        "    \"\"\"Transverse the tree using the post order strategy\"\"\"\n",
        "    # first call nodes at the left, right and finally the current node.\n",
        "    if self.left:\n",
        "      self.left.transversePostOrder()\n",
        "    if self.right:\n",
        "      self.right.transversePostOrder()\n",
        "    print(self.data)\n",
        "\n",
        "  def height(self, h):\n",
        "    \"\"\"Return how many level exists (depth).\"\"\"\n",
        "    left_height = self.left.height(h+1) if self.left else h\n",
        "    right_right = self.right.height(h+1) if self.right else h\n",
        "    return max(left_height, right_right)\n",
        "\n",
        "  def get_nodes_at_depth(self, depth, nodes):\n",
        "    if depth == 0:\n",
        "      nodes.append(self.data)\n",
        "      return nodes\n",
        "    if self.left:\n",
        "      self.left.get_nodes_at_depth(depth-1, nodes)\n",
        "    else:\n",
        "      nodes.extend([None]*2**(depth-1)) # fill gaps with None\n",
        "    if self.right:\n",
        "      self.right.get_nodes_at_depth(depth-1, nodes)\n",
        "    else:\n",
        "      nodes.extend([None]*2**(depth-1))\n",
        "    return nodes\n",
        "\n",
        "\n",
        "class Tree:\n",
        "  def __init__(self, root, name=''):\n",
        "    self.root = root\n",
        "    self.name = name\n",
        "  \n",
        "  def search(self, target):\n",
        "    return self.root.search(target)\n",
        "\n",
        "  def transversePreOrder(self):\n",
        "    return self.root.transversePreOrder()\n",
        "\n",
        "  def transverseInOrder(self):\n",
        "    return self.root.transverseInOrder()\n",
        "\n",
        "  def transversePostOrder(self):\n",
        "    return self.root.transversePostOrder()\n",
        "  \n",
        "  def height(self, h):\n",
        "    return self.root.height(h)\n",
        "\n",
        "  def get_nodes_at_depth(self, depth, nodes):\n",
        "    return self.root.get_nodes_at_depth(depth, nodes)\n",
        "\n",
        "  def _nodeToChar(self, n, spacing):\n",
        "    if n is None:\n",
        "      return '_'+(' '*spacing)\n",
        "    spacing = spacing - len(str(n)) + 1\n",
        "    return str(n) + (' '*spacing)\n",
        "\n",
        "  def show_tree(self):\n",
        "    height = self.root.height(0)\n",
        "    spacing = 3\n",
        "    width = int((2**height-1) * (spacing+1) + 1)\n",
        "    offset = int((width-1)/2)\n",
        "    for depth in range(0, height+1):\n",
        "      if depth > 0:\n",
        "        print(' '*(offset+1) + (' '*(spacing+2)).join(['/' + (' '*(spacing-2)) + '\\\\']*(2**(depth-1))))\n",
        "      row = self.root.get_nodes_at_depth(depth, [])\n",
        "      print((' '*offset)+''.join([self._nodeToChar(n, spacing) for n in row]))\n",
        "      spacing = offset + 1\n",
        "      offset = int(offset/2) - 1\n",
        "    print('')\n",
        "\n",
        "\n",
        "node = Node(10)\n",
        "node.left = Node(5)\n",
        "node.right = Node(15)\n",
        "node.left.left = Node(2)\n",
        "node.left.right = Node(6)\n",
        "node.right.right = Node(20)\n",
        "node.right.left = Node(13)\n",
        "\n",
        "my_tree = Tree(root=node, name='My tree')\n",
        "\n",
        "# searching in the tree\n",
        "found = my_tree.search(13)\n",
        "print(found)"
      ]
    },
    {
      "cell_type": "code",
      "source": [
        "# Transverse the tree\n",
        "print('Transverse Pre-Order')\n",
        "my_tree.transversePreOrder()\n",
        "\n",
        "print('Transverse In-Order')\n",
        "my_tree.transverseInOrder()\n",
        "\n",
        "print('Transverse Post-Order')\n",
        "my_tree.transversePostOrder()"
      ],
      "metadata": {
        "id": "_0PgYDYGIYhs",
        "colab": {
          "base_uri": "https://localhost:8080/"
        },
        "outputId": "02977776-dbc3-4a05-b102-e2337a81ea65"
      },
      "execution_count": null,
      "outputs": [
        {
          "output_type": "stream",
          "name": "stdout",
          "text": [
            "Transverse Pre-Order\n",
            "10\n",
            "5\n",
            "2\n",
            "6\n",
            "15\n",
            "13\n",
            "20\n",
            "Transverse In-Order\n",
            "2\n",
            "5\n",
            "6\n",
            "10\n",
            "13\n",
            "15\n",
            "20\n",
            "Transverse Post-Order\n",
            "2\n",
            "6\n",
            "5\n",
            "13\n",
            "20\n",
            "15\n",
            "10\n"
          ]
        }
      ]
    },
    {
      "cell_type": "code",
      "source": [
        "# Calc the maximum depth\n",
        "\n",
        "print(my_tree.height(0))\n"
      ],
      "metadata": {
        "id": "D35wU3SsH-go",
        "colab": {
          "base_uri": "https://localhost:8080/"
        },
        "outputId": "65bcd8ad-b271-4c1f-9b9d-7d162ff1124a"
      },
      "execution_count": null,
      "outputs": [
        {
          "output_type": "stream",
          "name": "stdout",
          "text": [
            "2\n"
          ]
        }
      ]
    },
    {
      "cell_type": "code",
      "source": [
        "# Get nodes at a particular depth\n",
        "print(my_tree.get_nodes_at_depth(2, []))"
      ],
      "metadata": {
        "colab": {
          "base_uri": "https://localhost:8080/"
        },
        "id": "yVUSBQh8nw9U",
        "outputId": "8e5b23c5-5407-4b6a-c6ef-05e3f6e0209b"
      },
      "execution_count": null,
      "outputs": [
        {
          "output_type": "stream",
          "name": "stdout",
          "text": [
            "[2, 6, 13, 20]\n"
          ]
        }
      ]
    },
    {
      "cell_type": "code",
      "source": [
        "# Show trees\n",
        "my_tree.show_tree()"
      ],
      "metadata": {
        "colab": {
          "base_uri": "https://localhost:8080/"
        },
        "id": "DdtsfSSVuKZ5",
        "outputId": "0a5bdb54-d609-48ac-84c3-2fb1ceddef41"
      },
      "execution_count": null,
      "outputs": [
        {
          "output_type": "stream",
          "name": "stdout",
          "text": [
            "      10  \n",
            "   /     \\\n",
            "  5       15      \n",
            " / \\     / \\\n",
            "2   6   13  20  \n",
            "\n"
          ]
        }
      ]
    }
  ]
}